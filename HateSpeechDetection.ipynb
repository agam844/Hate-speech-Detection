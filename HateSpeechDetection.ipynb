{
  "cells": [
    {
      "cell_type": "code",
      "execution_count": null,
      "id": "f68753a9",
      "metadata": {
        "colab": {
          "base_uri": "https://localhost:8080/"
        },
        "id": "f68753a9",
        "outputId": "26c87f01-e36f-4faa-e292-7a039a2739fe"
      },
      "outputs": [
        {
          "output_type": "stream",
          "name": "stderr",
          "text": [
            "[nltk_data] Downloading package stopwords to /root/nltk_data...\n",
            "[nltk_data]   Unzipping corpora/stopwords.zip.\n",
            "[nltk_data] Downloading package punkt to /root/nltk_data...\n",
            "[nltk_data]   Unzipping tokenizers/punkt.zip.\n"
          ]
        }
      ],
      "source": [
        "import pandas as pd\n",
        "import numpy as np\n",
        "import matplotlib.pyplot as plt\n",
        "import re\n",
        "from collections import Counter\n",
        "import spacy\n",
        "import nltk\n",
        "from nltk.corpus import stopwords\n",
        "import math\n",
        "from sklearn.feature_extraction.text import TfidfVectorizer\n",
        "from sklearn.metrics import confusion_matrix\n",
        "from sklearn.cluster import KMeans\n",
        "from sklearn.dummy import DummyClassifier\n",
        "from sklearn.preprocessing import OneHotEncoder\n",
        "from sklearn.svm import SVC\n",
        "from sklearn.tree import DecisionTreeClassifier\n",
        "from sklearn.linear_model import LogisticRegression\n",
        "from sklearn.pipeline import Pipeline\n",
        "from sklearn.feature_extraction.text import CountVectorizer, TfidfVectorizer\n",
        "from sklearn.metrics import accuracy_score, recall_score, f1_score, precision_score,precision_recall_fscore_support\n",
        "from sklearn.model_selection import GridSearchCV, train_test_split\n",
        "from transformers import pipeline\n",
        "from transformers import RobertaTokenizer, RobertaModel, RobertaForSequenceClassification, AdamW\n",
        "import torch\n",
        "from torch.utils.data import Dataset, DataLoader\n",
        "from transformers import RobertaTokenizerFast, RobertaForSequenceClassification, Trainer, TrainingArguments\n",
        "\n",
        "nltk.download('stopwords')\n",
        "nltk.download('punkt')\n",
        "nlp = spacy.load(\"en_core_web_sm\")"
      ]
    },
    {
      "cell_type": "code",
      "source": [
        "# !pip install transformers"
      ],
      "metadata": {
        "id": "g89F9koyZQdg"
      },
      "id": "g89F9koyZQdg",
      "execution_count": null,
      "outputs": []
    },
    {
      "cell_type": "code",
      "execution_count": null,
      "id": "2058491a",
      "metadata": {
        "id": "2058491a",
        "colab": {
          "base_uri": "https://localhost:8080/"
        },
        "outputId": "a669316c-7dc2-4c0d-e6d7-f1088b4f9f81"
      },
      "outputs": [
        {
          "output_type": "stream",
          "name": "stdout",
          "text": [
            "Mounted at /content/drive\n"
          ]
        }
      ],
      "source": [
        "#This code is only required in case of google drive is being used\n",
        "\n",
        "# from google.colab import drive\n",
        "# drive.mount('/content/drive')"
      ]
    },
    {
      "cell_type": "code",
      "source": [
        "#This code is only required in case of google drive is being used\n",
        "\n",
        "# import os\n",
        "# os.chdir('/content/drive/MyDrive/Colab Notebooks')"
      ],
      "metadata": {
        "id": "sgyuBJt8WYuF"
      },
      "id": "sgyuBJt8WYuF",
      "execution_count": null,
      "outputs": []
    },
    {
      "cell_type": "code",
      "execution_count": null,
      "id": "1ee93e34",
      "metadata": {
        "id": "1ee93e34"
      },
      "outputs": [],
      "source": [
        "doc = pd.read_csv('labeled_data.csv')"
      ]
    },
    {
      "cell_type": "code",
      "execution_count": null,
      "id": "913a847a",
      "metadata": {
        "id": "913a847a",
        "colab": {
          "base_uri": "https://localhost:8080/",
          "height": 206
        },
        "outputId": "0f4f194f-1e06-4523-efaf-a7bb4b12d590"
      },
      "outputs": [
        {
          "output_type": "execute_result",
          "data": {
            "text/plain": [
              "   Unnamed: 0  count  hate_speech  offensive_language  neither  class  \\\n",
              "0           0      3            0                   0        3      2   \n",
              "1           1      3            0                   3        0      1   \n",
              "2           2      3            0                   3        0      1   \n",
              "3           3      3            0                   2        1      1   \n",
              "4           4      6            0                   6        0      1   \n",
              "\n",
              "                                               tweet  \n",
              "0  !!! RT @mayasolovely: As a woman you shouldn't...  \n",
              "1  !!!!! RT @mleew17: boy dats cold...tyga dwn ba...  \n",
              "2  !!!!!!! RT @UrKindOfBrand Dawg!!!! RT @80sbaby...  \n",
              "3  !!!!!!!!! RT @C_G_Anderson: @viva_based she lo...  \n",
              "4  !!!!!!!!!!!!! RT @ShenikaRoberts: The shit you...  "
            ],
            "text/html": [
              "\n",
              "  <div id=\"df-d0b63a4b-ca56-463d-8414-543b48f5b83a\">\n",
              "    <div class=\"colab-df-container\">\n",
              "      <div>\n",
              "<style scoped>\n",
              "    .dataframe tbody tr th:only-of-type {\n",
              "        vertical-align: middle;\n",
              "    }\n",
              "\n",
              "    .dataframe tbody tr th {\n",
              "        vertical-align: top;\n",
              "    }\n",
              "\n",
              "    .dataframe thead th {\n",
              "        text-align: right;\n",
              "    }\n",
              "</style>\n",
              "<table border=\"1\" class=\"dataframe\">\n",
              "  <thead>\n",
              "    <tr style=\"text-align: right;\">\n",
              "      <th></th>\n",
              "      <th>Unnamed: 0</th>\n",
              "      <th>count</th>\n",
              "      <th>hate_speech</th>\n",
              "      <th>offensive_language</th>\n",
              "      <th>neither</th>\n",
              "      <th>class</th>\n",
              "      <th>tweet</th>\n",
              "    </tr>\n",
              "  </thead>\n",
              "  <tbody>\n",
              "    <tr>\n",
              "      <th>0</th>\n",
              "      <td>0</td>\n",
              "      <td>3</td>\n",
              "      <td>0</td>\n",
              "      <td>0</td>\n",
              "      <td>3</td>\n",
              "      <td>2</td>\n",
              "      <td>!!! RT @mayasolovely: As a woman you shouldn't...</td>\n",
              "    </tr>\n",
              "    <tr>\n",
              "      <th>1</th>\n",
              "      <td>1</td>\n",
              "      <td>3</td>\n",
              "      <td>0</td>\n",
              "      <td>3</td>\n",
              "      <td>0</td>\n",
              "      <td>1</td>\n",
              "      <td>!!!!! RT @mleew17: boy dats cold...tyga dwn ba...</td>\n",
              "    </tr>\n",
              "    <tr>\n",
              "      <th>2</th>\n",
              "      <td>2</td>\n",
              "      <td>3</td>\n",
              "      <td>0</td>\n",
              "      <td>3</td>\n",
              "      <td>0</td>\n",
              "      <td>1</td>\n",
              "      <td>!!!!!!! RT @UrKindOfBrand Dawg!!!! RT @80sbaby...</td>\n",
              "    </tr>\n",
              "    <tr>\n",
              "      <th>3</th>\n",
              "      <td>3</td>\n",
              "      <td>3</td>\n",
              "      <td>0</td>\n",
              "      <td>2</td>\n",
              "      <td>1</td>\n",
              "      <td>1</td>\n",
              "      <td>!!!!!!!!! RT @C_G_Anderson: @viva_based she lo...</td>\n",
              "    </tr>\n",
              "    <tr>\n",
              "      <th>4</th>\n",
              "      <td>4</td>\n",
              "      <td>6</td>\n",
              "      <td>0</td>\n",
              "      <td>6</td>\n",
              "      <td>0</td>\n",
              "      <td>1</td>\n",
              "      <td>!!!!!!!!!!!!! RT @ShenikaRoberts: The shit you...</td>\n",
              "    </tr>\n",
              "  </tbody>\n",
              "</table>\n",
              "</div>\n",
              "      <button class=\"colab-df-convert\" onclick=\"convertToInteractive('df-d0b63a4b-ca56-463d-8414-543b48f5b83a')\"\n",
              "              title=\"Convert this dataframe to an interactive table.\"\n",
              "              style=\"display:none;\">\n",
              "        \n",
              "  <svg xmlns=\"http://www.w3.org/2000/svg\" height=\"24px\"viewBox=\"0 0 24 24\"\n",
              "       width=\"24px\">\n",
              "    <path d=\"M0 0h24v24H0V0z\" fill=\"none\"/>\n",
              "    <path d=\"M18.56 5.44l.94 2.06.94-2.06 2.06-.94-2.06-.94-.94-2.06-.94 2.06-2.06.94zm-11 1L8.5 8.5l.94-2.06 2.06-.94-2.06-.94L8.5 2.5l-.94 2.06-2.06.94zm10 10l.94 2.06.94-2.06 2.06-.94-2.06-.94-.94-2.06-.94 2.06-2.06.94z\"/><path d=\"M17.41 7.96l-1.37-1.37c-.4-.4-.92-.59-1.43-.59-.52 0-1.04.2-1.43.59L10.3 9.45l-7.72 7.72c-.78.78-.78 2.05 0 2.83L4 21.41c.39.39.9.59 1.41.59.51 0 1.02-.2 1.41-.59l7.78-7.78 2.81-2.81c.8-.78.8-2.07 0-2.86zM5.41 20L4 18.59l7.72-7.72 1.47 1.35L5.41 20z\"/>\n",
              "  </svg>\n",
              "      </button>\n",
              "      \n",
              "  <style>\n",
              "    .colab-df-container {\n",
              "      display:flex;\n",
              "      flex-wrap:wrap;\n",
              "      gap: 12px;\n",
              "    }\n",
              "\n",
              "    .colab-df-convert {\n",
              "      background-color: #E8F0FE;\n",
              "      border: none;\n",
              "      border-radius: 50%;\n",
              "      cursor: pointer;\n",
              "      display: none;\n",
              "      fill: #1967D2;\n",
              "      height: 32px;\n",
              "      padding: 0 0 0 0;\n",
              "      width: 32px;\n",
              "    }\n",
              "\n",
              "    .colab-df-convert:hover {\n",
              "      background-color: #E2EBFA;\n",
              "      box-shadow: 0px 1px 2px rgba(60, 64, 67, 0.3), 0px 1px 3px 1px rgba(60, 64, 67, 0.15);\n",
              "      fill: #174EA6;\n",
              "    }\n",
              "\n",
              "    [theme=dark] .colab-df-convert {\n",
              "      background-color: #3B4455;\n",
              "      fill: #D2E3FC;\n",
              "    }\n",
              "\n",
              "    [theme=dark] .colab-df-convert:hover {\n",
              "      background-color: #434B5C;\n",
              "      box-shadow: 0px 1px 3px 1px rgba(0, 0, 0, 0.15);\n",
              "      filter: drop-shadow(0px 1px 2px rgba(0, 0, 0, 0.3));\n",
              "      fill: #FFFFFF;\n",
              "    }\n",
              "  </style>\n",
              "\n",
              "      <script>\n",
              "        const buttonEl =\n",
              "          document.querySelector('#df-d0b63a4b-ca56-463d-8414-543b48f5b83a button.colab-df-convert');\n",
              "        buttonEl.style.display =\n",
              "          google.colab.kernel.accessAllowed ? 'block' : 'none';\n",
              "\n",
              "        async function convertToInteractive(key) {\n",
              "          const element = document.querySelector('#df-d0b63a4b-ca56-463d-8414-543b48f5b83a');\n",
              "          const dataTable =\n",
              "            await google.colab.kernel.invokeFunction('convertToInteractive',\n",
              "                                                     [key], {});\n",
              "          if (!dataTable) return;\n",
              "\n",
              "          const docLinkHtml = 'Like what you see? Visit the ' +\n",
              "            '<a target=\"_blank\" href=https://colab.research.google.com/notebooks/data_table.ipynb>data table notebook</a>'\n",
              "            + ' to learn more about interactive tables.';\n",
              "          element.innerHTML = '';\n",
              "          dataTable['output_type'] = 'display_data';\n",
              "          await google.colab.output.renderOutput(dataTable, element);\n",
              "          const docLink = document.createElement('div');\n",
              "          docLink.innerHTML = docLinkHtml;\n",
              "          element.appendChild(docLink);\n",
              "        }\n",
              "      </script>\n",
              "    </div>\n",
              "  </div>\n",
              "  "
            ]
          },
          "metadata": {},
          "execution_count": 7
        }
      ],
      "source": [
        "doc.head()"
      ]
    },
    {
      "cell_type": "code",
      "execution_count": null,
      "id": "796a37d0",
      "metadata": {
        "id": "796a37d0"
      },
      "outputs": [],
      "source": [
        "#remove the twitter handles/Usernames\n",
        "clean = []\n",
        "for text in doc['tweet']:\n",
        "  clean_tweet = re.sub(r'@\\w+', '', text)\n",
        "  clean.append(clean_tweet)\n",
        "doc['clean_text'] = clean"
      ]
    },
    {
      "cell_type": "code",
      "execution_count": null,
      "id": "94e15b09",
      "metadata": {
        "id": "94e15b09",
        "colab": {
          "base_uri": "https://localhost:8080/"
        },
        "outputId": "b0055c0b-b193-4b05-91b7-5db9f6e12166"
      },
      "outputs": [
        {
          "output_type": "stream",
          "name": "stderr",
          "text": [
            "<ipython-input-9-b74ab42968d9>:2: FutureWarning: The default value of regex will change from True to False in a future version.\n",
            "  doc['clean_text'] = doc['clean_text'].str.replace(\"[^a-zA-Z]\", \" \")\n"
          ]
        }
      ],
      "source": [
        "#removing the special characters and numbers\n",
        "doc['clean_text'] = doc['clean_text'].str.replace(\"[^a-zA-Z]\", \" \")"
      ]
    },
    {
      "cell_type": "code",
      "source": [
        "doc"
      ],
      "metadata": {
        "colab": {
          "base_uri": "https://localhost:8080/",
          "height": 423
        },
        "id": "Z_bQpcjWScWE",
        "outputId": "07f6eb90-934f-4161-977a-aa6d58897903"
      },
      "id": "Z_bQpcjWScWE",
      "execution_count": null,
      "outputs": [
        {
          "output_type": "execute_result",
          "data": {
            "text/plain": [
              "       Unnamed: 0  count  hate_speech  offensive_language  neither  class  \\\n",
              "0               0      3            0                   0        3      2   \n",
              "1               1      3            0                   3        0      1   \n",
              "2               2      3            0                   3        0      1   \n",
              "3               3      3            0                   2        1      1   \n",
              "4               4      6            0                   6        0      1   \n",
              "...           ...    ...          ...                 ...      ...    ...   \n",
              "24778       25291      3            0                   2        1      1   \n",
              "24779       25292      3            0                   1        2      2   \n",
              "24780       25294      3            0                   3        0      1   \n",
              "24781       25295      6            0                   6        0      1   \n",
              "24782       25296      3            0                   0        3      2   \n",
              "\n",
              "                                                   tweet  \\\n",
              "0      !!! RT @mayasolovely: As a woman you shouldn't...   \n",
              "1      !!!!! RT @mleew17: boy dats cold...tyga dwn ba...   \n",
              "2      !!!!!!! RT @UrKindOfBrand Dawg!!!! RT @80sbaby...   \n",
              "3      !!!!!!!!! RT @C_G_Anderson: @viva_based she lo...   \n",
              "4      !!!!!!!!!!!!! RT @ShenikaRoberts: The shit you...   \n",
              "...                                                  ...   \n",
              "24778  you's a muthaf***in lie &#8220;@LifeAsKing: @2...   \n",
              "24779  you've gone and broke the wrong heart baby, an...   \n",
              "24780  young buck wanna eat!!.. dat nigguh like I ain...   \n",
              "24781              youu got wild bitches tellin you lies   \n",
              "24782  ~~Ruffled | Ntac Eileen Dahlia - Beautiful col...   \n",
              "\n",
              "                                              clean_text  \n",
              "0          RT   As a woman you shouldn t complain abo...  \n",
              "1            RT   boy dats cold   tyga dwn bad for cu...  \n",
              "2              RT  Dawg     RT   You ever fuck a bitc...  \n",
              "3                           RT    she look like a tranny  \n",
              "4                    RT   The shit you hear about me ...  \n",
              "...                                                  ...  \n",
              "24778  you s a muthaf   in lie            right  His ...  \n",
              "24779  you ve gone and broke the wrong heart baby  an...  \n",
              "24780  young buck wanna eat     dat nigguh like I ain...  \n",
              "24781              youu got wild bitches tellin you lies  \n",
              "24782    Ruffled   Ntac Eileen Dahlia   Beautiful col...  \n",
              "\n",
              "[24783 rows x 8 columns]"
            ],
            "text/html": [
              "\n",
              "  <div id=\"df-51347359-c086-42b7-819b-65cacb8f2494\">\n",
              "    <div class=\"colab-df-container\">\n",
              "      <div>\n",
              "<style scoped>\n",
              "    .dataframe tbody tr th:only-of-type {\n",
              "        vertical-align: middle;\n",
              "    }\n",
              "\n",
              "    .dataframe tbody tr th {\n",
              "        vertical-align: top;\n",
              "    }\n",
              "\n",
              "    .dataframe thead th {\n",
              "        text-align: right;\n",
              "    }\n",
              "</style>\n",
              "<table border=\"1\" class=\"dataframe\">\n",
              "  <thead>\n",
              "    <tr style=\"text-align: right;\">\n",
              "      <th></th>\n",
              "      <th>Unnamed: 0</th>\n",
              "      <th>count</th>\n",
              "      <th>hate_speech</th>\n",
              "      <th>offensive_language</th>\n",
              "      <th>neither</th>\n",
              "      <th>class</th>\n",
              "      <th>tweet</th>\n",
              "      <th>clean_text</th>\n",
              "    </tr>\n",
              "  </thead>\n",
              "  <tbody>\n",
              "    <tr>\n",
              "      <th>0</th>\n",
              "      <td>0</td>\n",
              "      <td>3</td>\n",
              "      <td>0</td>\n",
              "      <td>0</td>\n",
              "      <td>3</td>\n",
              "      <td>2</td>\n",
              "      <td>!!! RT @mayasolovely: As a woman you shouldn't...</td>\n",
              "      <td>RT   As a woman you shouldn t complain abo...</td>\n",
              "    </tr>\n",
              "    <tr>\n",
              "      <th>1</th>\n",
              "      <td>1</td>\n",
              "      <td>3</td>\n",
              "      <td>0</td>\n",
              "      <td>3</td>\n",
              "      <td>0</td>\n",
              "      <td>1</td>\n",
              "      <td>!!!!! RT @mleew17: boy dats cold...tyga dwn ba...</td>\n",
              "      <td>RT   boy dats cold   tyga dwn bad for cu...</td>\n",
              "    </tr>\n",
              "    <tr>\n",
              "      <th>2</th>\n",
              "      <td>2</td>\n",
              "      <td>3</td>\n",
              "      <td>0</td>\n",
              "      <td>3</td>\n",
              "      <td>0</td>\n",
              "      <td>1</td>\n",
              "      <td>!!!!!!! RT @UrKindOfBrand Dawg!!!! RT @80sbaby...</td>\n",
              "      <td>RT  Dawg     RT   You ever fuck a bitc...</td>\n",
              "    </tr>\n",
              "    <tr>\n",
              "      <th>3</th>\n",
              "      <td>3</td>\n",
              "      <td>3</td>\n",
              "      <td>0</td>\n",
              "      <td>2</td>\n",
              "      <td>1</td>\n",
              "      <td>1</td>\n",
              "      <td>!!!!!!!!! RT @C_G_Anderson: @viva_based she lo...</td>\n",
              "      <td>RT    she look like a tranny</td>\n",
              "    </tr>\n",
              "    <tr>\n",
              "      <th>4</th>\n",
              "      <td>4</td>\n",
              "      <td>6</td>\n",
              "      <td>0</td>\n",
              "      <td>6</td>\n",
              "      <td>0</td>\n",
              "      <td>1</td>\n",
              "      <td>!!!!!!!!!!!!! RT @ShenikaRoberts: The shit you...</td>\n",
              "      <td>RT   The shit you hear about me ...</td>\n",
              "    </tr>\n",
              "    <tr>\n",
              "      <th>...</th>\n",
              "      <td>...</td>\n",
              "      <td>...</td>\n",
              "      <td>...</td>\n",
              "      <td>...</td>\n",
              "      <td>...</td>\n",
              "      <td>...</td>\n",
              "      <td>...</td>\n",
              "      <td>...</td>\n",
              "    </tr>\n",
              "    <tr>\n",
              "      <th>24778</th>\n",
              "      <td>25291</td>\n",
              "      <td>3</td>\n",
              "      <td>0</td>\n",
              "      <td>2</td>\n",
              "      <td>1</td>\n",
              "      <td>1</td>\n",
              "      <td>you's a muthaf***in lie &amp;#8220;@LifeAsKing: @2...</td>\n",
              "      <td>you s a muthaf   in lie            right  His ...</td>\n",
              "    </tr>\n",
              "    <tr>\n",
              "      <th>24779</th>\n",
              "      <td>25292</td>\n",
              "      <td>3</td>\n",
              "      <td>0</td>\n",
              "      <td>1</td>\n",
              "      <td>2</td>\n",
              "      <td>2</td>\n",
              "      <td>you've gone and broke the wrong heart baby, an...</td>\n",
              "      <td>you ve gone and broke the wrong heart baby  an...</td>\n",
              "    </tr>\n",
              "    <tr>\n",
              "      <th>24780</th>\n",
              "      <td>25294</td>\n",
              "      <td>3</td>\n",
              "      <td>0</td>\n",
              "      <td>3</td>\n",
              "      <td>0</td>\n",
              "      <td>1</td>\n",
              "      <td>young buck wanna eat!!.. dat nigguh like I ain...</td>\n",
              "      <td>young buck wanna eat     dat nigguh like I ain...</td>\n",
              "    </tr>\n",
              "    <tr>\n",
              "      <th>24781</th>\n",
              "      <td>25295</td>\n",
              "      <td>6</td>\n",
              "      <td>0</td>\n",
              "      <td>6</td>\n",
              "      <td>0</td>\n",
              "      <td>1</td>\n",
              "      <td>youu got wild bitches tellin you lies</td>\n",
              "      <td>youu got wild bitches tellin you lies</td>\n",
              "    </tr>\n",
              "    <tr>\n",
              "      <th>24782</th>\n",
              "      <td>25296</td>\n",
              "      <td>3</td>\n",
              "      <td>0</td>\n",
              "      <td>0</td>\n",
              "      <td>3</td>\n",
              "      <td>2</td>\n",
              "      <td>~~Ruffled | Ntac Eileen Dahlia - Beautiful col...</td>\n",
              "      <td>Ruffled   Ntac Eileen Dahlia   Beautiful col...</td>\n",
              "    </tr>\n",
              "  </tbody>\n",
              "</table>\n",
              "<p>24783 rows × 8 columns</p>\n",
              "</div>\n",
              "      <button class=\"colab-df-convert\" onclick=\"convertToInteractive('df-51347359-c086-42b7-819b-65cacb8f2494')\"\n",
              "              title=\"Convert this dataframe to an interactive table.\"\n",
              "              style=\"display:none;\">\n",
              "        \n",
              "  <svg xmlns=\"http://www.w3.org/2000/svg\" height=\"24px\"viewBox=\"0 0 24 24\"\n",
              "       width=\"24px\">\n",
              "    <path d=\"M0 0h24v24H0V0z\" fill=\"none\"/>\n",
              "    <path d=\"M18.56 5.44l.94 2.06.94-2.06 2.06-.94-2.06-.94-.94-2.06-.94 2.06-2.06.94zm-11 1L8.5 8.5l.94-2.06 2.06-.94-2.06-.94L8.5 2.5l-.94 2.06-2.06.94zm10 10l.94 2.06.94-2.06 2.06-.94-2.06-.94-.94-2.06-.94 2.06-2.06.94z\"/><path d=\"M17.41 7.96l-1.37-1.37c-.4-.4-.92-.59-1.43-.59-.52 0-1.04.2-1.43.59L10.3 9.45l-7.72 7.72c-.78.78-.78 2.05 0 2.83L4 21.41c.39.39.9.59 1.41.59.51 0 1.02-.2 1.41-.59l7.78-7.78 2.81-2.81c.8-.78.8-2.07 0-2.86zM5.41 20L4 18.59l7.72-7.72 1.47 1.35L5.41 20z\"/>\n",
              "  </svg>\n",
              "      </button>\n",
              "      \n",
              "  <style>\n",
              "    .colab-df-container {\n",
              "      display:flex;\n",
              "      flex-wrap:wrap;\n",
              "      gap: 12px;\n",
              "    }\n",
              "\n",
              "    .colab-df-convert {\n",
              "      background-color: #E8F0FE;\n",
              "      border: none;\n",
              "      border-radius: 50%;\n",
              "      cursor: pointer;\n",
              "      display: none;\n",
              "      fill: #1967D2;\n",
              "      height: 32px;\n",
              "      padding: 0 0 0 0;\n",
              "      width: 32px;\n",
              "    }\n",
              "\n",
              "    .colab-df-convert:hover {\n",
              "      background-color: #E2EBFA;\n",
              "      box-shadow: 0px 1px 2px rgba(60, 64, 67, 0.3), 0px 1px 3px 1px rgba(60, 64, 67, 0.15);\n",
              "      fill: #174EA6;\n",
              "    }\n",
              "\n",
              "    [theme=dark] .colab-df-convert {\n",
              "      background-color: #3B4455;\n",
              "      fill: #D2E3FC;\n",
              "    }\n",
              "\n",
              "    [theme=dark] .colab-df-convert:hover {\n",
              "      background-color: #434B5C;\n",
              "      box-shadow: 0px 1px 3px 1px rgba(0, 0, 0, 0.15);\n",
              "      filter: drop-shadow(0px 1px 2px rgba(0, 0, 0, 0.3));\n",
              "      fill: #FFFFFF;\n",
              "    }\n",
              "  </style>\n",
              "\n",
              "      <script>\n",
              "        const buttonEl =\n",
              "          document.querySelector('#df-51347359-c086-42b7-819b-65cacb8f2494 button.colab-df-convert');\n",
              "        buttonEl.style.display =\n",
              "          google.colab.kernel.accessAllowed ? 'block' : 'none';\n",
              "\n",
              "        async function convertToInteractive(key) {\n",
              "          const element = document.querySelector('#df-51347359-c086-42b7-819b-65cacb8f2494');\n",
              "          const dataTable =\n",
              "            await google.colab.kernel.invokeFunction('convertToInteractive',\n",
              "                                                     [key], {});\n",
              "          if (!dataTable) return;\n",
              "\n",
              "          const docLinkHtml = 'Like what you see? Visit the ' +\n",
              "            '<a target=\"_blank\" href=https://colab.research.google.com/notebooks/data_table.ipynb>data table notebook</a>'\n",
              "            + ' to learn more about interactive tables.';\n",
              "          element.innerHTML = '';\n",
              "          dataTable['output_type'] = 'display_data';\n",
              "          await google.colab.output.renderOutput(dataTable, element);\n",
              "          const docLink = document.createElement('div');\n",
              "          docLink.innerHTML = docLinkHtml;\n",
              "          element.appendChild(docLink);\n",
              "        }\n",
              "      </script>\n",
              "    </div>\n",
              "  </div>\n",
              "  "
            ]
          },
          "metadata": {},
          "execution_count": 10
        }
      ]
    },
    {
      "cell_type": "code",
      "execution_count": null,
      "id": "6bc1a7d2",
      "metadata": {
        "id": "6bc1a7d2"
      },
      "outputs": [],
      "source": [
        "#removing all blank enteries\n",
        "doc = doc[doc.clean_text!=\" \"]\n",
        "doc = doc[doc.clean_text!=\"\"]"
      ]
    },
    {
      "cell_type": "code",
      "source": [
        "#using Spacy to remove all the spaces, punctuations and stopwords\n",
        "#removing all the words that have a length less than 3\n",
        "def text_cleanup(text):\n",
        "  tokens = []\n",
        "  doc = nlp(text)\n",
        "  for t in doc:\n",
        "    if not t.is_stop and not t.is_punct and not  t.is_space and len(t) > 3:\n",
        "      tokens.append(t.lemma_.lower())\n",
        "  return ' '.join(tokens)"
      ],
      "metadata": {
        "id": "7xxGl99iY_9U"
      },
      "id": "7xxGl99iY_9U",
      "execution_count": null,
      "outputs": []
    },
    {
      "cell_type": "code",
      "source": [
        "filtered = []\n",
        "for d in doc['clean_text']:\n",
        "    processed_text = text_cleanup(d)\n",
        "    filtered.append(processed_text)\n",
        "\n",
        "doc['clean_text'] = filtered"
      ],
      "metadata": {
        "id": "SoJrXeS3aFzW"
      },
      "id": "SoJrXeS3aFzW",
      "execution_count": null,
      "outputs": []
    },
    {
      "cell_type": "code",
      "execution_count": null,
      "id": "76e4c3bd",
      "metadata": {
        "id": "76e4c3bd"
      },
      "outputs": [],
      "source": [
        "#tokenization of the tweets\n",
        "tokenized_text = doc['clean_text'].apply(lambda x: x.split())\n",
        "tokenized_text\n",
        "doc['tokens'] = tokenized_text"
      ]
    },
    {
      "cell_type": "code",
      "execution_count": null,
      "id": "49e51c19",
      "metadata": {
        "id": "49e51c19"
      },
      "outputs": [],
      "source": [
        "#reducing the size if the dataset has more than 10000 enteries\n",
        "if doc.shape[0] > 10000:\n",
        "    doc = doc.sample(frac=0.4, replace=True, random_state=1)"
      ]
    },
    {
      "cell_type": "code",
      "execution_count": null,
      "id": "5f062515",
      "metadata": {
        "id": "5f062515"
      },
      "outputs": [],
      "source": [
        "#creating a dictionary of the count of each word(count)\n",
        "list1 =[]\n",
        "for li in doc['tokens']:\n",
        "    new = set(li)\n",
        "    for words in new:\n",
        "        list1.append(words)\n",
        "count = Counter(list1)\n",
        "count = dict(count)"
      ]
    },
    {
      "cell_type": "code",
      "execution_count": null,
      "id": "5e62d9ee",
      "metadata": {
        "id": "5e62d9ee"
      },
      "outputs": [],
      "source": [
        "#giving each of the following words an ID(dict1)\n",
        "list1 = []\n",
        "dict1 = {}\n",
        "for words in doc['tokens']:\n",
        "     for word in words:\n",
        "        list1.append(word)\n",
        "set1 = set(list1)\n",
        "count = 0\n",
        "for words in set1:\n",
        "    dict1[words] = count\n",
        "    count = count + 1"
      ]
    },
    {
      "cell_type": "code",
      "execution_count": null,
      "id": "22a38883",
      "metadata": {
        "id": "22a38883"
      },
      "outputs": [],
      "source": [
        "#making a dictionary of each word corresponding to id\n",
        "vec = {}\n",
        "list1 = []\n",
        "for word in doc['tokens']:\n",
        "    vec = {}\n",
        "    counts = Counter(word)\n",
        "    for t, c in counts.items():\n",
        "        tf = 1 + math.log10(c) if c > 0 else 0\n",
        "        idf = math.log10(9913 / counts[t])\n",
        "        vec[dict1[t]] = tf * idf\n",
        "    list1.append(vec)"
      ]
    },
    {
      "cell_type": "code",
      "execution_count": null,
      "id": "9e018601",
      "metadata": {
        "id": "9e018601"
      },
      "outputs": [],
      "source": [
        "doc['tfidf'] = list1"
      ]
    },
    {
      "cell_type": "markdown",
      "id": "ec23ab0f",
      "metadata": {
        "id": "ec23ab0f"
      },
      "source": [
        "### Test Train Split"
      ]
    },
    {
      "cell_type": "code",
      "execution_count": null,
      "id": "f82cf40c",
      "metadata": {
        "id": "f82cf40c"
      },
      "outputs": [],
      "source": [
        "texts = doc['clean_text'].tolist()\n",
        "labels = doc['class'].tolist()"
      ]
    },
    {
      "cell_type": "code",
      "execution_count": null,
      "id": "52760f2d",
      "metadata": {
        "id": "52760f2d",
        "colab": {
          "base_uri": "https://localhost:8080/"
        },
        "outputId": "da8069db-2224-4826-c8b8-9f273cf44817"
      },
      "outputs": [
        {
          "output_type": "execute_result",
          "data": {
            "text/plain": [
              "Counter({1: 7696, 2: 1671, 0: 546})"
            ]
          },
          "metadata": {},
          "execution_count": 22
        }
      ],
      "source": [
        "#number of documents under each label\n",
        "from collections import Counter\n",
        "Counter(labels)"
      ]
    },
    {
      "cell_type": "code",
      "execution_count": null,
      "id": "433883dd",
      "metadata": {
        "id": "433883dd"
      },
      "outputs": [],
      "source": [
        "#splitting the data into 60/20/20\n",
        "texts_train, texts_test, labels_train, labels_test = train_test_split(texts, labels, test_size=0.2, random_state=42)\n",
        "texts_train, texts_val, labels_train, labels_val = train_test_split(texts_train, labels_train, test_size=0.25, random_state=42)"
      ]
    },
    {
      "cell_type": "code",
      "execution_count": null,
      "id": "401d32ca",
      "metadata": {
        "id": "401d32ca",
        "colab": {
          "base_uri": "https://localhost:8080/"
        },
        "outputId": "fb21182e-14fe-4bc6-d7ea-c45f02ca802a"
      },
      "outputs": [
        {
          "output_type": "stream",
          "name": "stdout",
          "text": [
            "len(texts_train)=5947\tlen(labels_train)=5947\n",
            "len(texts_val)=1983\tlen(labels_val)=1983\n",
            "len(texts_test)=1983\tlen(labels_test)=1983\n"
          ]
        }
      ],
      "source": [
        "print(f\"{len(texts_train)=}\\t{len(labels_train)=}\")\n",
        "print(f\"{len(texts_val)=}\\t{len(labels_val)=}\")\n",
        "print(f\"{len(texts_test)=}\\t{len(labels_test)=}\")"
      ]
    },
    {
      "cell_type": "code",
      "execution_count": null,
      "id": "879b9604",
      "metadata": {
        "id": "879b9604",
        "colab": {
          "base_uri": "https://localhost:8080/"
        },
        "outputId": "a9e17db3-b048-41a2-d355-6d62a8425349"
      },
      "outputs": [
        {
          "output_type": "execute_result",
          "data": {
            "text/plain": [
              "(0.5999192978916574, 0.20004035105417128, 0.20004035105417128)"
            ]
          },
          "metadata": {},
          "execution_count": 25
        }
      ],
      "source": [
        "total = len(texts_train) + len(texts_val) + len(texts_test)\n",
        "len(texts_train)/total, len(texts_val)/total, len(texts_test)/total"
      ]
    },
    {
      "cell_type": "markdown",
      "id": "efe32ed5",
      "metadata": {
        "id": "efe32ed5"
      },
      "source": [
        "### Kmeans "
      ]
    },
    {
      "cell_type": "code",
      "execution_count": null,
      "id": "bd965f2a",
      "metadata": {
        "id": "bd965f2a"
      },
      "outputs": [],
      "source": [
        "# Creating a vectorizer of TFIDF\n",
        "vectorizer = TfidfVectorizer()"
      ]
    },
    {
      "cell_type": "code",
      "execution_count": null,
      "id": "b5199aec",
      "metadata": {
        "id": "b5199aec"
      },
      "outputs": [],
      "source": [
        "# Convert text data to a TF-IDF matrix\n",
        "tfidf_matrix_train = vectorizer.fit_transform(texts_train)\n",
        "tfidf_matrix_val = vectorizer.fit_transform(texts_val)\n",
        "\n",
        "vectorizer = TfidfVectorizer(stop_words='english')\n",
        "train_X = vectorizer.fit_transform(texts_train)\n",
        "val_X = vectorizer.transform(texts_val)\n",
        "test_X = vectorizer.transform(texts_test)\n",
        "\n",
        "#the number of clusters for Kmeans\n",
        "k = 5"
      ]
    },
    {
      "cell_type": "code",
      "execution_count": null,
      "id": "fb67c8eb",
      "metadata": {
        "id": "fb67c8eb"
      },
      "outputs": [],
      "source": [
        "cluster_5 = []"
      ]
    },
    {
      "cell_type": "code",
      "execution_count": null,
      "id": "9779d037",
      "metadata": {
        "id": "9779d037",
        "colab": {
          "base_uri": "https://localhost:8080/"
        },
        "outputId": "5a0cb90f-87ef-4152-90f6-ef385f1a16c9"
      },
      "outputs": [
        {
          "output_type": "stream",
          "name": "stderr",
          "text": [
            "/usr/local/lib/python3.9/dist-packages/sklearn/cluster/_kmeans.py:870: FutureWarning: The default value of `n_init` will change from 10 to 'auto' in 1.4. Set the value of `n_init` explicitly to suppress the warning\n",
            "  warnings.warn(\n"
          ]
        },
        {
          "output_type": "stream",
          "name": "stdout",
          "text": [
            "Confusion Matrix:\n",
            " [[ 79  18   2]\n",
            " [996 162 156]\n",
            " [314  25   1]]\n",
            "Cluster  0  :  ['unbelievable', 'ships', 'fitzgerald', 'derrick', 'couch', 'lowww', 'spfhbbkvd', 'comeback', 'xytlsf', 'dad']\n",
            "Cluster  1  :  ['fucker', 'unbelievable', 'correspondent', 'derrick', 'ships', 'spfhbbkvd', 'couch', 'wayhustle', 'lbum', 'xrobdfztk']\n",
            "Cluster  2  :  ['stereotype', 'fucker', 'ships', 'mentally', 'spfhbbkvd', 'derrick', 'utility', 'finesse', 'delight', 'nugga']\n",
            "Cluster  3  :  ['disparagement', 'ships', 'solarte', 'finesse', 'derrick', 'xytlsf', 'lowww', 'couch', 'xrobdfztk', 'nugga']\n",
            "Cluster  4  :  ['unbelievable', 'derrick', 'fucker', 'finna', 'import', 'spin', 'wayhustle', 'khsv', 'riding', 'fully']\n",
            "Accuracy: 0.122\n",
            "Precision: 0.171\n",
            "Recall: 0.169\n",
            "F1 score: 0.059\n"
          ]
        },
        {
          "output_type": "stream",
          "name": "stderr",
          "text": [
            "/usr/local/lib/python3.9/dist-packages/sklearn/metrics/_classification.py:1344: UndefinedMetricWarning: Recall is ill-defined and being set to 0.0 in labels with no true samples. Use `zero_division` parameter to control this behavior.\n",
            "  _warn_prf(average, modifier, msg_start, len(result))\n"
          ]
        }
      ],
      "source": [
        "# Initializing the KMeans model \n",
        "kmeans_model = KMeans(n_clusters=k, random_state=42)\n",
        "\n",
        "# Fitting the TFIDF matrix to the model\n",
        "kmeans_model.fit(train_X)\n",
        "\n",
        "# Get the predicted cluster assignments for the validation data\n",
        "labels_pred = kmeans_model.predict(val_X)\n",
        "\n",
        "labels_cm = [0,1,2]\n",
        "\n",
        "confusion_mat = confusion_matrix(labels_val, labels_pred, labels = labels_cm)\n",
        "print(\"Confusion Matrix:\\n\", confusion_mat)\n",
        "\n",
        "# Getting the top words for each cluster\n",
        "top_words_per_cluster = []\n",
        "order_centroids = kmeans_model.cluster_centers_.argsort()[:, ::-1]\n",
        "terms = list(vectorizer.vocabulary_.keys())\n",
        "\n",
        "for i in range(k):\n",
        "    top_words = [terms[ind] for ind in order_centroids[i, :10]]\n",
        "    top_words_per_cluster.append(top_words)\n",
        "    cluster_5.append(top_words)\n",
        "    print(\"Cluster \", i, \" : \", top_words)\n",
        "    \n",
        "accuracy = accuracy_score(labels_val, labels_pred)\n",
        "recall = recall_score(labels_val, labels_pred, average='macro')\n",
        "f1 = f1_score(labels_val, labels_pred, average='macro')\n",
        "precision = precision_score(labels_val, labels_pred, average='macro')\n",
        "\n",
        "print(\"Accuracy:\", round(accuracy, 3))\n",
        "print(\"Precision:\", round(precision, 3))\n",
        "print(\"Recall:\", round(recall, 3))\n",
        "print(\"F1 score:\", round(f1,3))"
      ]
    },
    {
      "cell_type": "code",
      "source": [
        "for j in range(5):\n",
        "    print(\"documents in cluster \",  j)\n",
        "    cluster_indices = np.where(labels_pred == i)[0]\n",
        "    for j in range(min(5, len(cluster_indices))):\n",
        "        print(doc['clean_text'].iloc[cluster_indices[j]])\n",
        "    print('\\n')"
      ],
      "metadata": {
        "colab": {
          "base_uri": "https://localhost:8080/"
        },
        "id": "rSJRajOWP3GF",
        "outputId": "9f5ed302-82cd-451e-dbb1-38b8e39c1875"
      },
      "id": "rSJRajOWP3GF",
      "execution_count": null,
      "outputs": [
        {
          "output_type": "stream",
          "name": "stdout",
          "text": [
            "documents in cluster  0\n",
            "hillary dodo bird dems candidate obama prez http wflzyxmvk\n",
            "tongue kiss bitch\n",
            "twig bitch like\n",
            "girl go school kind aquatic colored weave head fuck go\n",
            "niggas outfit impress bitch\n",
            "\n",
            "\n",
            "documents in cluster  1\n",
            "hillary dodo bird dems candidate obama prez http wflzyxmvk\n",
            "tongue kiss bitch\n",
            "twig bitch like\n",
            "girl go school kind aquatic colored weave head fuck go\n",
            "niggas outfit impress bitch\n",
            "\n",
            "\n",
            "documents in cluster  2\n",
            "hillary dodo bird dems candidate obama prez http wflzyxmvk\n",
            "tongue kiss bitch\n",
            "twig bitch like\n",
            "girl go school kind aquatic colored weave head fuck go\n",
            "niggas outfit impress bitch\n",
            "\n",
            "\n",
            "documents in cluster  3\n",
            "hillary dodo bird dems candidate obama prez http wflzyxmvk\n",
            "tongue kiss bitch\n",
            "twig bitch like\n",
            "girl go school kind aquatic colored weave head fuck go\n",
            "niggas outfit impress bitch\n",
            "\n",
            "\n",
            "documents in cluster  4\n",
            "hillary dodo bird dems candidate obama prez http wflzyxmvk\n",
            "tongue kiss bitch\n",
            "twig bitch like\n",
            "girl go school kind aquatic colored weave head fuck go\n",
            "niggas outfit impress bitch\n",
            "\n",
            "\n"
          ]
        }
      ]
    },
    {
      "cell_type": "markdown",
      "id": "60db52be",
      "metadata": {
        "id": "60db52be"
      },
      "source": [
        "## Classifiers"
      ]
    },
    {
      "cell_type": "code",
      "execution_count": null,
      "id": "ef911eee",
      "metadata": {
        "id": "ef911eee"
      },
      "outputs": [],
      "source": [
        "#creating dataset to stor performance metrics in\n",
        "values = pd.DataFrame(columns=['Classifiers', 'Accuracy', 'Precision', 'Recall', 'F1', 'Average'])\n",
        "log = pd.DataFrame(columns = ['Classifiers', 'Accuracy', 'Precision', 'Recall', 'F1'])"
      ]
    },
    {
      "cell_type": "markdown",
      "id": "235defb8",
      "metadata": {
        "id": "235defb8"
      },
      "source": [
        "### Dummy Classifier using \"most_frequent\""
      ]
    },
    {
      "cell_type": "code",
      "execution_count": null,
      "id": "c64498dd",
      "metadata": {
        "id": "c64498dd",
        "outputId": "d87807cc-9c63-4321-dad6-4e8b5c6cbefe",
        "colab": {
          "base_uri": "https://localhost:8080/"
        }
      },
      "outputs": [
        {
          "output_type": "stream",
          "name": "stdout",
          "text": [
            "Accuracy: 0.775\n",
            "Precision: 0.258\n",
            "Recall: 0.333\n",
            "F1 score: 0.291\n"
          ]
        },
        {
          "output_type": "stream",
          "name": "stderr",
          "text": [
            "/usr/local/lib/python3.9/dist-packages/sklearn/metrics/_classification.py:1344: UndefinedMetricWarning: Precision is ill-defined and being set to 0.0 in labels with no predicted samples. Use `zero_division` parameter to control this behavior.\n",
            "  _warn_prf(average, modifier, msg_start, len(result))\n"
          ]
        }
      ],
      "source": [
        "# create a dummy classifier with strategy=\"most_frequent\"\n",
        "most_freq = DummyClassifier(strategy=\"most_frequent\")\n",
        "\n",
        "# train the classifier\n",
        "most_freq.fit(texts_train, labels_train)\n",
        "\n",
        "# Make predictions on the validation data\n",
        "labels_pred = most_freq.predict(texts_val)\n",
        "\n",
        "accuracy = accuracy_score(labels_val, labels_pred)\n",
        "recall = recall_score(labels_val, labels_pred, average='macro')\n",
        "f1 = f1_score(labels_val, labels_pred, average='macro')\n",
        "precision = precision_score(labels_val, labels_pred, average='macro')\n",
        "\n",
        "print(\"Accuracy:\", round(accuracy, 3))\n",
        "print(\"Precision:\", round(precision, 3))\n",
        "print(\"Recall:\", round(recall, 3))\n",
        "print(\"F1 score:\", round(f1,3))\n",
        "\n",
        "# Calculating the label distribution\n",
        "label_distribution_1 = pd.Series(labels_pred).value_counts()\n",
        "\n",
        "values.loc[0] = [\"Dummy Classifier using most_frequent\", round(accuracy,3), round(precision,3), round(recall,3), round(f1,3), \" \"]"
      ]
    },
    {
      "cell_type": "markdown",
      "id": "a43560a9",
      "metadata": {
        "id": "a43560a9"
      },
      "source": [
        "### Dummy Classifier using \"Stratified\""
      ]
    },
    {
      "cell_type": "code",
      "execution_count": null,
      "id": "b82db09c",
      "metadata": {
        "id": "b82db09c",
        "outputId": "d5cf84fa-eca5-4edd-cb92-e20b6e4b1b94",
        "colab": {
          "base_uri": "https://localhost:8080/"
        }
      },
      "outputs": [
        {
          "output_type": "stream",
          "name": "stdout",
          "text": [
            "Accuracy: 0.639\n",
            "Precision: 0.338\n",
            "Recall: 0.338\n",
            "F1 score: 0.338\n"
          ]
        }
      ],
      "source": [
        "# create a dummy classifier with strategy=\"most_frequent\"\n",
        "strat = DummyClassifier(strategy=\"stratified\")\n",
        "\n",
        "# train the dummy classifier\n",
        "strat.fit(texts_train, labels_train)\n",
        "\n",
        "# Making predictions on the validation data\n",
        "labels_pred = strat.predict(texts_val)\n",
        "\n",
        "accuracy = accuracy_score(labels_val, labels_pred)\n",
        "recall = recall_score(labels_val, labels_pred, average='macro')\n",
        "f1 = f1_score(labels_val, labels_pred, average='macro')\n",
        "precision = precision_score(labels_val, labels_pred, average='macro')\n",
        "\n",
        "print(\"Accuracy:\", round(accuracy, 3))\n",
        "print(\"Precision:\", round(precision, 3))\n",
        "print(\"Recall:\", round(recall, 3))\n",
        "print(\"F1 score:\", round(f1,3))\n",
        "\n",
        "# Calculating the label distribution\n",
        "label_distribution_2 = pd.Series(labels_pred).value_counts()\n",
        "\n",
        "values.loc[1] = [\"Dummy Classifier using stratified\", round(accuracy,3), round(precision,3), round(recall,3), round(f1,3), \" \"]"
      ]
    },
    {
      "cell_type": "markdown",
      "id": "135fd028",
      "metadata": {
        "id": "135fd028"
      },
      "source": [
        "### Logistic Regression using one hot vectorization"
      ]
    },
    {
      "cell_type": "code",
      "execution_count": null,
      "id": "e671482c",
      "metadata": {
        "id": "e671482c"
      },
      "outputs": [],
      "source": [
        "# Create a CountVectorizer object\n",
        "vectorizer = CountVectorizer(max_features=1000, ngram_range=(1,2))\n",
        "\n",
        "# Fit the vectorizer on the training data and transform the training and validation data\n",
        "train_one_hot = vectorizer.fit_transform(texts_train)\n",
        "test_one_hot = vectorizer.transform(texts_val)\n",
        "train_one_hot_2= train_one_hot.toarray()\n",
        "test_one_hot_2 = test_one_hot.toarray()\n",
        "\n",
        "\n",
        "# Create an OneHotEncoder object and fit it on the one-hot vectors of the training set\n",
        "encoder = OneHotEncoder(handle_unknown='ignore')\n",
        "encoder.fit(train_one_hot_2)\n",
        "\n",
        "# Transform the one-hot vectors of both the training and testing sets into one-hot encoded vectors\n",
        "train_one_hot_encoded = encoder.transform(train_one_hot_2)\n",
        "test_one_hot_encoded = encoder.transform(test_one_hot_2)"
      ]
    },
    {
      "cell_type": "code",
      "execution_count": null,
      "id": "c37aaa3f",
      "metadata": {
        "id": "c37aaa3f",
        "outputId": "fc1842b7-4d84-42d1-f6cb-1c0569960387",
        "colab": {
          "base_uri": "https://localhost:8080/"
        }
      },
      "outputs": [
        {
          "output_type": "stream",
          "name": "stdout",
          "text": [
            "Accuracy: 0.887\n",
            "Precision: 0.748\n",
            "Recall: 0.671\n",
            "F1 score: 0.698\n"
          ]
        },
        {
          "output_type": "stream",
          "name": "stderr",
          "text": [
            "/usr/local/lib/python3.9/dist-packages/sklearn/linear_model/_logistic.py:458: ConvergenceWarning: lbfgs failed to converge (status=1):\n",
            "STOP: TOTAL NO. of ITERATIONS REACHED LIMIT.\n",
            "\n",
            "Increase the number of iterations (max_iter) or scale the data as shown in:\n",
            "    https://scikit-learn.org/stable/modules/preprocessing.html\n",
            "Please also refer to the documentation for alternative solver options:\n",
            "    https://scikit-learn.org/stable/modules/linear_model.html#logistic-regression\n",
            "  n_iter_i = _check_optimize_result(\n"
          ]
        }
      ],
      "source": [
        "logistic = LogisticRegression()\n",
        "logistic.fit(train_one_hot_encoded, labels_train)\n",
        "\n",
        "# Make predictions on validation data\n",
        "preds = logistic.predict(test_one_hot_encoded)\n",
        "\n",
        "# Calculate accuracy, recall, and F1 score\n",
        "acc = accuracy_score(labels_val, preds)\n",
        "recall = recall_score(labels_val, preds, average='macro')\n",
        "f1 = f1_score(labels_val, preds, average='macro')\n",
        "precision = precision_score(labels_val, preds, average='macro')\n",
        "\n",
        "print(\"Accuracy:\", round(acc, 3))\n",
        "print(\"Precision:\", round(precision, 3))\n",
        "print(\"Recall:\", round(recall, 3))\n",
        "print(\"F1 score:\", round(f1,3))\n",
        "\n",
        "# Calculating the label distribution\n",
        "label_distribution_3 = pd.Series(preds).value_counts()\n",
        "\n",
        "values.loc[2] = [\"Logistic Regression: using one hot\", round(acc,3), round(precision,3), round(recall,3), round(f1,3), \" \"]"
      ]
    },
    {
      "cell_type": "markdown",
      "id": "63632b97",
      "metadata": {
        "id": "63632b97"
      },
      "source": [
        "### Logistic Regession using TFIDF vectorisation"
      ]
    },
    {
      "cell_type": "code",
      "execution_count": null,
      "id": "c408be57",
      "metadata": {
        "id": "c408be57"
      },
      "outputs": [],
      "source": [
        "# Create a TfidfVectorizer object and fit it on the training set\n",
        "vectorizer = TfidfVectorizer()\n",
        "vectorizer.fit(texts_train)\n",
        "\n",
        "# vectorizing the tweets in both the training and validation data \n",
        "train_tfidf = vectorizer.transform(texts_train)\n",
        "test_tfidf = vectorizer.transform(texts_val)"
      ]
    },
    {
      "cell_type": "code",
      "execution_count": null,
      "id": "b14bd564",
      "metadata": {
        "id": "b14bd564",
        "outputId": "8d283327-cc6e-4910-b8e8-55ae5bf22075",
        "colab": {
          "base_uri": "https://localhost:8080/"
        }
      },
      "outputs": [
        {
          "output_type": "stream",
          "name": "stdout",
          "text": [
            "Accuracy: 0.891\n",
            "Precision: 0.819\n",
            "Recall: 0.626\n",
            "F1 score: 0.671\n"
          ]
        }
      ],
      "source": [
        "logistic = LogisticRegression()\n",
        "logistic.fit(train_tfidf, labels_train)\n",
        "\n",
        "# Make predictions on the validation data\n",
        "preds = logistic.predict(test_tfidf)\n",
        "\n",
        "# Calculate accuracy, recall, and F1 score\n",
        "acc = accuracy_score(labels_val, preds)\n",
        "recall = recall_score(labels_val, preds, average='macro')\n",
        "f1 = f1_score(labels_val, preds, average='macro')\n",
        "precision = precision_score(labels_val, preds, average='macro')\n",
        "\n",
        "print(\"Accuracy:\", round(acc, 3))\n",
        "print(\"Precision:\", round(precision, 3))\n",
        "print(\"Recall:\", round(recall, 3))\n",
        "print(\"F1 score:\", round(f1,3))\n",
        "\n",
        "# Calculating the label distribution\n",
        "label_distribution_4 = pd.Series(preds).value_counts()\n",
        "\n",
        "values.loc[3] = [\"Logistic Regression using tfidf\", round(acc,3), round(precision,3), round(recall,3), round(f1,3), \" \"]\n",
        "log.loc[0] = [\"Logistic Regression using tfidf\", round(acc,3), round(precision,3), round(recall,3), round(f1,3)]"
      ]
    },
    {
      "cell_type": "markdown",
      "id": "c3939415",
      "metadata": {
        "id": "c3939415"
      },
      "source": [
        "### SVC Classifier with One-hot vectorization"
      ]
    },
    {
      "cell_type": "code",
      "execution_count": null,
      "id": "62a225ea",
      "metadata": {
        "id": "62a225ea"
      },
      "outputs": [],
      "source": [
        "# Create a CountVectorizer object and fit it on the training set\n",
        "vectorizer = CountVectorizer()\n",
        "vectorizer.fit(texts_train)\n",
        "\n",
        "# Transform the tweets in both the training and testing sets into one-hot vectors\n",
        "train_one_hot = vectorizer.transform(texts_train)\n",
        "test_one_hot = vectorizer.transform(texts_val)\n",
        "train_one_hot_2= train_one_hot.toarray()\n",
        "test_one_hot_2 = test_one_hot.toarray()\n",
        "\n",
        "\n",
        "# Create an OneHotEncoder object and fit it on the one-hot vectors of the training set\n",
        "encoder1 = OneHotEncoder(handle_unknown='ignore')\n",
        "encoder1.fit(train_one_hot_2)\n",
        "\n",
        "# Transform the one-hot vectors of both the training and testing sets into one-hot encoded vectors\n",
        "train_one_hot_encoded = encoder1.transform(train_one_hot_2)\n",
        "test_one_hot_encoded = encoder1.transform(test_one_hot_2)"
      ]
    },
    {
      "cell_type": "code",
      "execution_count": null,
      "id": "20d618c2",
      "metadata": {
        "colab": {
          "base_uri": "https://localhost:8080/"
        },
        "id": "20d618c2",
        "outputId": "6ef3082b-5c6c-4806-8a3b-9cec4b75d727"
      },
      "outputs": [
        {
          "output_type": "stream",
          "name": "stdout",
          "text": [
            "Accuracy: 0.775\n",
            "Precision: 0.258\n",
            "Recall: 0.333\n",
            "F1 score: 0.291\n"
          ]
        },
        {
          "output_type": "stream",
          "name": "stderr",
          "text": [
            "/usr/local/lib/python3.9/dist-packages/sklearn/metrics/_classification.py:1344: UndefinedMetricWarning: Precision is ill-defined and being set to 0.0 in labels with no predicted samples. Use `zero_division` parameter to control this behavior.\n",
            "  _warn_prf(average, modifier, msg_start, len(result))\n"
          ]
        }
      ],
      "source": [
        "# Create an SVC object and fit it on the training data\n",
        "svc = SVC()\n",
        "svc.fit(train_one_hot_encoded, labels_train)\n",
        "\n",
        "# Make predictions on the validation data\n",
        "preds = svc.predict(test_one_hot_encoded)\n",
        "\n",
        "# Calculate accuracy, recall, and F1 score\n",
        "acc = accuracy_score(labels_val, preds)\n",
        "recall = recall_score(labels_val, preds, average='macro')\n",
        "f1 = f1_score(labels_val, preds, average='macro')\n",
        "precision = precision_score(labels_val, preds, average='macro')\n",
        "\n",
        "print(\"Accuracy:\", round(acc, 3))\n",
        "print(\"Precision:\", round(precision, 3))\n",
        "print(\"Recall:\", round(recall, 3))\n",
        "print(\"F1 score:\", round(f1,3))\n",
        "\n",
        "# Calculating the label distribution\n",
        "label_distribution_5 = pd.Series(preds).value_counts()\n",
        "\n",
        "values.loc[4] = [\"SVC using one hot\", round(acc,3), round(precision,3), round(recall,3), round(f1,3), \" \"]"
      ]
    },
    {
      "cell_type": "markdown",
      "id": "089f84a2",
      "metadata": {
        "id": "089f84a2"
      },
      "source": [
        "### Table and F1 bar graph"
      ]
    },
    {
      "cell_type": "code",
      "source": [
        "#print original validation data and classifier predicted label distribution\n",
        "from collections import Counter\n",
        "print(\"Original count\", Counter(labels_val))\n",
        "print(\"Dummy Classifier with most frequent \\n\", label_distribution_1)\n",
        "print(\"Dummy Classifier with Stratified \\n\", label_distribution_2)\n",
        "print(\"Logistic regression using one hot \\n\", label_distribution_3)\n",
        "print(\"Logistic regression using TFIDF \\n\", label_distribution_4)\n",
        "print(\"SVC using one hot \\n\", label_distribution_5)"
      ],
      "metadata": {
        "colab": {
          "base_uri": "https://localhost:8080/"
        },
        "id": "ChtazF_mBipA",
        "outputId": "115a35e5-7016-44e3-ae29-22e1851bc66b"
      },
      "id": "ChtazF_mBipA",
      "execution_count": null,
      "outputs": [
        {
          "output_type": "stream",
          "name": "stdout",
          "text": [
            "Original count Counter({1: 1536, 2: 340, 0: 107})\n",
            "Dummy Classifier with most frequent \n",
            " 1    1983\n",
            "dtype: int64\n",
            "Dummy Classifier with Stratified \n",
            " 1    1523\n",
            "2     348\n",
            "0     112\n",
            "dtype: int64\n",
            "Logistic regression using one hot \n",
            " 1    1604\n",
            "2     319\n",
            "0      60\n",
            "dtype: int64\n",
            "Logistic regression using TFIDF \n",
            " 1    1676\n",
            "2     279\n",
            "0      28\n",
            "dtype: int64\n",
            "SVC using one hot \n",
            " 1    1983\n",
            "dtype: int64\n"
          ]
        }
      ]
    },
    {
      "cell_type": "code",
      "execution_count": null,
      "id": "fb6c078b",
      "metadata": {
        "id": "fb6c078b",
        "outputId": "30211156-9292-481f-9ae8-8c56f7eb279e",
        "colab": {
          "base_uri": "https://localhost:8080/",
          "height": 206
        }
      },
      "outputs": [
        {
          "output_type": "execute_result",
          "data": {
            "text/plain": [
              "                            Classifiers  Accuracy  Precision  Recall     F1  \\\n",
              "0  Dummy Classifier using most_frequent     0.775      0.258   0.333  0.291   \n",
              "1     Dummy Classifier using stratified     0.639      0.338   0.338  0.338   \n",
              "2    Logistic Regression: using one hot     0.887      0.748   0.671  0.698   \n",
              "3       Logistic Regression using tfidf     0.891      0.819   0.626  0.671   \n",
              "4                     SVC using one hot     0.775      0.258   0.333  0.291   \n",
              "\n",
              "  Average  \n",
              "0          \n",
              "1          \n",
              "2          \n",
              "3          \n",
              "4          "
            ],
            "text/html": [
              "\n",
              "  <div id=\"df-2b13a2ff-ed2b-490c-997d-1eff4902f5d7\">\n",
              "    <div class=\"colab-df-container\">\n",
              "      <div>\n",
              "<style scoped>\n",
              "    .dataframe tbody tr th:only-of-type {\n",
              "        vertical-align: middle;\n",
              "    }\n",
              "\n",
              "    .dataframe tbody tr th {\n",
              "        vertical-align: top;\n",
              "    }\n",
              "\n",
              "    .dataframe thead th {\n",
              "        text-align: right;\n",
              "    }\n",
              "</style>\n",
              "<table border=\"1\" class=\"dataframe\">\n",
              "  <thead>\n",
              "    <tr style=\"text-align: right;\">\n",
              "      <th></th>\n",
              "      <th>Classifiers</th>\n",
              "      <th>Accuracy</th>\n",
              "      <th>Precision</th>\n",
              "      <th>Recall</th>\n",
              "      <th>F1</th>\n",
              "      <th>Average</th>\n",
              "    </tr>\n",
              "  </thead>\n",
              "  <tbody>\n",
              "    <tr>\n",
              "      <th>0</th>\n",
              "      <td>Dummy Classifier using most_frequent</td>\n",
              "      <td>0.775</td>\n",
              "      <td>0.258</td>\n",
              "      <td>0.333</td>\n",
              "      <td>0.291</td>\n",
              "      <td></td>\n",
              "    </tr>\n",
              "    <tr>\n",
              "      <th>1</th>\n",
              "      <td>Dummy Classifier using stratified</td>\n",
              "      <td>0.639</td>\n",
              "      <td>0.338</td>\n",
              "      <td>0.338</td>\n",
              "      <td>0.338</td>\n",
              "      <td></td>\n",
              "    </tr>\n",
              "    <tr>\n",
              "      <th>2</th>\n",
              "      <td>Logistic Regression: using one hot</td>\n",
              "      <td>0.887</td>\n",
              "      <td>0.748</td>\n",
              "      <td>0.671</td>\n",
              "      <td>0.698</td>\n",
              "      <td></td>\n",
              "    </tr>\n",
              "    <tr>\n",
              "      <th>3</th>\n",
              "      <td>Logistic Regression using tfidf</td>\n",
              "      <td>0.891</td>\n",
              "      <td>0.819</td>\n",
              "      <td>0.626</td>\n",
              "      <td>0.671</td>\n",
              "      <td></td>\n",
              "    </tr>\n",
              "    <tr>\n",
              "      <th>4</th>\n",
              "      <td>SVC using one hot</td>\n",
              "      <td>0.775</td>\n",
              "      <td>0.258</td>\n",
              "      <td>0.333</td>\n",
              "      <td>0.291</td>\n",
              "      <td></td>\n",
              "    </tr>\n",
              "  </tbody>\n",
              "</table>\n",
              "</div>\n",
              "      <button class=\"colab-df-convert\" onclick=\"convertToInteractive('df-2b13a2ff-ed2b-490c-997d-1eff4902f5d7')\"\n",
              "              title=\"Convert this dataframe to an interactive table.\"\n",
              "              style=\"display:none;\">\n",
              "        \n",
              "  <svg xmlns=\"http://www.w3.org/2000/svg\" height=\"24px\"viewBox=\"0 0 24 24\"\n",
              "       width=\"24px\">\n",
              "    <path d=\"M0 0h24v24H0V0z\" fill=\"none\"/>\n",
              "    <path d=\"M18.56 5.44l.94 2.06.94-2.06 2.06-.94-2.06-.94-.94-2.06-.94 2.06-2.06.94zm-11 1L8.5 8.5l.94-2.06 2.06-.94-2.06-.94L8.5 2.5l-.94 2.06-2.06.94zm10 10l.94 2.06.94-2.06 2.06-.94-2.06-.94-.94-2.06-.94 2.06-2.06.94z\"/><path d=\"M17.41 7.96l-1.37-1.37c-.4-.4-.92-.59-1.43-.59-.52 0-1.04.2-1.43.59L10.3 9.45l-7.72 7.72c-.78.78-.78 2.05 0 2.83L4 21.41c.39.39.9.59 1.41.59.51 0 1.02-.2 1.41-.59l7.78-7.78 2.81-2.81c.8-.78.8-2.07 0-2.86zM5.41 20L4 18.59l7.72-7.72 1.47 1.35L5.41 20z\"/>\n",
              "  </svg>\n",
              "      </button>\n",
              "      \n",
              "  <style>\n",
              "    .colab-df-container {\n",
              "      display:flex;\n",
              "      flex-wrap:wrap;\n",
              "      gap: 12px;\n",
              "    }\n",
              "\n",
              "    .colab-df-convert {\n",
              "      background-color: #E8F0FE;\n",
              "      border: none;\n",
              "      border-radius: 50%;\n",
              "      cursor: pointer;\n",
              "      display: none;\n",
              "      fill: #1967D2;\n",
              "      height: 32px;\n",
              "      padding: 0 0 0 0;\n",
              "      width: 32px;\n",
              "    }\n",
              "\n",
              "    .colab-df-convert:hover {\n",
              "      background-color: #E2EBFA;\n",
              "      box-shadow: 0px 1px 2px rgba(60, 64, 67, 0.3), 0px 1px 3px 1px rgba(60, 64, 67, 0.15);\n",
              "      fill: #174EA6;\n",
              "    }\n",
              "\n",
              "    [theme=dark] .colab-df-convert {\n",
              "      background-color: #3B4455;\n",
              "      fill: #D2E3FC;\n",
              "    }\n",
              "\n",
              "    [theme=dark] .colab-df-convert:hover {\n",
              "      background-color: #434B5C;\n",
              "      box-shadow: 0px 1px 3px 1px rgba(0, 0, 0, 0.15);\n",
              "      filter: drop-shadow(0px 1px 2px rgba(0, 0, 0, 0.3));\n",
              "      fill: #FFFFFF;\n",
              "    }\n",
              "  </style>\n",
              "\n",
              "      <script>\n",
              "        const buttonEl =\n",
              "          document.querySelector('#df-2b13a2ff-ed2b-490c-997d-1eff4902f5d7 button.colab-df-convert');\n",
              "        buttonEl.style.display =\n",
              "          google.colab.kernel.accessAllowed ? 'block' : 'none';\n",
              "\n",
              "        async function convertToInteractive(key) {\n",
              "          const element = document.querySelector('#df-2b13a2ff-ed2b-490c-997d-1eff4902f5d7');\n",
              "          const dataTable =\n",
              "            await google.colab.kernel.invokeFunction('convertToInteractive',\n",
              "                                                     [key], {});\n",
              "          if (!dataTable) return;\n",
              "\n",
              "          const docLinkHtml = 'Like what you see? Visit the ' +\n",
              "            '<a target=\"_blank\" href=https://colab.research.google.com/notebooks/data_table.ipynb>data table notebook</a>'\n",
              "            + ' to learn more about interactive tables.';\n",
              "          element.innerHTML = '';\n",
              "          dataTable['output_type'] = 'display_data';\n",
              "          await google.colab.output.renderOutput(dataTable, element);\n",
              "          const docLink = document.createElement('div');\n",
              "          docLink.innerHTML = docLinkHtml;\n",
              "          element.appendChild(docLink);\n",
              "        }\n",
              "      </script>\n",
              "    </div>\n",
              "  </div>\n",
              "  "
            ]
          },
          "metadata": {},
          "execution_count": 41
        }
      ],
      "source": [
        "#tabel comparing all the classifiers\n",
        "values"
      ]
    },
    {
      "cell_type": "code",
      "execution_count": null,
      "id": "abb40f76",
      "metadata": {
        "id": "abb40f76",
        "outputId": "5d323c6a-68ce-4000-8241-bd26894af254",
        "colab": {
          "base_uri": "https://localhost:8080/",
          "height": 589
        }
      },
      "outputs": [
        {
          "output_type": "execute_result",
          "data": {
            "text/plain": [
              "([0, 1, 2, 3, 4],\n",
              " [Text(0, 0, 'Dummy Classifier using most_frequent'),\n",
              "  Text(1, 0, 'Dummy Classifier using stratified'),\n",
              "  Text(2, 0, 'Logistic Regression: using one hot'),\n",
              "  Text(3, 0, 'Logistic Regression using tfidf'),\n",
              "  Text(4, 0, 'SVC using one hot')])"
            ]
          },
          "metadata": {},
          "execution_count": 42
        },
        {
          "output_type": "display_data",
          "data": {
            "text/plain": [
              "<Figure size 432x288 with 1 Axes>"
            ],
            "image/png": "[encoded data removed]"
          },
          "metadata": {
            "needs_background": "light"
          }
        }
      ],
      "source": [
        "#creating a bar graph for the F1 score of the classifiers\n",
        "names = values['Classifiers'].tolist()\n",
        "f1score = values['F1'].tolist()\n",
        "\n",
        "# Create a bar chart\n",
        "plt.bar(names, f1score)\n",
        "\n",
        "# Add labels and title to x-axis and y-axis\n",
        "plt.xlabel('Classifier names')\n",
        "plt.ylabel('F1 score')\n",
        "plt.title('F1 score comparission')\n",
        "plt.xticks(rotation=90)"
      ]
    },
    {
      "cell_type": "code",
      "execution_count": null,
      "id": "4f32947e",
      "metadata": {
        "id": "4f32947e"
      },
      "outputs": [],
      "source": [
        "plt.show()"
      ]
    },
    {
      "cell_type": "markdown",
      "id": "f514a6ce",
      "metadata": {
        "id": "f514a6ce"
      },
      "source": [
        "### Best Classifier in terms of Accuracy, Precision, Recall and F1"
      ]
    },
    {
      "cell_type": "code",
      "execution_count": null,
      "id": "596fadf5",
      "metadata": {
        "id": "596fadf5",
        "outputId": "76aa43bd-a5c9-407a-b29a-4873dd330f03",
        "colab": {
          "base_uri": "https://localhost:8080/"
        }
      },
      "outputs": [
        {
          "output_type": "stream",
          "name": "stdout",
          "text": [
            "The best classifier with respect to accuracy, precision, recall and f1 score is:  Logistic Regression using tfidf\n"
          ]
        }
      ],
      "source": [
        "Acc = values['Accuracy'].tolist()\n",
        "pre = values['Precision'].tolist()\n",
        "rec = values['Recall'].tolist()\n",
        "\n",
        "for i in range(len(Acc)):\n",
        "    overall = Acc[i] + pre[i] + rec[i] + f1score[i]\n",
        "    #values['Average'].loc(i) = overall\n",
        "    values.loc[i, 'Average'] = overall\n",
        "\n",
        "values\n",
        "maxi = values['Average'].max()\n",
        "name = values.loc[values['Average'] == maxi]\n",
        "\n",
        "print(\"The best classifier with respect to accuracy, precision, recall and f1 score is: \", name['Classifiers'].values[0])"
      ]
    },
    {
      "cell_type": "markdown",
      "id": "a2540c2e",
      "metadata": {
        "id": "a2540c2e"
      },
      "source": [
        "### Decision Tree using CountVectorizer"
      ]
    },
    {
      "cell_type": "code",
      "execution_count": null,
      "id": "858e552c",
      "metadata": {
        "id": "858e552c",
        "outputId": "16ee90ba-ec0f-4313-90b5-ffcd644e9e50",
        "colab": {
          "base_uri": "https://localhost:8080/"
        }
      },
      "outputs": [
        {
          "output_type": "stream",
          "name": "stdout",
          "text": [
            "Accuracy: 0.885\n",
            "Precision: 0.731\n",
            "Recall: 0.737\n",
            "F1 score: 0.734\n",
            "Decision Tree: \n",
            " 1    1530\n",
            "2     343\n",
            "0     110\n",
            "dtype: int64\n",
            "Original count Counter({1: 1536, 2: 340, 0: 107})\n"
          ]
        }
      ],
      "source": [
        "#vectorizing the training and validation data using CountVectorizer\n",
        "vectorizer = CountVectorizer()\n",
        "texts_train_vec = vectorizer.fit_transform(texts_train)\n",
        "texts_test_vec = vectorizer.transform(texts_val)\n",
        "\n",
        "# Train a Decision Tree classifier on the training data\n",
        "clf = DecisionTreeClassifier()\n",
        "clf.fit(texts_train_vec, labels_train)\n",
        "\n",
        "# Predict the labels of the validation data\n",
        "labels_pred = clf.predict(texts_test_vec)\n",
        "\n",
        "# Calculate the accuracy, recall, and F1-score of the model\n",
        "accuracy = accuracy_score(labels_val, labels_pred)\n",
        "recall = recall_score(labels_val, labels_pred, average='macro')\n",
        "f1 = f1_score(labels_val, labels_pred, average='macro')\n",
        "precision = precision_score(labels_val, labels_pred, average='macro')\n",
        "\n",
        "print(\"Accuracy:\", round(accuracy, 3))\n",
        "print(\"Precision:\", round(precision, 3))\n",
        "print(\"Recall:\", round(recall, 3))\n",
        "print(\"F1 score:\", round(f1,3))\n",
        "\n",
        "av = accuracy + precision + recall + f1\n",
        "\n",
        "# Calculating the label distribution\n",
        "label_distribution_6 = pd.Series(labels_pred).value_counts()\n",
        "\n",
        "print(\"Decision Tree: \\n\", label_distribution_6)\n",
        "print(\"Original count\", Counter(labels_val))\n",
        "\n",
        "\n",
        "values.loc[5] = [\"Decision Tree using CountVectorizer\", round(accuracy,3), round(precision,3), round(recall,3), round(f1,3), round(av,3)]"
      ]
    },
    {
      "cell_type": "code",
      "execution_count": null,
      "id": "a038bc02",
      "metadata": {
        "id": "a038bc02",
        "outputId": "097269cc-9b29-4f44-90b8-d7792861b96a",
        "colab": {
          "base_uri": "https://localhost:8080/",
          "height": 237
        }
      },
      "outputs": [
        {
          "output_type": "execute_result",
          "data": {
            "text/plain": [
              "                            Classifiers  Accuracy  Precision  Recall     F1  \\\n",
              "0  Dummy Classifier using most_frequent     0.775      0.258   0.333  0.291   \n",
              "1     Dummy Classifier using stratified     0.639      0.338   0.338  0.338   \n",
              "2    Logistic Regression: using one hot     0.887      0.748   0.671  0.698   \n",
              "3       Logistic Regression using tfidf     0.891      0.819   0.626  0.671   \n",
              "4                     SVC using one hot     0.775      0.258   0.333  0.291   \n",
              "5   Decision Tree using CountVectorizer     0.885      0.731   0.737  0.734   \n",
              "\n",
              "  Average  \n",
              "0   1.657  \n",
              "1   1.653  \n",
              "2   3.004  \n",
              "3   3.007  \n",
              "4   1.657  \n",
              "5   3.087  "
            ],
            "text/html": [
              "\n",
              "  <div id=\"df-68d84dde-23da-4deb-8c39-52cb9da273e0\">\n",
              "    <div class=\"colab-df-container\">\n",
              "      <div>\n",
              "<style scoped>\n",
              "    .dataframe tbody tr th:only-of-type {\n",
              "        vertical-align: middle;\n",
              "    }\n",
              "\n",
              "    .dataframe tbody tr th {\n",
              "        vertical-align: top;\n",
              "    }\n",
              "\n",
              "    .dataframe thead th {\n",
              "        text-align: right;\n",
              "    }\n",
              "</style>\n",
              "<table border=\"1\" class=\"dataframe\">\n",
              "  <thead>\n",
              "    <tr style=\"text-align: right;\">\n",
              "      <th></th>\n",
              "      <th>Classifiers</th>\n",
              "      <th>Accuracy</th>\n",
              "      <th>Precision</th>\n",
              "      <th>Recall</th>\n",
              "      <th>F1</th>\n",
              "      <th>Average</th>\n",
              "    </tr>\n",
              "  </thead>\n",
              "  <tbody>\n",
              "    <tr>\n",
              "      <th>0</th>\n",
              "      <td>Dummy Classifier using most_frequent</td>\n",
              "      <td>0.775</td>\n",
              "      <td>0.258</td>\n",
              "      <td>0.333</td>\n",
              "      <td>0.291</td>\n",
              "      <td>1.657</td>\n",
              "    </tr>\n",
              "    <tr>\n",
              "      <th>1</th>\n",
              "      <td>Dummy Classifier using stratified</td>\n",
              "      <td>0.639</td>\n",
              "      <td>0.338</td>\n",
              "      <td>0.338</td>\n",
              "      <td>0.338</td>\n",
              "      <td>1.653</td>\n",
              "    </tr>\n",
              "    <tr>\n",
              "      <th>2</th>\n",
              "      <td>Logistic Regression: using one hot</td>\n",
              "      <td>0.887</td>\n",
              "      <td>0.748</td>\n",
              "      <td>0.671</td>\n",
              "      <td>0.698</td>\n",
              "      <td>3.004</td>\n",
              "    </tr>\n",
              "    <tr>\n",
              "      <th>3</th>\n",
              "      <td>Logistic Regression using tfidf</td>\n",
              "      <td>0.891</td>\n",
              "      <td>0.819</td>\n",
              "      <td>0.626</td>\n",
              "      <td>0.671</td>\n",
              "      <td>3.007</td>\n",
              "    </tr>\n",
              "    <tr>\n",
              "      <th>4</th>\n",
              "      <td>SVC using one hot</td>\n",
              "      <td>0.775</td>\n",
              "      <td>0.258</td>\n",
              "      <td>0.333</td>\n",
              "      <td>0.291</td>\n",
              "      <td>1.657</td>\n",
              "    </tr>\n",
              "    <tr>\n",
              "      <th>5</th>\n",
              "      <td>Decision Tree using CountVectorizer</td>\n",
              "      <td>0.885</td>\n",
              "      <td>0.731</td>\n",
              "      <td>0.737</td>\n",
              "      <td>0.734</td>\n",
              "      <td>3.087</td>\n",
              "    </tr>\n",
              "  </tbody>\n",
              "</table>\n",
              "</div>\n",
              "      <button class=\"colab-df-convert\" onclick=\"convertToInteractive('df-68d84dde-23da-4deb-8c39-52cb9da273e0')\"\n",
              "              title=\"Convert this dataframe to an interactive table.\"\n",
              "              style=\"display:none;\">\n",
              "        \n",
              "  <svg xmlns=\"http://www.w3.org/2000/svg\" height=\"24px\"viewBox=\"0 0 24 24\"\n",
              "       width=\"24px\">\n",
              "    <path d=\"M0 0h24v24H0V0z\" fill=\"none\"/>\n",
              "    <path d=\"M18.56 5.44l.94 2.06.94-2.06 2.06-.94-2.06-.94-.94-2.06-.94 2.06-2.06.94zm-11 1L8.5 8.5l.94-2.06 2.06-.94-2.06-.94L8.5 2.5l-.94 2.06-2.06.94zm10 10l.94 2.06.94-2.06 2.06-.94-2.06-.94-.94-2.06-.94 2.06-2.06.94z\"/><path d=\"M17.41 7.96l-1.37-1.37c-.4-.4-.92-.59-1.43-.59-.52 0-1.04.2-1.43.59L10.3 9.45l-7.72 7.72c-.78.78-.78 2.05 0 2.83L4 21.41c.39.39.9.59 1.41.59.51 0 1.02-.2 1.41-.59l7.78-7.78 2.81-2.81c.8-.78.8-2.07 0-2.86zM5.41 20L4 18.59l7.72-7.72 1.47 1.35L5.41 20z\"/>\n",
              "  </svg>\n",
              "      </button>\n",
              "      \n",
              "  <style>\n",
              "    .colab-df-container {\n",
              "      display:flex;\n",
              "      flex-wrap:wrap;\n",
              "      gap: 12px;\n",
              "    }\n",
              "\n",
              "    .colab-df-convert {\n",
              "      background-color: #E8F0FE;\n",
              "      border: none;\n",
              "      border-radius: 50%;\n",
              "      cursor: pointer;\n",
              "      display: none;\n",
              "      fill: #1967D2;\n",
              "      height: 32px;\n",
              "      padding: 0 0 0 0;\n",
              "      width: 32px;\n",
              "    }\n",
              "\n",
              "    .colab-df-convert:hover {\n",
              "      background-color: #E2EBFA;\n",
              "      box-shadow: 0px 1px 2px rgba(60, 64, 67, 0.3), 0px 1px 3px 1px rgba(60, 64, 67, 0.15);\n",
              "      fill: #174EA6;\n",
              "    }\n",
              "\n",
              "    [theme=dark] .colab-df-convert {\n",
              "      background-color: #3B4455;\n",
              "      fill: #D2E3FC;\n",
              "    }\n",
              "\n",
              "    [theme=dark] .colab-df-convert:hover {\n",
              "      background-color: #434B5C;\n",
              "      box-shadow: 0px 1px 3px 1px rgba(0, 0, 0, 0.15);\n",
              "      filter: drop-shadow(0px 1px 2px rgba(0, 0, 0, 0.3));\n",
              "      fill: #FFFFFF;\n",
              "    }\n",
              "  </style>\n",
              "\n",
              "      <script>\n",
              "        const buttonEl =\n",
              "          document.querySelector('#df-68d84dde-23da-4deb-8c39-52cb9da273e0 button.colab-df-convert');\n",
              "        buttonEl.style.display =\n",
              "          google.colab.kernel.accessAllowed ? 'block' : 'none';\n",
              "\n",
              "        async function convertToInteractive(key) {\n",
              "          const element = document.querySelector('#df-68d84dde-23da-4deb-8c39-52cb9da273e0');\n",
              "          const dataTable =\n",
              "            await google.colab.kernel.invokeFunction('convertToInteractive',\n",
              "                                                     [key], {});\n",
              "          if (!dataTable) return;\n",
              "\n",
              "          const docLinkHtml = 'Like what you see? Visit the ' +\n",
              "            '<a target=\"_blank\" href=https://colab.research.google.com/notebooks/data_table.ipynb>data table notebook</a>'\n",
              "            + ' to learn more about interactive tables.';\n",
              "          element.innerHTML = '';\n",
              "          dataTable['output_type'] = 'display_data';\n",
              "          await google.colab.output.renderOutput(dataTable, element);\n",
              "          const docLink = document.createElement('div');\n",
              "          docLink.innerHTML = docLinkHtml;\n",
              "          element.appendChild(docLink);\n",
              "        }\n",
              "      </script>\n",
              "    </div>\n",
              "  </div>\n",
              "  "
            ]
          },
          "metadata": {},
          "execution_count": 46
        }
      ],
      "source": [
        "values"
      ]
    },
    {
      "cell_type": "markdown",
      "id": "1281e8b5",
      "metadata": {
        "id": "1281e8b5"
      },
      "source": [
        "### Logistic Regression with Parameter Tuning\n"
      ]
    },
    {
      "cell_type": "code",
      "execution_count": null,
      "id": "3a690082",
      "metadata": {
        "id": "3a690082",
        "outputId": "029d436b-349f-4570-f6a2-f642686a981a",
        "colab": {
          "base_uri": "https://localhost:8080/"
        }
      },
      "outputs": [
        {
          "output_type": "stream",
          "name": "stdout",
          "text": [
            "Fitting 5 folds for each of 288 candidates, totalling 1440 fits\n"
          ]
        }
      ],
      "source": [
        "#creating a pipeline for vectorizer and logistic regression\n",
        "pipeline = Pipeline([\n",
        "    ('tfidf', TfidfVectorizer()),\n",
        "    ('clf', LogisticRegression())\n",
        "])\n",
        "\n",
        "#setting all the possible values of the parameters\n",
        "parameters = {\n",
        "    'tfidf__sublinear_tf': [True, False],\n",
        "    'tfidf__max_features': [None, 10000, 20000, 30000, 40000, 50000],\n",
        "    'clf__C': [0.001, 0.01, 0.1, 1, 10, 100, 1000, 10000],\n",
        "    'clf__max_iter': [500, 1000, 1500]\n",
        "}\n",
        "\n",
        "#running a grid search to find the best parameters\n",
        "grid_search = GridSearchCV(pipeline, parameters, cv=5, n_jobs=-1, verbose=1)\n",
        "grid_search.fit(texts_train, labels_train)\n",
        "\n",
        "# Get the best estimator\n",
        "best_estimator = grid_search.best_estimator_\n",
        "\n",
        "# Make predictions on the validation data\n",
        "labels_pred = best_estimator.predict(texts_val)"
      ]
    },
    {
      "cell_type": "code",
      "execution_count": null,
      "id": "f53ada43",
      "metadata": {
        "id": "f53ada43",
        "outputId": "5ae44296-8cd4-4255-83ba-015fdef8d58a",
        "colab": {
          "base_uri": "https://localhost:8080/"
        }
      },
      "outputs": [
        {
          "output_type": "stream",
          "name": "stdout",
          "text": [
            "Best hyperparameters:  {'clf__C': 10, 'clf__max_iter': 500, 'tfidf__max_features': None, 'tfidf__sublinear_tf': False}\n",
            "Accuracy: 0.894\n",
            "Precision: 0.788\n",
            "Recall: 0.709\n",
            "F1 score: 0.741\n"
          ]
        }
      ],
      "source": [
        "accuracy = accuracy_score(labels_val, labels_pred)\n",
        "recall = recall_score(labels_val, labels_pred, average='macro')\n",
        "f1 = f1_score(labels_val, labels_pred, average='macro')\n",
        "precision = precision_score(labels_val, labels_pred, average='macro')\n",
        "\n",
        "print(\"Best hyperparameters: \", grid_search.best_params_)\n",
        "print(\"Accuracy:\", round(accuracy, 3))\n",
        "print(\"Precision:\", round(precision, 3))\n",
        "print(\"Recall:\", round(recall, 3))\n",
        "print(\"F1 score:\", round(f1,3))\n",
        "\n",
        "log.loc[1] = [\"Tuned Logistic Regression using tfidf\", round(accuracy,3), round(precision,3), round(recall,3), round(f1,3)]"
      ]
    },
    {
      "cell_type": "code",
      "execution_count": null,
      "id": "9616c598",
      "metadata": {
        "id": "9616c598",
        "outputId": "b54b9599-5c81-4727-fcb1-85cda89310f9",
        "colab": {
          "base_uri": "https://localhost:8080/",
          "height": 112
        }
      },
      "outputs": [
        {
          "output_type": "execute_result",
          "data": {
            "text/plain": [
              "                             Classifiers  Accuracy  Precision  Recall     F1\n",
              "0        Logistic Regression using tfidf     0.891      0.819   0.626  0.671\n",
              "1  Tuned Logistic Regression using tfidf     0.894      0.788   0.709  0.741"
            ],
            "text/html": [
              "\n",
              "  <div id=\"df-f0b4a2ec-8d16-4e24-b8b2-1034f8972317\">\n",
              "    <div class=\"colab-df-container\">\n",
              "      <div>\n",
              "<style scoped>\n",
              "    .dataframe tbody tr th:only-of-type {\n",
              "        vertical-align: middle;\n",
              "    }\n",
              "\n",
              "    .dataframe tbody tr th {\n",
              "        vertical-align: top;\n",
              "    }\n",
              "\n",
              "    .dataframe thead th {\n",
              "        text-align: right;\n",
              "    }\n",
              "</style>\n",
              "<table border=\"1\" class=\"dataframe\">\n",
              "  <thead>\n",
              "    <tr style=\"text-align: right;\">\n",
              "      <th></th>\n",
              "      <th>Classifiers</th>\n",
              "      <th>Accuracy</th>\n",
              "      <th>Precision</th>\n",
              "      <th>Recall</th>\n",
              "      <th>F1</th>\n",
              "    </tr>\n",
              "  </thead>\n",
              "  <tbody>\n",
              "    <tr>\n",
              "      <th>0</th>\n",
              "      <td>Logistic Regression using tfidf</td>\n",
              "      <td>0.891</td>\n",
              "      <td>0.819</td>\n",
              "      <td>0.626</td>\n",
              "      <td>0.671</td>\n",
              "    </tr>\n",
              "    <tr>\n",
              "      <th>1</th>\n",
              "      <td>Tuned Logistic Regression using tfidf</td>\n",
              "      <td>0.894</td>\n",
              "      <td>0.788</td>\n",
              "      <td>0.709</td>\n",
              "      <td>0.741</td>\n",
              "    </tr>\n",
              "  </tbody>\n",
              "</table>\n",
              "</div>\n",
              "      <button class=\"colab-df-convert\" onclick=\"convertToInteractive('df-f0b4a2ec-8d16-4e24-b8b2-1034f8972317')\"\n",
              "              title=\"Convert this dataframe to an interactive table.\"\n",
              "              style=\"display:none;\">\n",
              "        \n",
              "  <svg xmlns=\"http://www.w3.org/2000/svg\" height=\"24px\"viewBox=\"0 0 24 24\"\n",
              "       width=\"24px\">\n",
              "    <path d=\"M0 0h24v24H0V0z\" fill=\"none\"/>\n",
              "    <path d=\"M18.56 5.44l.94 2.06.94-2.06 2.06-.94-2.06-.94-.94-2.06-.94 2.06-2.06.94zm-11 1L8.5 8.5l.94-2.06 2.06-.94-2.06-.94L8.5 2.5l-.94 2.06-2.06.94zm10 10l.94 2.06.94-2.06 2.06-.94-2.06-.94-.94-2.06-.94 2.06-2.06.94z\"/><path d=\"M17.41 7.96l-1.37-1.37c-.4-.4-.92-.59-1.43-.59-.52 0-1.04.2-1.43.59L10.3 9.45l-7.72 7.72c-.78.78-.78 2.05 0 2.83L4 21.41c.39.39.9.59 1.41.59.51 0 1.02-.2 1.41-.59l7.78-7.78 2.81-2.81c.8-.78.8-2.07 0-2.86zM5.41 20L4 18.59l7.72-7.72 1.47 1.35L5.41 20z\"/>\n",
              "  </svg>\n",
              "      </button>\n",
              "      \n",
              "  <style>\n",
              "    .colab-df-container {\n",
              "      display:flex;\n",
              "      flex-wrap:wrap;\n",
              "      gap: 12px;\n",
              "    }\n",
              "\n",
              "    .colab-df-convert {\n",
              "      background-color: #E8F0FE;\n",
              "      border: none;\n",
              "      border-radius: 50%;\n",
              "      cursor: pointer;\n",
              "      display: none;\n",
              "      fill: #1967D2;\n",
              "      height: 32px;\n",
              "      padding: 0 0 0 0;\n",
              "      width: 32px;\n",
              "    }\n",
              "\n",
              "    .colab-df-convert:hover {\n",
              "      background-color: #E2EBFA;\n",
              "      box-shadow: 0px 1px 2px rgba(60, 64, 67, 0.3), 0px 1px 3px 1px rgba(60, 64, 67, 0.15);\n",
              "      fill: #174EA6;\n",
              "    }\n",
              "\n",
              "    [theme=dark] .colab-df-convert {\n",
              "      background-color: #3B4455;\n",
              "      fill: #D2E3FC;\n",
              "    }\n",
              "\n",
              "    [theme=dark] .colab-df-convert:hover {\n",
              "      background-color: #434B5C;\n",
              "      box-shadow: 0px 1px 3px 1px rgba(0, 0, 0, 0.15);\n",
              "      filter: drop-shadow(0px 1px 2px rgba(0, 0, 0, 0.3));\n",
              "      fill: #FFFFFF;\n",
              "    }\n",
              "  </style>\n",
              "\n",
              "      <script>\n",
              "        const buttonEl =\n",
              "          document.querySelector('#df-f0b4a2ec-8d16-4e24-b8b2-1034f8972317 button.colab-df-convert');\n",
              "        buttonEl.style.display =\n",
              "          google.colab.kernel.accessAllowed ? 'block' : 'none';\n",
              "\n",
              "        async function convertToInteractive(key) {\n",
              "          const element = document.querySelector('#df-f0b4a2ec-8d16-4e24-b8b2-1034f8972317');\n",
              "          const dataTable =\n",
              "            await google.colab.kernel.invokeFunction('convertToInteractive',\n",
              "                                                     [key], {});\n",
              "          if (!dataTable) return;\n",
              "\n",
              "          const docLinkHtml = 'Like what you see? Visit the ' +\n",
              "            '<a target=\"_blank\" href=https://colab.research.google.com/notebooks/data_table.ipynb>data table notebook</a>'\n",
              "            + ' to learn more about interactive tables.';\n",
              "          element.innerHTML = '';\n",
              "          dataTable['output_type'] = 'display_data';\n",
              "          await google.colab.output.renderOutput(dataTable, element);\n",
              "          const docLink = document.createElement('div');\n",
              "          docLink.innerHTML = docLinkHtml;\n",
              "          element.appendChild(docLink);\n",
              "        }\n",
              "      </script>\n",
              "    </div>\n",
              "  </div>\n",
              "  "
            ]
          },
          "metadata": {},
          "execution_count": 49
        }
      ],
      "source": [
        "#comparison of before and after parameter tuning\n",
        "log"
      ]
    },
    {
      "cell_type": "markdown",
      "id": "49f860c8",
      "metadata": {
        "id": "49f860c8"
      },
      "source": [
        "### Context vectors using BERT"
      ]
    },
    {
      "cell_type": "code",
      "execution_count": null,
      "id": "900388f9",
      "metadata": {
        "colab": {
          "base_uri": "https://localhost:8080/"
        },
        "id": "900388f9",
        "outputId": "9fb24207-7896-4da3-b2f9-9cf181318956"
      },
      "outputs": [
        {
          "output_type": "stream",
          "name": "stdout",
          "text": [
            "Using GPU\n"
          ]
        }
      ],
      "source": [
        "#checking if GPU is in use\n",
        "import torch\n",
        "\n",
        "if torch.cuda.is_available():\n",
        "    device = torch.device(\"cuda\")\n",
        "    print(\"Using GPU\")\n",
        "else:\n",
        "    device = torch.device(\"cpu\")\n",
        "    print(\"Using CPU\")"
      ]
    },
    {
      "cell_type": "code",
      "source": [
        "#a dataset to store and compare all the classifiers using BERT\n",
        "values1 = pd.DataFrame(columns=['Classifiers', 'Accuracy', 'Precision', 'Recall', 'F1', 'Average'])"
      ],
      "metadata": {
        "id": "aOVjEEw874lU"
      },
      "id": "aOVjEEw874lU",
      "execution_count": null,
      "outputs": []
    },
    {
      "cell_type": "code",
      "execution_count": null,
      "id": "ec0c6ba2",
      "metadata": {
        "id": "ec0c6ba2",
        "outputId": "2c967494-86ab-41fe-af23-f4a341a58737",
        "colab": {
          "base_uri": "https://localhost:8080/",
          "height": 252,
          "referenced_widgets": [
            "f893e0a9e7c1471cab3744370344fb66",
            "45df374f2d934392b4848085df8fd4fc",
            "4df58704a8f24cf38f3590337a05a154",
            "c7b5f3176b5d496faba30ca1f8024bcc",
            "f4ffd1a55e3b486188af4ef525127c6b",
            "a890f25a7a11462e9c496f320a48c708",
            "9b373085412e4bdaa14a37c82fc661e8",
            "bb4a15ed11804bd29c4ee1cbfc9ac69e",
            "2f601cb1c86743ce8a26e525cd149f1f",
            "2990e29043d447fea87902040144a764",
            "fbedecba9329453f8af7e9cacb67993e",
            "a12f2a859fa34fcaa2307e0a650b98f7",
            "3e49b5fc6cf94c7ba433014c90d53750",
            "80a8b1a66f7748458671006b53c672e4",
            "4949fcd3f3984ee7b9ec0e05bd240fbd",
            "7239aca9a2424f978272a1e6d56b89b9",
            "db5a99d1a9134e989f0bd186bcac681d",
            "627370e4bc2d44ba9d5fa8d71bf79ada",
            "80df6118b3ab4c48958c5bbb9ecf9e9d",
            "c009ceca04a34812b68b202f54b26276",
            "ec36b3f5b3174100bfa29311dd0c56c6",
            "031e676be764446a9b25f01297177074",
            "49a4eed912f34738a6e248d8f4c104cb",
            "6faeb336efa74311833a89b3ed2a836e",
            "fb25a825179544998c31435846f00935",
            "818acfe615a2494c9a9fd6b538f819fa",
            "3cb6dad1c46643369f7c526dc7c41d81",
            "b07028286e544494a8deeed725512748",
            "9e877ed222dd4084ba41c4cbc8c97a45",
            "911c443667e54a50af94f667ecd7f706",
            "8f9d944240ca4b4aac8ae36d8aa6975a",
            "b94004c3e34d4014b6301ade56686977",
            "e3775416cb7248759aafff47297518b6",
            "c60b0b4e0bd44503a315fe74b4b545c3",
            "b83a51e7154f48bf82cdba8a1277eb44",
            "d096298bd9874c6a99fed0670eeec89c",
            "735c0d36619e4ac7bfc1dd3ab46bb64a",
            "1a443c35f9444ce9b25498585cc00d8c",
            "6d75e263e591477c87336f83ac0bc22d",
            "32716c5bee6d4afd8c6a462ae219d168",
            "6e88141db19f493ea43aac9383fee8b8",
            "dbab6b18e35743508438a78a127cdcff",
            "94fed9dcc7ae4d43b949ff562fa8c536",
            "0e529985e12b4c92b3763a099fb21404",
            "7e15bbe3bdd94de78834c2122f9cca1d",
            "9cf5e862ee1546c4b16686420d77b2ad",
            "79d7110abe294abf8c7bed156b61ae2a",
            "2468bb740a2549f5bafff087f6001deb",
            "a2144b7fe1ac4b19896665d1dad78718",
            "ad04a88451404d3bbb7257ba5689875a",
            "5ba67bb6b5794426be1d1db373a8cf36",
            "8c62c9fe348f46819e6f7b6b3be485ce",
            "efb5dbc4e2f7457eaa68e910cef46793",
            "2d586150ded7403fb88661effeadcda8",
            "ab5e136412774fcbb20bde3c0b2c79b3"
          ]
        }
      },
      "outputs": [
        {
          "output_type": "display_data",
          "data": {
            "text/plain": [
              "Downloading (…)lve/main/config.json:   0%|          | 0.00/481 [00:00<?, ?B/s]"
            ],
            "application/vnd.jupyter.widget-view+json": {
              "version_major": 2,
              "version_minor": 0,
              "model_id": "f893e0a9e7c1471cab3744370344fb66"
            }
          },
          "metadata": {}
        },
        {
          "output_type": "display_data",
          "data": {
            "text/plain": [
              "Downloading pytorch_model.bin:   0%|          | 0.00/501M [00:00<?, ?B/s]"
            ],
            "application/vnd.jupyter.widget-view+json": {
              "version_major": 2,
              "version_minor": 0,
              "model_id": "a12f2a859fa34fcaa2307e0a650b98f7"
            }
          },
          "metadata": {}
        },
        {
          "output_type": "stream",
          "name": "stderr",
          "text": [
            "Some weights of the model checkpoint at roberta-base were not used when initializing RobertaModel: ['lm_head.bias', 'lm_head.decoder.weight', 'lm_head.layer_norm.bias', 'lm_head.dense.bias', 'lm_head.layer_norm.weight', 'lm_head.dense.weight']\n",
            "- This IS expected if you are initializing RobertaModel from the checkpoint of a model trained on another task or with another architecture (e.g. initializing a BertForSequenceClassification model from a BertForPreTraining model).\n",
            "- This IS NOT expected if you are initializing RobertaModel from the checkpoint of a model that you expect to be exactly identical (initializing a BertForSequenceClassification model from a BertForSequenceClassification model).\n"
          ]
        },
        {
          "output_type": "display_data",
          "data": {
            "text/plain": [
              "Downloading (…)olve/main/vocab.json:   0%|          | 0.00/899k [00:00<?, ?B/s]"
            ],
            "application/vnd.jupyter.widget-view+json": {
              "version_major": 2,
              "version_minor": 0,
              "model_id": "49a4eed912f34738a6e248d8f4c104cb"
            }
          },
          "metadata": {}
        },
        {
          "output_type": "display_data",
          "data": {
            "text/plain": [
              "Downloading (…)olve/main/merges.txt:   0%|          | 0.00/456k [00:00<?, ?B/s]"
            ],
            "application/vnd.jupyter.widget-view+json": {
              "version_major": 2,
              "version_minor": 0,
              "model_id": "c60b0b4e0bd44503a315fe74b4b545c3"
            }
          },
          "metadata": {}
        },
        {
          "output_type": "display_data",
          "data": {
            "text/plain": [
              "Downloading (…)/main/tokenizer.json:   0%|          | 0.00/1.36M [00:00<?, ?B/s]"
            ],
            "application/vnd.jupyter.widget-view+json": {
              "version_major": 2,
              "version_minor": 0,
              "model_id": "7e15bbe3bdd94de78834c2122f9cca1d"
            }
          },
          "metadata": {}
        }
      ],
      "source": [
        "import transformers\n",
        "\n",
        "nlp_features = transformers.pipeline('feature-extraction', model=\"roberta-base\")"
      ]
    },
    {
      "cell_type": "code",
      "source": [
        "# Using the feature extractio to encode the tweets in the documents\n",
        "X_train_encoded = nlp_features(texts_train, padding=True, truncation=True, max_length=512)\n",
        "\n",
        "# Extracting the first context vector for each tweet\n",
        "X_train_encoded = [x[0][0] for x in X_train_encoded]"
      ],
      "metadata": {
        "id": "QN7J2fVptg_f"
      },
      "id": "QN7J2fVptg_f",
      "execution_count": null,
      "outputs": []
    },
    {
      "cell_type": "code",
      "source": [
        "#creating an object and fitting the training data through Logistic Regression\n",
        "logistic = LogisticRegression()\n",
        "logistic.fit(X_train_encoded, labels_train)"
      ],
      "metadata": {
        "colab": {
          "base_uri": "https://localhost:8080/",
          "height": 220
        },
        "id": "TYVxv102dIxt",
        "outputId": "799ad185-ec07-4aca-c4a4-5f63b98774c6"
      },
      "id": "TYVxv102dIxt",
      "execution_count": null,
      "outputs": [
        {
          "output_type": "stream",
          "name": "stderr",
          "text": [
            "/usr/local/lib/python3.9/dist-packages/sklearn/linear_model/_logistic.py:458: ConvergenceWarning: lbfgs failed to converge (status=1):\n",
            "STOP: TOTAL NO. of ITERATIONS REACHED LIMIT.\n",
            "\n",
            "Increase the number of iterations (max_iter) or scale the data as shown in:\n",
            "    https://scikit-learn.org/stable/modules/preprocessing.html\n",
            "Please also refer to the documentation for alternative solver options:\n",
            "    https://scikit-learn.org/stable/modules/linear_model.html#logistic-regression\n",
            "  n_iter_i = _check_optimize_result(\n"
          ]
        },
        {
          "output_type": "execute_result",
          "data": {
            "text/plain": [
              "LogisticRegression()"
            ],
            "text/html": [
              "<style>#sk-container-id-1 {color: black;background-color: white;}#sk-container-id-1 pre{padding: 0;}#sk-container-id-1 div.sk-toggleable {background-color: white;}#sk-container-id-1 label.sk-toggleable__label {cursor: pointer;display: block;width: 100%;margin-bottom: 0;padding: 0.3em;box-sizing: border-box;text-align: center;}#sk-container-id-1 label.sk-toggleable__label-arrow:before {content: \"▸\";float: left;margin-right: 0.25em;color: #696969;}#sk-container-id-1 label.sk-toggleable__label-arrow:hover:before {color: black;}#sk-container-id-1 div.sk-estimator:hover label.sk-toggleable__label-arrow:before {color: black;}#sk-container-id-1 div.sk-toggleable__content {max-height: 0;max-width: 0;overflow: hidden;text-align: left;background-color: #f0f8ff;}#sk-container-id-1 div.sk-toggleable__content pre {margin: 0.2em;color: black;border-radius: 0.25em;background-color: #f0f8ff;}#sk-container-id-1 input.sk-toggleable__control:checked~div.sk-toggleable__content {max-height: 200px;max-width: 100%;overflow: auto;}#sk-container-id-1 input.sk-toggleable__control:checked~label.sk-toggleable__label-arrow:before {content: \"▾\";}#sk-container-id-1 div.sk-estimator input.sk-toggleable__control:checked~label.sk-toggleable__label {background-color: #d4ebff;}#sk-container-id-1 div.sk-label input.sk-toggleable__control:checked~label.sk-toggleable__label {background-color: #d4ebff;}#sk-container-id-1 input.sk-hidden--visually {border: 0;clip: rect(1px 1px 1px 1px);clip: rect(1px, 1px, 1px, 1px);height: 1px;margin: -1px;overflow: hidden;padding: 0;position: absolute;width: 1px;}#sk-container-id-1 div.sk-estimator {font-family: monospace;background-color: #f0f8ff;border: 1px dotted black;border-radius: 0.25em;box-sizing: border-box;margin-bottom: 0.5em;}#sk-container-id-1 div.sk-estimator:hover {background-color: #d4ebff;}#sk-container-id-1 div.sk-parallel-item::after {content: \"\";width: 100%;border-bottom: 1px solid gray;flex-grow: 1;}#sk-container-id-1 div.sk-label:hover label.sk-toggleable__label {background-color: #d4ebff;}#sk-container-id-1 div.sk-serial::before {content: \"\";position: absolute;border-left: 1px solid gray;box-sizing: border-box;top: 0;bottom: 0;left: 50%;z-index: 0;}#sk-container-id-1 div.sk-serial {display: flex;flex-direction: column;align-items: center;background-color: white;padding-right: 0.2em;padding-left: 0.2em;position: relative;}#sk-container-id-1 div.sk-item {position: relative;z-index: 1;}#sk-container-id-1 div.sk-parallel {display: flex;align-items: stretch;justify-content: center;background-color: white;position: relative;}#sk-container-id-1 div.sk-item::before, #sk-container-id-1 div.sk-parallel-item::before {content: \"\";position: absolute;border-left: 1px solid gray;box-sizing: border-box;top: 0;bottom: 0;left: 50%;z-index: -1;}#sk-container-id-1 div.sk-parallel-item {display: flex;flex-direction: column;z-index: 1;position: relative;background-color: white;}#sk-container-id-1 div.sk-parallel-item:first-child::after {align-self: flex-end;width: 50%;}#sk-container-id-1 div.sk-parallel-item:last-child::after {align-self: flex-start;width: 50%;}#sk-container-id-1 div.sk-parallel-item:only-child::after {width: 0;}#sk-container-id-1 div.sk-dashed-wrapped {border: 1px dashed gray;margin: 0 0.4em 0.5em 0.4em;box-sizing: border-box;padding-bottom: 0.4em;background-color: white;}#sk-container-id-1 div.sk-label label {font-family: monospace;font-weight: bold;display: inline-block;line-height: 1.2em;}#sk-container-id-1 div.sk-label-container {text-align: center;}#sk-container-id-1 div.sk-container {/* jupyter's `normalize.less` sets `[hidden] { display: none; }` but bootstrap.min.css set `[hidden] { display: none !important; }` so we also need the `!important` here to be able to override the default hidden behavior on the sphinx rendered scikit-learn.org. See: https://github.com/scikit-learn/scikit-learn/issues/21755 */display: inline-block !important;position: relative;}#sk-container-id-1 div.sk-text-repr-fallback {display: none;}</style><div id=\"sk-container-id-1\" class=\"sk-top-container\"><div class=\"sk-text-repr-fallback\"><pre>LogisticRegression()</pre><b>In a Jupyter environment, please rerun this cell to show the HTML representation or trust the notebook. <br />On GitHub, the HTML representation is unable to render, please try loading this page with nbviewer.org.</b></div><div class=\"sk-container\" hidden><div class=\"sk-item\"><div class=\"sk-estimator sk-toggleable\"><input class=\"sk-toggleable__control sk-hidden--visually\" id=\"sk-estimator-id-1\" type=\"checkbox\" checked><label for=\"sk-estimator-id-1\" class=\"sk-toggleable__label sk-toggleable__label-arrow\">LogisticRegression</label><div class=\"sk-toggleable__content\"><pre>LogisticRegression()</pre></div></div></div></div></div>"
            ]
          },
          "metadata": {},
          "execution_count": 54
        }
      ]
    },
    {
      "cell_type": "code",
      "source": [
        "# Using the feature extraction to encode the tweets in the validation data\n",
        "X_val_encoded = nlp_features(texts_val, padding=True, truncation=True, max_length=512)\n",
        "\n",
        "# Extracting the first context vector for each tweet\n",
        "X_val_encoded = [x[0][0] for x in X_val_encoded]"
      ],
      "metadata": {
        "id": "1Jrts9x0df5c"
      },
      "id": "1Jrts9x0df5c",
      "execution_count": null,
      "outputs": []
    },
    {
      "cell_type": "code",
      "source": [
        "y_val_pred = logistic.predict(X_val_encoded)\n",
        "\n",
        "# Calculate the accuracy, precision, recall, and F1 \n",
        "accuracy = accuracy_score(labels_val, y_val_pred)\n",
        "precision = precision_score(labels_val, y_val_pred, average=\"macro\")\n",
        "recall = recall_score(labels_val, y_val_pred, average=\"macro\")\n",
        "f1 = f1_score(labels_val, y_val_pred, average=\"macro\")\n",
        "\n",
        "print(\"Accuracy:\", round(accuracy, 3))\n",
        "print(\"Precision:\", round(precision, 3))\n",
        "print(\"Recall:\", round(recall, 3))\n",
        "print(\"F1 score:\", round(f1,3))\n",
        "\n",
        "sum = accuracy + precision + recall + f1\n",
        "values1.loc[0] = [\"Feature Extraction with Bert\", round(accuracy,3), round(precision,3), round(recall,3), round(f1,3), round(sum, 3)]"
      ],
      "metadata": {
        "id": "tQFJqDfN1XxZ",
        "colab": {
          "base_uri": "https://localhost:8080/"
        },
        "outputId": "05c99d94-817b-47a3-a6fb-50a0a9465864"
      },
      "id": "tQFJqDfN1XxZ",
      "execution_count": null,
      "outputs": [
        {
          "output_type": "stream",
          "name": "stdout",
          "text": [
            "Accuracy: 0.85\n",
            "Precision: 0.714\n",
            "Recall: 0.525\n",
            "F1 score: 0.55\n"
          ]
        }
      ]
    },
    {
      "cell_type": "markdown",
      "source": [
        "End To End Classifier"
      ],
      "metadata": {
        "id": "wtTXxR_9QljM"
      },
      "id": "wtTXxR_9QljM"
    },
    {
      "cell_type": "code",
      "execution_count": null,
      "id": "05c69e4b",
      "metadata": {
        "id": "05c69e4b"
      },
      "outputs": [],
      "source": [
        "#tokenizer for roberta base\n",
        "tokenizer = RobertaTokenizerFast.from_pretrained('roberta-base')"
      ]
    },
    {
      "cell_type": "code",
      "execution_count": null,
      "id": "a0f6201d",
      "metadata": {
        "id": "a0f6201d"
      },
      "outputs": [],
      "source": [
        "def tokenize_data(text, label):\n",
        "    encoding = tokenizer(text, padding='max_length', truncation=True, max_length=128, return_tensors='pt')\n",
        "    return {\n",
        "        'input_ids': encoding['input_ids'].squeeze(),\n",
        "        'attention_mask': encoding['attention_mask'].squeeze(),\n",
        "        'label': torch.tensor(label)\n",
        "    }"
      ]
    },
    {
      "cell_type": "code",
      "source": [
        "#creating a custom class for converting into the dataset\n",
        "#code inspiration taking from the HuggingFace documentation\n",
        "class TextDataset(Dataset):\n",
        "    def __init__(self, texts, labels):\n",
        "        self.texts = texts\n",
        "        self.labels = labels\n",
        "\n",
        "    def __len__(self):\n",
        "        return len(self.labels)\n",
        "\n",
        "    def __getitem__(self, idx):\n",
        "        return tokenize_data(self.texts[idx], self.labels[idx])"
      ],
      "metadata": {
        "id": "8-f04UW00O0M"
      },
      "id": "8-f04UW00O0M",
      "execution_count": null,
      "outputs": []
    },
    {
      "cell_type": "code",
      "execution_count": null,
      "id": "eaf30313",
      "metadata": {
        "id": "eaf30313"
      },
      "outputs": [],
      "source": [
        "#Encoding and tokenizing the data\n",
        "train_dataset = TextDataset(texts_train, labels_train)\n",
        "val_dataset = TextDataset(texts_val, labels_val)\n",
        "test_dataset = TextDataset(texts_test, labels_test)"
      ]
    },
    {
      "cell_type": "code",
      "source": [
        "#model of roberta base\n",
        "num_classes = len(set(labels_train))\n",
        "model = RobertaForSequenceClassification.from_pretrained('roberta-base', num_labels=num_classes)"
      ],
      "metadata": {
        "id": "ueRhuyDfYCs8",
        "colab": {
          "base_uri": "https://localhost:8080/"
        },
        "outputId": "d8ae592c-6858-482b-da64-baebf1fde58c"
      },
      "id": "ueRhuyDfYCs8",
      "execution_count": null,
      "outputs": [
        {
          "output_type": "stream",
          "name": "stderr",
          "text": [
            "Some weights of the model checkpoint at roberta-base were not used when initializing RobertaForSequenceClassification: ['lm_head.bias', 'lm_head.decoder.weight', 'roberta.pooler.dense.weight', 'lm_head.layer_norm.bias', 'lm_head.dense.bias', 'lm_head.layer_norm.weight', 'roberta.pooler.dense.bias', 'lm_head.dense.weight']\n",
            "- This IS expected if you are initializing RobertaForSequenceClassification from the checkpoint of a model trained on another task or with another architecture (e.g. initializing a BertForSequenceClassification model from a BertForPreTraining model).\n",
            "- This IS NOT expected if you are initializing RobertaForSequenceClassification from the checkpoint of a model that you expect to be exactly identical (initializing a BertForSequenceClassification model from a BertForSequenceClassification model).\n",
            "Some weights of RobertaForSequenceClassification were not initialized from the model checkpoint at roberta-base and are newly initialized: ['classifier.dense.bias', 'classifier.out_proj.weight', 'classifier.out_proj.bias', 'classifier.dense.weight']\n",
            "You should probably TRAIN this model on a down-stream task to be able to use it for predictions and inference.\n"
          ]
        }
      ]
    },
    {
      "cell_type": "code",
      "execution_count": null,
      "id": "404724c8",
      "metadata": {
        "id": "404724c8"
      },
      "outputs": [],
      "source": [
        "training_args = TrainingArguments(\n",
        "    output_dir='./results',\n",
        "    evaluation_strategy='epoch',\n",
        "    save_strategy='epoch',\n",
        "    learning_rate=1e-4,\n",
        "    per_device_train_batch_size=16,\n",
        "    per_device_eval_batch_size=16,\n",
        "    num_train_epochs=1,\n",
        "    weight_decay=0,\n",
        "    push_to_hub=False,\n",
        "    logging_dir='./logs',\n",
        "    logging_steps=500,\n",
        "    load_best_model_at_end=True,\n",
        "    metric_for_best_model='accuracy',\n",
        "    greater_is_better=True\n",
        ")"
      ]
    },
    {
      "cell_type": "code",
      "execution_count": null,
      "id": "571e2e5d",
      "metadata": {
        "id": "571e2e5d"
      },
      "outputs": [],
      "source": [
        "trainer = Trainer(\n",
        "    model=model,\n",
        "    args=training_args,\n",
        "    train_dataset=train_dataset,\n",
        "    eval_dataset=val_dataset,\n",
        "    compute_metrics=lambda pred: {'accuracy': accuracy_score(pred.label_ids, pred.predictions.argmax(-1)), \n",
        "                                  'precision_recall_fscore_support': precision_recall_fscore_support(pred.label_ids, pred.predictions.argmax(-1), average='macro')},\n",
        ")"
      ]
    },
    {
      "cell_type": "code",
      "source": [
        "trainer.train()"
      ],
      "metadata": {
        "colab": {
          "base_uri": "https://localhost:8080/",
          "height": 218
        },
        "id": "lXZSNZbORnvT",
        "outputId": "24f694e5-1fe1-4477-e8b2-8eea98ed8887"
      },
      "id": "lXZSNZbORnvT",
      "execution_count": null,
      "outputs": [
        {
          "output_type": "stream",
          "name": "stderr",
          "text": [
            "/usr/local/lib/python3.9/dist-packages/transformers/optimization.py:391: FutureWarning: This implementation of AdamW is deprecated and will be removed in a future version. Use the PyTorch implementation torch.optim.AdamW instead, or set `no_deprecation_warning=True` to disable this warning\n",
            "  warnings.warn(\n"
          ]
        },
        {
          "output_type": "display_data",
          "data": {
            "text/plain": [
              "<IPython.core.display.HTML object>"
            ],
            "text/html": [
              "\n",
              "    <div>\n",
              "      \n",
              "      <progress value='372' max='372' style='width:300px; height:20px; vertical-align: middle;'></progress>\n",
              "      [372/372 03:19, Epoch 1/1]\n",
              "    </div>\n",
              "    <table border=\"1\" class=\"dataframe\">\n",
              "  <thead>\n",
              " <tr style=\"text-align: left;\">\n",
              "      <th>Epoch</th>\n",
              "      <th>Training Loss</th>\n",
              "      <th>Validation Loss</th>\n",
              "      <th>Accuracy</th>\n",
              "      <th>Precision Recall Fscore Support</th>\n",
              "    </tr>\n",
              "  </thead>\n",
              "  <tbody>\n",
              "    <tr>\n",
              "      <td>1</td>\n",
              "      <td>No log</td>\n",
              "      <td>0.290836</td>\n",
              "      <td>0.900656</td>\n",
              "      <td>(0.7343256638365819, 0.6770107010872884, 0.6834415746674977, None)</td>\n",
              "    </tr>\n",
              "  </tbody>\n",
              "</table><p>"
            ]
          },
          "metadata": {}
        },
        {
          "output_type": "stream",
          "name": "stderr",
          "text": [
            "Trainer is attempting to log a value of \"(0.7343256638365819, 0.6770107010872884, 0.6834415746674977, None)\" of type <class 'tuple'> for key \"eval/precision_recall_fscore_support\" as a scalar. This invocation of Tensorboard's writer.add_scalar() is incorrect so we dropped this attribute.\n"
          ]
        },
        {
          "output_type": "execute_result",
          "data": {
            "text/plain": [
              "TrainOutput(global_step=372, training_loss=0.4254014620216944, metrics={'train_runtime': 202.4954, 'train_samples_per_second': 29.369, 'train_steps_per_second': 1.837, 'total_flos': 391183873807104.0, 'train_loss': 0.4254014620216944, 'epoch': 1.0})"
            ]
          },
          "metadata": {},
          "execution_count": 64
        }
      ]
    },
    {
      "cell_type": "code",
      "source": [
        "predictions = trainer.predict(val_dataset)\n",
        "predicted_labels = np.argmax(predictions.predictions, axis=-1)\n",
        "val_labels = val_dataset.labels\n",
        "accuracy = accuracy_score(val_labels, predicted_labels)\n",
        "precision, recall, f1, _ = precision_recall_fscore_support(val_labels, predicted_labels, average='macro')\n",
        "\n",
        "print(\"Accuracy:\", round(accuracy, 3))\n",
        "print(\"Precision:\", round(precision, 3))\n",
        "print(\"Recall:\", round(recall, 3))\n",
        "print(\"F1 score:\", round(f1,3))\n",
        "\n",
        "sum = accuracy + precision + recall + f1\n",
        "values1.loc[1] = [\"1e-4, 16, 1\", round(accuracy,3), round(precision,3), round(recall,3), round(f1,3), round(sum, 3)]"
      ],
      "metadata": {
        "colab": {
          "base_uri": "https://localhost:8080/",
          "height": 90
        },
        "id": "TdF0kQ__RoKV",
        "outputId": "b2767fe4-b794-468f-cce1-b6b8377ef39c"
      },
      "id": "TdF0kQ__RoKV",
      "execution_count": null,
      "outputs": [
        {
          "output_type": "display_data",
          "data": {
            "text/plain": [
              "<IPython.core.display.HTML object>"
            ],
            "text/html": []
          },
          "metadata": {}
        },
        {
          "output_type": "stream",
          "name": "stdout",
          "text": [
            "Accuracy: 0.901\n",
            "Precision: 0.734\n",
            "Recall: 0.677\n",
            "F1 score: 0.683\n"
          ]
        }
      ]
    },
    {
      "cell_type": "markdown",
      "source": [
        "Changing the Parameters"
      ],
      "metadata": {
        "id": "xY8GgOxa3Mik"
      },
      "id": "xY8GgOxa3Mik"
    },
    {
      "cell_type": "markdown",
      "source": [
        "Learning rate: 2e-5, Batch size: 32,64 and Epochs = 3"
      ],
      "metadata": {
        "id": "LmQ3FSUt6zAv"
      },
      "id": "LmQ3FSUt6zAv"
    },
    {
      "cell_type": "code",
      "source": [
        "training_args = TrainingArguments(\n",
        "    output_dir='./results',\n",
        "    evaluation_strategy='epoch',\n",
        "    save_strategy='epoch',\n",
        "    learning_rate=2e-5,\n",
        "    per_device_train_batch_size=32,\n",
        "    per_device_eval_batch_size=64,\n",
        "    num_train_epochs=3,\n",
        "    weight_decay=0,\n",
        "    push_to_hub=False,\n",
        "    logging_dir='./logs',\n",
        "    logging_steps=500,\n",
        "    load_best_model_at_end=True,\n",
        "    metric_for_best_model='accuracy',\n",
        "    greater_is_better=True\n",
        ")"
      ],
      "metadata": {
        "id": "mZgvgnxk3PKL"
      },
      "id": "mZgvgnxk3PKL",
      "execution_count": null,
      "outputs": []
    },
    {
      "cell_type": "code",
      "source": [
        "trainer = Trainer(\n",
        "    model=model,\n",
        "    args=training_args,\n",
        "    train_dataset=train_dataset,\n",
        "    eval_dataset=val_dataset,\n",
        "    compute_metrics=lambda pred: {'accuracy': accuracy_score(pred.label_ids, pred.predictions.argmax(-1)), \n",
        "                                  'precision_recall_fscore_support': precision_recall_fscore_support(pred.label_ids, pred.predictions.argmax(-1), average='macro')},\n",
        ")"
      ],
      "metadata": {
        "id": "idCjdad73zGC"
      },
      "id": "idCjdad73zGC",
      "execution_count": null,
      "outputs": []
    },
    {
      "cell_type": "code",
      "source": [
        "trainer.train()"
      ],
      "metadata": {
        "colab": {
          "base_uri": "https://localhost:8080/",
          "height": 317
        },
        "id": "FHGx4ksO3zQO",
        "outputId": "4b854b2f-f694-4f8d-a6e5-018c24dde5cb"
      },
      "id": "FHGx4ksO3zQO",
      "execution_count": null,
      "outputs": [
        {
          "output_type": "stream",
          "name": "stderr",
          "text": [
            "/usr/local/lib/python3.9/dist-packages/transformers/optimization.py:391: FutureWarning: This implementation of AdamW is deprecated and will be removed in a future version. Use the PyTorch implementation torch.optim.AdamW instead, or set `no_deprecation_warning=True` to disable this warning\n",
            "  warnings.warn(\n"
          ]
        },
        {
          "output_type": "display_data",
          "data": {
            "text/plain": [
              "<IPython.core.display.HTML object>"
            ],
            "text/html": [
              "\n",
              "    <div>\n",
              "      \n",
              "      <progress value='558' max='558' style='width:300px; height:20px; vertical-align: middle;'></progress>\n",
              "      [558/558 08:12, Epoch 3/3]\n",
              "    </div>\n",
              "    <table border=\"1\" class=\"dataframe\">\n",
              "  <thead>\n",
              " <tr style=\"text-align: left;\">\n",
              "      <th>Epoch</th>\n",
              "      <th>Training Loss</th>\n",
              "      <th>Validation Loss</th>\n",
              "      <th>Accuracy</th>\n",
              "      <th>Precision Recall Fscore Support</th>\n",
              "    </tr>\n",
              "  </thead>\n",
              "  <tbody>\n",
              "    <tr>\n",
              "      <td>1</td>\n",
              "      <td>No log</td>\n",
              "      <td>0.279736</td>\n",
              "      <td>0.902673</td>\n",
              "      <td>(0.7416941209486323, 0.7260751194948384, 0.7323933659253367, None)</td>\n",
              "    </tr>\n",
              "    <tr>\n",
              "      <td>2</td>\n",
              "      <td>No log</td>\n",
              "      <td>0.282720</td>\n",
              "      <td>0.905194</td>\n",
              "      <td>(0.7536693271119091, 0.7366183199331134, 0.7439151588377833, None)</td>\n",
              "    </tr>\n",
              "    <tr>\n",
              "      <td>3</td>\n",
              "      <td>0.251800</td>\n",
              "      <td>0.295017</td>\n",
              "      <td>0.902168</td>\n",
              "      <td>(0.7492274781475343, 0.7293644726192658, 0.7379634781369009, None)</td>\n",
              "    </tr>\n",
              "  </tbody>\n",
              "</table><p>"
            ]
          },
          "metadata": {}
        },
        {
          "output_type": "stream",
          "name": "stderr",
          "text": [
            "Trainer is attempting to log a value of \"(0.7416941209486323, 0.7260751194948384, 0.7323933659253367, None)\" of type <class 'tuple'> for key \"eval/precision_recall_fscore_support\" as a scalar. This invocation of Tensorboard's writer.add_scalar() is incorrect so we dropped this attribute.\n",
            "Trainer is attempting to log a value of \"(0.7536693271119091, 0.7366183199331134, 0.7439151588377833, None)\" of type <class 'tuple'> for key \"eval/precision_recall_fscore_support\" as a scalar. This invocation of Tensorboard's writer.add_scalar() is incorrect so we dropped this attribute.\n",
            "Trainer is attempting to log a value of \"(0.7492274781475343, 0.7293644726192658, 0.7379634781369009, None)\" of type <class 'tuple'> for key \"eval/precision_recall_fscore_support\" as a scalar. This invocation of Tensorboard's writer.add_scalar() is incorrect so we dropped this attribute.\n"
          ]
        },
        {
          "output_type": "execute_result",
          "data": {
            "text/plain": [
              "TrainOutput(global_step=558, training_loss=0.24777300981637826, metrics={'train_runtime': 493.3699, 'train_samples_per_second': 36.162, 'train_steps_per_second': 1.131, 'total_flos': 1173551621421312.0, 'train_loss': 0.24777300981637826, 'epoch': 3.0})"
            ]
          },
          "metadata": {},
          "execution_count": 68
        }
      ]
    },
    {
      "cell_type": "code",
      "source": [
        "predictions = trainer.predict(val_dataset)\n",
        "predicted_labels = np.argmax(predictions.predictions, axis=-1)\n",
        "val_labels = val_dataset.labels\n",
        "accuracy = accuracy_score(val_labels, predicted_labels)\n",
        "precision, recall, f1, _ = precision_recall_fscore_support(val_labels, predicted_labels, average='macro')\n",
        "\n",
        "print(\"Accuracy:\", round(accuracy, 3))\n",
        "print(\"Precision:\", round(precision, 3))\n",
        "print(\"Recall:\", round(recall, 3))\n",
        "print(\"F1 score:\", round(f1,3))\n",
        "\n",
        "sum = accuracy + precision + recall + f1\n",
        "values1.loc[2] = [\"2e-5, 32, 64, 3\", round(accuracy,3), round(precision,3), round(recall,3), round(f1,3), round(sum, 3)]"
      ],
      "metadata": {
        "id": "AcmdHpV237Kn",
        "colab": {
          "base_uri": "https://localhost:8080/",
          "height": 90
        },
        "outputId": "b69522ac-ee9d-4e94-f272-c0ab10cdaacf"
      },
      "id": "AcmdHpV237Kn",
      "execution_count": null,
      "outputs": [
        {
          "output_type": "display_data",
          "data": {
            "text/plain": [
              "<IPython.core.display.HTML object>"
            ],
            "text/html": []
          },
          "metadata": {}
        },
        {
          "output_type": "stream",
          "name": "stdout",
          "text": [
            "Accuracy: 0.905\n",
            "Precision: 0.754\n",
            "Recall: 0.737\n",
            "F1 score: 0.744\n"
          ]
        }
      ]
    },
    {
      "cell_type": "markdown",
      "source": [
        "Learning rate: 3e-5, Batch size: 32,64 and Epochs = 3"
      ],
      "metadata": {
        "id": "J9gFXQ_p7B1T"
      },
      "id": "J9gFXQ_p7B1T"
    },
    {
      "cell_type": "code",
      "source": [
        "training_args = TrainingArguments(\n",
        "    output_dir='./results',\n",
        "    evaluation_strategy='epoch',\n",
        "    save_strategy='epoch',\n",
        "    learning_rate=3e-5,\n",
        "    per_device_train_batch_size=32,\n",
        "    per_device_eval_batch_size=64,\n",
        "    num_train_epochs=3,\n",
        "    weight_decay=0,\n",
        "    push_to_hub=False,\n",
        "    logging_dir='./logs',\n",
        "    logging_steps=500,\n",
        "    load_best_model_at_end=True,\n",
        "    metric_for_best_model='accuracy',\n",
        "    greater_is_better=True\n",
        ")"
      ],
      "metadata": {
        "id": "eu_GeZK57GWd"
      },
      "id": "eu_GeZK57GWd",
      "execution_count": null,
      "outputs": []
    },
    {
      "cell_type": "code",
      "source": [
        "trainer = Trainer(\n",
        "    model=model,\n",
        "    args=training_args,\n",
        "    train_dataset=train_dataset,\n",
        "    eval_dataset=val_dataset,\n",
        "    compute_metrics=lambda pred: {'accuracy': accuracy_score(pred.label_ids, pred.predictions.argmax(-1)), \n",
        "                                  'precision_recall_fscore_support': precision_recall_fscore_support(pred.label_ids, pred.predictions.argmax(-1), average='macro')},\n",
        ")"
      ],
      "metadata": {
        "id": "nIjNumPy7PfT"
      },
      "id": "nIjNumPy7PfT",
      "execution_count": null,
      "outputs": []
    },
    {
      "cell_type": "code",
      "source": [
        "trainer.train()"
      ],
      "metadata": {
        "id": "mrdLijM37Q-C",
        "colab": {
          "base_uri": "https://localhost:8080/",
          "height": 317
        },
        "outputId": "c421d283-6a10-41e1-9dab-bc86606c3f5e"
      },
      "id": "mrdLijM37Q-C",
      "execution_count": null,
      "outputs": [
        {
          "output_type": "stream",
          "name": "stderr",
          "text": [
            "/usr/local/lib/python3.9/dist-packages/transformers/optimization.py:391: FutureWarning: This implementation of AdamW is deprecated and will be removed in a future version. Use the PyTorch implementation torch.optim.AdamW instead, or set `no_deprecation_warning=True` to disable this warning\n",
            "  warnings.warn(\n"
          ]
        },
        {
          "output_type": "display_data",
          "data": {
            "text/plain": [
              "<IPython.core.display.HTML object>"
            ],
            "text/html": [
              "\n",
              "    <div>\n",
              "      \n",
              "      <progress value='558' max='558' style='width:300px; height:20px; vertical-align: middle;'></progress>\n",
              "      [558/558 07:02, Epoch 3/3]\n",
              "    </div>\n",
              "    <table border=\"1\" class=\"dataframe\">\n",
              "  <thead>\n",
              " <tr style=\"text-align: left;\">\n",
              "      <th>Epoch</th>\n",
              "      <th>Training Loss</th>\n",
              "      <th>Validation Loss</th>\n",
              "      <th>Accuracy</th>\n",
              "      <th>Precision Recall Fscore Support</th>\n",
              "    </tr>\n",
              "  </thead>\n",
              "  <tbody>\n",
              "    <tr>\n",
              "      <td>1</td>\n",
              "      <td>No log</td>\n",
              "      <td>0.404388</td>\n",
              "      <td>0.889057</td>\n",
              "      <td>(0.736978288446201, 0.6962404938610959, 0.7148706994599122, None)</td>\n",
              "    </tr>\n",
              "    <tr>\n",
              "      <td>2</td>\n",
              "      <td>No log</td>\n",
              "      <td>0.343948</td>\n",
              "      <td>0.910741</td>\n",
              "      <td>(0.770245070340254, 0.7441938584234317, 0.7541406826508109, None)</td>\n",
              "    </tr>\n",
              "    <tr>\n",
              "      <td>3</td>\n",
              "      <td>0.171200</td>\n",
              "      <td>0.350857</td>\n",
              "      <td>0.901160</td>\n",
              "      <td>(0.7411679996304031, 0.7132100255405901, 0.7259692906454095, None)</td>\n",
              "    </tr>\n",
              "  </tbody>\n",
              "</table><p>"
            ]
          },
          "metadata": {}
        },
        {
          "output_type": "stream",
          "name": "stderr",
          "text": [
            "Trainer is attempting to log a value of \"(0.736978288446201, 0.6962404938610959, 0.7148706994599122, None)\" of type <class 'tuple'> for key \"eval/precision_recall_fscore_support\" as a scalar. This invocation of Tensorboard's writer.add_scalar() is incorrect so we dropped this attribute.\n",
            "Trainer is attempting to log a value of \"(0.770245070340254, 0.7441938584234317, 0.7541406826508109, None)\" of type <class 'tuple'> for key \"eval/precision_recall_fscore_support\" as a scalar. This invocation of Tensorboard's writer.add_scalar() is incorrect so we dropped this attribute.\n",
            "Trainer is attempting to log a value of \"(0.7411679996304031, 0.7132100255405901, 0.7259692906454095, None)\" of type <class 'tuple'> for key \"eval/precision_recall_fscore_support\" as a scalar. This invocation of Tensorboard's writer.add_scalar() is incorrect so we dropped this attribute.\n"
          ]
        },
        {
          "output_type": "execute_result",
          "data": {
            "text/plain": [
              "TrainOutput(global_step=558, training_loss=0.17092586845479985, metrics={'train_runtime': 423.5004, 'train_samples_per_second': 42.127, 'train_steps_per_second': 1.318, 'total_flos': 1173551621421312.0, 'train_loss': 0.17092586845479985, 'epoch': 3.0})"
            ]
          },
          "metadata": {},
          "execution_count": 72
        }
      ]
    },
    {
      "cell_type": "code",
      "source": [
        "predictions = trainer.predict(val_dataset)\n",
        "predicted_labels = np.argmax(predictions.predictions, axis=-1)\n",
        "val_labels = val_dataset.labels\n",
        "accuracy = accuracy_score(val_labels, predicted_labels)\n",
        "precision, recall, f1, _ = precision_recall_fscore_support(val_labels, predicted_labels, average='macro')\n",
        "\n",
        "print(\"Accuracy:\", round(accuracy, 3))\n",
        "print(\"Precision:\", round(precision, 3))\n",
        "print(\"Recall:\", round(recall, 3))\n",
        "print(\"F1 score:\", round(f1,3))\n",
        "\n",
        "sum = accuracy + precision + recall + f1\n",
        "values1.loc[3] = [\"3e-5, 32, 64, 3\", round(accuracy,3), round(precision,3), round(recall,3), round(f1,3), round(sum, 3)]"
      ],
      "metadata": {
        "id": "7e8SZ12w7sTF",
        "colab": {
          "base_uri": "https://localhost:8080/",
          "height": 90
        },
        "outputId": "666fd0cc-b7c6-4f71-a2b0-af23331172de"
      },
      "id": "7e8SZ12w7sTF",
      "execution_count": null,
      "outputs": [
        {
          "output_type": "display_data",
          "data": {
            "text/plain": [
              "<IPython.core.display.HTML object>"
            ],
            "text/html": []
          },
          "metadata": {}
        },
        {
          "output_type": "stream",
          "name": "stdout",
          "text": [
            "Accuracy: 0.911\n",
            "Precision: 0.77\n",
            "Recall: 0.744\n",
            "F1 score: 0.754\n"
          ]
        }
      ]
    },
    {
      "cell_type": "markdown",
      "source": [
        "Learning rate: 3e-5, Batch size: 16,16 and Epochs = 5"
      ],
      "metadata": {
        "id": "pPyaZQNo7uUk"
      },
      "id": "pPyaZQNo7uUk"
    },
    {
      "cell_type": "code",
      "source": [
        "training_args = TrainingArguments(\n",
        "    output_dir='./results',\n",
        "    evaluation_strategy='epoch',\n",
        "    save_strategy='epoch',\n",
        "    learning_rate=3e-5,\n",
        "    per_device_train_batch_size=16,\n",
        "    per_device_eval_batch_size=16,\n",
        "    num_train_epochs=5,\n",
        "    weight_decay=0,\n",
        "    push_to_hub=False,\n",
        "    logging_dir='./logs',\n",
        "    logging_steps=500,\n",
        "    load_best_model_at_end=True,\n",
        "    metric_for_best_model='accuracy',\n",
        "    greater_is_better=True\n",
        ")"
      ],
      "metadata": {
        "id": "lpU2VqBT7RAo"
      },
      "id": "lpU2VqBT7RAo",
      "execution_count": null,
      "outputs": []
    },
    {
      "cell_type": "code",
      "source": [
        "trainer = Trainer(\n",
        "    model=model,\n",
        "    args=training_args,\n",
        "    train_dataset=train_dataset,\n",
        "    eval_dataset=val_dataset,\n",
        "    compute_metrics=lambda pred: {'accuracy': accuracy_score(pred.label_ids, pred.predictions.argmax(-1)), \n",
        "                                  'precision_recall_fscore_support': precision_recall_fscore_support(pred.label_ids, pred.predictions.argmax(-1), average='macro')},\n",
        ")"
      ],
      "metadata": {
        "id": "wYKCAm_Q8CZl"
      },
      "id": "wYKCAm_Q8CZl",
      "execution_count": null,
      "outputs": []
    },
    {
      "cell_type": "code",
      "source": [
        "trainer.train()"
      ],
      "metadata": {
        "id": "VEC9ncJZ8Cce",
        "colab": {
          "base_uri": "https://localhost:8080/",
          "height": 416
        },
        "outputId": "7d1161d2-3a08-4dcf-85fd-28e741b474fa"
      },
      "id": "VEC9ncJZ8Cce",
      "execution_count": null,
      "outputs": [
        {
          "output_type": "stream",
          "name": "stderr",
          "text": [
            "/usr/local/lib/python3.9/dist-packages/transformers/optimization.py:391: FutureWarning: This implementation of AdamW is deprecated and will be removed in a future version. Use the PyTorch implementation torch.optim.AdamW instead, or set `no_deprecation_warning=True` to disable this warning\n",
            "  warnings.warn(\n"
          ]
        },
        {
          "output_type": "display_data",
          "data": {
            "text/plain": [
              "<IPython.core.display.HTML object>"
            ],
            "text/html": [
              "\n",
              "    <div>\n",
              "      \n",
              "      <progress value='1860' max='1860' style='width:300px; height:20px; vertical-align: middle;'></progress>\n",
              "      [1860/1860 14:58, Epoch 5/5]\n",
              "    </div>\n",
              "    <table border=\"1\" class=\"dataframe\">\n",
              "  <thead>\n",
              " <tr style=\"text-align: left;\">\n",
              "      <th>Epoch</th>\n",
              "      <th>Training Loss</th>\n",
              "      <th>Validation Loss</th>\n",
              "      <th>Accuracy</th>\n",
              "      <th>Precision Recall Fscore Support</th>\n",
              "    </tr>\n",
              "  </thead>\n",
              "  <tbody>\n",
              "    <tr>\n",
              "      <td>1</td>\n",
              "      <td>No log</td>\n",
              "      <td>0.579292</td>\n",
              "      <td>0.891074</td>\n",
              "      <td>(0.7606671840514011, 0.6789427331485554, 0.7132033320912797, None)</td>\n",
              "    </tr>\n",
              "    <tr>\n",
              "      <td>2</td>\n",
              "      <td>0.195300</td>\n",
              "      <td>0.376549</td>\n",
              "      <td>0.901160</td>\n",
              "      <td>(0.752316051140431, 0.769040171072323, 0.7591392228622835, None)</td>\n",
              "    </tr>\n",
              "    <tr>\n",
              "      <td>3</td>\n",
              "      <td>0.176800</td>\n",
              "      <td>0.421368</td>\n",
              "      <td>0.908724</td>\n",
              "      <td>(0.7683628025091439, 0.6899281217549325, 0.7153655578191936, None)</td>\n",
              "    </tr>\n",
              "    <tr>\n",
              "      <td>4</td>\n",
              "      <td>0.176800</td>\n",
              "      <td>0.463356</td>\n",
              "      <td>0.909733</td>\n",
              "      <td>(0.7718142357920349, 0.7492458081363388, 0.7595018062556685, None)</td>\n",
              "    </tr>\n",
              "    <tr>\n",
              "      <td>5</td>\n",
              "      <td>0.136400</td>\n",
              "      <td>0.520550</td>\n",
              "      <td>0.901160</td>\n",
              "      <td>(0.7501600139163024, 0.7423477967900557, 0.746157006568218, None)</td>\n",
              "    </tr>\n",
              "  </tbody>\n",
              "</table><p>"
            ]
          },
          "metadata": {}
        },
        {
          "output_type": "stream",
          "name": "stderr",
          "text": [
            "Trainer is attempting to log a value of \"(0.7606671840514011, 0.6789427331485554, 0.7132033320912797, None)\" of type <class 'tuple'> for key \"eval/precision_recall_fscore_support\" as a scalar. This invocation of Tensorboard's writer.add_scalar() is incorrect so we dropped this attribute.\n",
            "Trainer is attempting to log a value of \"(0.752316051140431, 0.769040171072323, 0.7591392228622835, None)\" of type <class 'tuple'> for key \"eval/precision_recall_fscore_support\" as a scalar. This invocation of Tensorboard's writer.add_scalar() is incorrect so we dropped this attribute.\n",
            "Trainer is attempting to log a value of \"(0.7683628025091439, 0.6899281217549325, 0.7153655578191936, None)\" of type <class 'tuple'> for key \"eval/precision_recall_fscore_support\" as a scalar. This invocation of Tensorboard's writer.add_scalar() is incorrect so we dropped this attribute.\n",
            "Trainer is attempting to log a value of \"(0.7718142357920349, 0.7492458081363388, 0.7595018062556685, None)\" of type <class 'tuple'> for key \"eval/precision_recall_fscore_support\" as a scalar. This invocation of Tensorboard's writer.add_scalar() is incorrect so we dropped this attribute.\n",
            "Trainer is attempting to log a value of \"(0.7501600139163024, 0.7423477967900557, 0.746157006568218, None)\" of type <class 'tuple'> for key \"eval/precision_recall_fscore_support\" as a scalar. This invocation of Tensorboard's writer.add_scalar() is incorrect so we dropped this attribute.\n"
          ]
        },
        {
          "output_type": "execute_result",
          "data": {
            "text/plain": [
              "TrainOutput(global_step=1860, training_loss=0.15587476299655054, metrics={'train_runtime': 898.9275, 'train_samples_per_second': 33.078, 'train_steps_per_second': 2.069, 'total_flos': 1955919369035520.0, 'train_loss': 0.15587476299655054, 'epoch': 5.0})"
            ]
          },
          "metadata": {},
          "execution_count": 76
        }
      ]
    },
    {
      "cell_type": "code",
      "source": [
        "predictions = trainer.predict(val_dataset)\n",
        "predicted_labels = np.argmax(predictions.predictions, axis=-1)\n",
        "val_labels = val_dataset.labels\n",
        "accuracy = accuracy_score(val_labels, predicted_labels)\n",
        "precision, recall, f1, _ = precision_recall_fscore_support(val_labels, predicted_labels, average='macro')\n",
        "\n",
        "print(\"Accuracy:\", round(accuracy, 3))\n",
        "print(\"Precision:\", round(precision, 3))\n",
        "print(\"Recall:\", round(recall, 3))\n",
        "print(\"F1 score:\", round(f1,3))\n",
        "\n",
        "sum = accuracy + precision + recall + f1\n",
        "values1.loc[4] = [\"3e-5, 16, 5\", round(accuracy,3), round(precision,3), round(recall,3), round(f1,3), round(sum, 3)]"
      ],
      "metadata": {
        "id": "muuHbZ358CoR",
        "colab": {
          "base_uri": "https://localhost:8080/",
          "height": 90
        },
        "outputId": "d9e9128e-aede-4140-d37b-05c43458d7f0"
      },
      "id": "muuHbZ358CoR",
      "execution_count": null,
      "outputs": [
        {
          "output_type": "display_data",
          "data": {
            "text/plain": [
              "<IPython.core.display.HTML object>"
            ],
            "text/html": []
          },
          "metadata": {}
        },
        {
          "output_type": "stream",
          "name": "stdout",
          "text": [
            "Accuracy: 0.91\n",
            "Precision: 0.772\n",
            "Recall: 0.749\n",
            "F1 score: 0.76\n"
          ]
        }
      ]
    },
    {
      "cell_type": "code",
      "source": [
        "values1"
      ],
      "metadata": {
        "id": "2gebZPpBnl8-",
        "colab": {
          "base_uri": "https://localhost:8080/",
          "height": 206
        },
        "outputId": "48256e59-b3b4-4e08-9a1c-c172ad8f3cfc"
      },
      "id": "2gebZPpBnl8-",
      "execution_count": null,
      "outputs": [
        {
          "output_type": "execute_result",
          "data": {
            "text/plain": [
              "                    Classifiers  Accuracy  Precision  Recall     F1  Average\n",
              "0  Feature Extraction with Bert     0.850      0.714   0.525  0.550    2.639\n",
              "1                   1e-4, 16, 1     0.901      0.734   0.677  0.683    2.995\n",
              "2               2e-5, 32, 64, 3     0.905      0.754   0.737  0.744    3.139\n",
              "3               3e-5, 32, 64, 3     0.911      0.770   0.744  0.754    3.179\n",
              "4                   3e-5, 16, 5     0.910      0.772   0.749  0.760    3.190"
            ],
            "text/html": [
              "\n",
              "  <div id=\"df-f5e91d00-d631-4a28-b487-42f3b611a160\">\n",
              "    <div class=\"colab-df-container\">\n",
              "      <div>\n",
              "<style scoped>\n",
              "    .dataframe tbody tr th:only-of-type {\n",
              "        vertical-align: middle;\n",
              "    }\n",
              "\n",
              "    .dataframe tbody tr th {\n",
              "        vertical-align: top;\n",
              "    }\n",
              "\n",
              "    .dataframe thead th {\n",
              "        text-align: right;\n",
              "    }\n",
              "</style>\n",
              "<table border=\"1\" class=\"dataframe\">\n",
              "  <thead>\n",
              "    <tr style=\"text-align: right;\">\n",
              "      <th></th>\n",
              "      <th>Classifiers</th>\n",
              "      <th>Accuracy</th>\n",
              "      <th>Precision</th>\n",
              "      <th>Recall</th>\n",
              "      <th>F1</th>\n",
              "      <th>Average</th>\n",
              "    </tr>\n",
              "  </thead>\n",
              "  <tbody>\n",
              "    <tr>\n",
              "      <th>0</th>\n",
              "      <td>Feature Extraction with Bert</td>\n",
              "      <td>0.850</td>\n",
              "      <td>0.714</td>\n",
              "      <td>0.525</td>\n",
              "      <td>0.550</td>\n",
              "      <td>2.639</td>\n",
              "    </tr>\n",
              "    <tr>\n",
              "      <th>1</th>\n",
              "      <td>1e-4, 16, 1</td>\n",
              "      <td>0.901</td>\n",
              "      <td>0.734</td>\n",
              "      <td>0.677</td>\n",
              "      <td>0.683</td>\n",
              "      <td>2.995</td>\n",
              "    </tr>\n",
              "    <tr>\n",
              "      <th>2</th>\n",
              "      <td>2e-5, 32, 64, 3</td>\n",
              "      <td>0.905</td>\n",
              "      <td>0.754</td>\n",
              "      <td>0.737</td>\n",
              "      <td>0.744</td>\n",
              "      <td>3.139</td>\n",
              "    </tr>\n",
              "    <tr>\n",
              "      <th>3</th>\n",
              "      <td>3e-5, 32, 64, 3</td>\n",
              "      <td>0.911</td>\n",
              "      <td>0.770</td>\n",
              "      <td>0.744</td>\n",
              "      <td>0.754</td>\n",
              "      <td>3.179</td>\n",
              "    </tr>\n",
              "    <tr>\n",
              "      <th>4</th>\n",
              "      <td>3e-5, 16, 5</td>\n",
              "      <td>0.910</td>\n",
              "      <td>0.772</td>\n",
              "      <td>0.749</td>\n",
              "      <td>0.760</td>\n",
              "      <td>3.190</td>\n",
              "    </tr>\n",
              "  </tbody>\n",
              "</table>\n",
              "</div>\n",
              "      <button class=\"colab-df-convert\" onclick=\"convertToInteractive('df-f5e91d00-d631-4a28-b487-42f3b611a160')\"\n",
              "              title=\"Convert this dataframe to an interactive table.\"\n",
              "              style=\"display:none;\">\n",
              "        \n",
              "  <svg xmlns=\"http://www.w3.org/2000/svg\" height=\"24px\"viewBox=\"0 0 24 24\"\n",
              "       width=\"24px\">\n",
              "    <path d=\"M0 0h24v24H0V0z\" fill=\"none\"/>\n",
              "    <path d=\"M18.56 5.44l.94 2.06.94-2.06 2.06-.94-2.06-.94-.94-2.06-.94 2.06-2.06.94zm-11 1L8.5 8.5l.94-2.06 2.06-.94-2.06-.94L8.5 2.5l-.94 2.06-2.06.94zm10 10l.94 2.06.94-2.06 2.06-.94-2.06-.94-.94-2.06-.94 2.06-2.06.94z\"/><path d=\"M17.41 7.96l-1.37-1.37c-.4-.4-.92-.59-1.43-.59-.52 0-1.04.2-1.43.59L10.3 9.45l-7.72 7.72c-.78.78-.78 2.05 0 2.83L4 21.41c.39.39.9.59 1.41.59.51 0 1.02-.2 1.41-.59l7.78-7.78 2.81-2.81c.8-.78.8-2.07 0-2.86zM5.41 20L4 18.59l7.72-7.72 1.47 1.35L5.41 20z\"/>\n",
              "  </svg>\n",
              "      </button>\n",
              "      \n",
              "  <style>\n",
              "    .colab-df-container {\n",
              "      display:flex;\n",
              "      flex-wrap:wrap;\n",
              "      gap: 12px;\n",
              "    }\n",
              "\n",
              "    .colab-df-convert {\n",
              "      background-color: #E8F0FE;\n",
              "      border: none;\n",
              "      border-radius: 50%;\n",
              "      cursor: pointer;\n",
              "      display: none;\n",
              "      fill: #1967D2;\n",
              "      height: 32px;\n",
              "      padding: 0 0 0 0;\n",
              "      width: 32px;\n",
              "    }\n",
              "\n",
              "    .colab-df-convert:hover {\n",
              "      background-color: #E2EBFA;\n",
              "      box-shadow: 0px 1px 2px rgba(60, 64, 67, 0.3), 0px 1px 3px 1px rgba(60, 64, 67, 0.15);\n",
              "      fill: #174EA6;\n",
              "    }\n",
              "\n",
              "    [theme=dark] .colab-df-convert {\n",
              "      background-color: #3B4455;\n",
              "      fill: #D2E3FC;\n",
              "    }\n",
              "\n",
              "    [theme=dark] .colab-df-convert:hover {\n",
              "      background-color: #434B5C;\n",
              "      box-shadow: 0px 1px 3px 1px rgba(0, 0, 0, 0.15);\n",
              "      filter: drop-shadow(0px 1px 2px rgba(0, 0, 0, 0.3));\n",
              "      fill: #FFFFFF;\n",
              "    }\n",
              "  </style>\n",
              "\n",
              "      <script>\n",
              "        const buttonEl =\n",
              "          document.querySelector('#df-f5e91d00-d631-4a28-b487-42f3b611a160 button.colab-df-convert');\n",
              "        buttonEl.style.display =\n",
              "          google.colab.kernel.accessAllowed ? 'block' : 'none';\n",
              "\n",
              "        async function convertToInteractive(key) {\n",
              "          const element = document.querySelector('#df-f5e91d00-d631-4a28-b487-42f3b611a160');\n",
              "          const dataTable =\n",
              "            await google.colab.kernel.invokeFunction('convertToInteractive',\n",
              "                                                     [key], {});\n",
              "          if (!dataTable) return;\n",
              "\n",
              "          const docLinkHtml = 'Like what you see? Visit the ' +\n",
              "            '<a target=\"_blank\" href=https://colab.research.google.com/notebooks/data_table.ipynb>data table notebook</a>'\n",
              "            + ' to learn more about interactive tables.';\n",
              "          element.innerHTML = '';\n",
              "          dataTable['output_type'] = 'display_data';\n",
              "          await google.colab.output.renderOutput(dataTable, element);\n",
              "          const docLink = document.createElement('div');\n",
              "          docLink.innerHTML = docLinkHtml;\n",
              "          element.appendChild(docLink);\n",
              "        }\n",
              "      </script>\n",
              "    </div>\n",
              "  </div>\n",
              "  "
            ]
          },
          "metadata": {},
          "execution_count": 78
        }
      ]
    },
    {
      "cell_type": "markdown",
      "source": [
        "Best Classifier on test dataset"
      ],
      "metadata": {
        "id": "MTfiveINR9rY"
      },
      "id": "MTfiveINR9rY"
    },
    {
      "cell_type": "code",
      "source": [
        "training_args = TrainingArguments(\n",
        "    output_dir='./results',\n",
        "    evaluation_strategy='epoch',\n",
        "    save_strategy='epoch',\n",
        "    learning_rate=3e-5,\n",
        "    per_device_train_batch_size=32,\n",
        "    per_device_eval_batch_size=64,\n",
        "    num_train_epochs=3,\n",
        "    weight_decay=0,\n",
        "    push_to_hub=False,\n",
        "    logging_dir='./logs',\n",
        "    logging_steps=500,\n",
        "    load_best_model_at_end=True,\n",
        "    metric_for_best_model='accuracy',\n",
        "    greater_is_better=True\n",
        ")"
      ],
      "metadata": {
        "id": "kLb4iG1XRp_l"
      },
      "id": "kLb4iG1XRp_l",
      "execution_count": null,
      "outputs": []
    },
    {
      "cell_type": "code",
      "source": [
        "trainer = Trainer(\n",
        "    model=model,\n",
        "    args=training_args,\n",
        "    train_dataset=train_dataset,\n",
        "    eval_dataset=test_dataset,\n",
        "    compute_metrics=lambda pred: {'accuracy': accuracy_score(pred.label_ids, pred.predictions.argmax(-1)), \n",
        "                                  'precision_recall_fscore_support': precision_recall_fscore_support(pred.label_ids, pred.predictions.argmax(-1), average='macro')},\n",
        ")"
      ],
      "metadata": {
        "id": "9HfuWWB3R73C"
      },
      "id": "9HfuWWB3R73C",
      "execution_count": null,
      "outputs": []
    },
    {
      "cell_type": "code",
      "source": [
        "trainer.train()"
      ],
      "metadata": {
        "colab": {
          "base_uri": "https://localhost:8080/",
          "height": 317
        },
        "id": "Poc_YAlMSGt6",
        "outputId": "3b4ff626-cfd6-461d-b304-bb8d5239a48f"
      },
      "id": "Poc_YAlMSGt6",
      "execution_count": null,
      "outputs": [
        {
          "output_type": "stream",
          "name": "stderr",
          "text": [
            "/usr/local/lib/python3.9/dist-packages/transformers/optimization.py:391: FutureWarning: This implementation of AdamW is deprecated and will be removed in a future version. Use the PyTorch implementation torch.optim.AdamW instead, or set `no_deprecation_warning=True` to disable this warning\n",
            "  warnings.warn(\n"
          ]
        },
        {
          "output_type": "display_data",
          "data": {
            "text/plain": [
              "<IPython.core.display.HTML object>"
            ],
            "text/html": [
              "\n",
              "    <div>\n",
              "      \n",
              "      <progress value='558' max='558' style='width:300px; height:20px; vertical-align: middle;'></progress>\n",
              "      [558/558 07:03, Epoch 3/3]\n",
              "    </div>\n",
              "    <table border=\"1\" class=\"dataframe\">\n",
              "  <thead>\n",
              " <tr style=\"text-align: left;\">\n",
              "      <th>Epoch</th>\n",
              "      <th>Training Loss</th>\n",
              "      <th>Validation Loss</th>\n",
              "      <th>Accuracy</th>\n",
              "      <th>Precision Recall Fscore Support</th>\n",
              "    </tr>\n",
              "  </thead>\n",
              "  <tbody>\n",
              "    <tr>\n",
              "      <td>1</td>\n",
              "      <td>No log</td>\n",
              "      <td>0.433769</td>\n",
              "      <td>0.911750</td>\n",
              "      <td>(0.7708691126723913, 0.7345248231499224, 0.751037851037851, None)</td>\n",
              "    </tr>\n",
              "    <tr>\n",
              "      <td>2</td>\n",
              "      <td>No log</td>\n",
              "      <td>0.441772</td>\n",
              "      <td>0.919818</td>\n",
              "      <td>(0.7961994230841768, 0.7556135301333291, 0.7730372405195931, None)</td>\n",
              "    </tr>\n",
              "    <tr>\n",
              "      <td>3</td>\n",
              "      <td>0.077100</td>\n",
              "      <td>0.481692</td>\n",
              "      <td>0.916793</td>\n",
              "      <td>(0.7747646719477705, 0.7686861916635266, 0.7712770076731544, None)</td>\n",
              "    </tr>\n",
              "  </tbody>\n",
              "</table><p>"
            ]
          },
          "metadata": {}
        },
        {
          "output_type": "stream",
          "name": "stderr",
          "text": [
            "Trainer is attempting to log a value of \"(0.7708691126723913, 0.7345248231499224, 0.751037851037851, None)\" of type <class 'tuple'> for key \"eval/precision_recall_fscore_support\" as a scalar. This invocation of Tensorboard's writer.add_scalar() is incorrect so we dropped this attribute.\n",
            "Trainer is attempting to log a value of \"(0.7961994230841768, 0.7556135301333291, 0.7730372405195931, None)\" of type <class 'tuple'> for key \"eval/precision_recall_fscore_support\" as a scalar. This invocation of Tensorboard's writer.add_scalar() is incorrect so we dropped this attribute.\n",
            "Trainer is attempting to log a value of \"(0.7747646719477705, 0.7686861916635266, 0.7712770076731544, None)\" of type <class 'tuple'> for key \"eval/precision_recall_fscore_support\" as a scalar. This invocation of Tensorboard's writer.add_scalar() is incorrect so we dropped this attribute.\n"
          ]
        },
        {
          "output_type": "execute_result",
          "data": {
            "text/plain": [
              "TrainOutput(global_step=558, training_loss=0.07658602687193074, metrics={'train_runtime': 424.0064, 'train_samples_per_second': 42.077, 'train_steps_per_second': 1.316, 'total_flos': 1173551621421312.0, 'train_loss': 0.07658602687193074, 'epoch': 3.0})"
            ]
          },
          "metadata": {},
          "execution_count": 81
        }
      ]
    },
    {
      "cell_type": "code",
      "source": [
        "predictions = trainer.predict(test_dataset)\n",
        "predicted_labels = np.argmax(predictions.predictions, axis=-1)\n",
        "test_labels = test_dataset.labels\n",
        "accuracy = accuracy_score(test_labels, predicted_labels)\n",
        "precision, recall, f1, _ = precision_recall_fscore_support(test_labels, predicted_labels, average='macro')\n",
        "\n",
        "print(\"Accuracy:\", round(accuracy, 3))\n",
        "print(\"Precision:\", round(precision, 3))\n",
        "print(\"Recall:\", round(recall, 3))\n",
        "print(\"F1 score:\", round(f1,3))\n",
        "\n",
        "sum = accuracy + precision + recall + f1\n",
        "values1.loc[5] = [\"3e-5, 32,64, 3 on test\", round(accuracy,3), round(precision,3), round(recall,3), round(f1,3), round(sum, 3)]"
      ],
      "metadata": {
        "colab": {
          "base_uri": "https://localhost:8080/",
          "height": 90
        },
        "id": "5aS1-j3BSLS7",
        "outputId": "f461c398-01fa-4fe2-9b80-745aeced72a4"
      },
      "id": "5aS1-j3BSLS7",
      "execution_count": null,
      "outputs": [
        {
          "output_type": "display_data",
          "data": {
            "text/plain": [
              "<IPython.core.display.HTML object>"
            ],
            "text/html": []
          },
          "metadata": {}
        },
        {
          "output_type": "stream",
          "name": "stdout",
          "text": [
            "Accuracy: 0.92\n",
            "Precision: 0.796\n",
            "Recall: 0.756\n",
            "F1 score: 0.773\n"
          ]
        }
      ]
    },
    {
      "cell_type": "code",
      "source": [
        "#confusion matrix for the best model\n",
        "labels_pred =  np.argmax(predictions.predictions, axis=-1)\n",
        "\n",
        "labels_cm = [0,1,2]\n",
        "\n",
        "confusion_mat = confusion_matrix(test_labels, labels_pred, labels = labels_cm)\n",
        "print(\"Confusion Matrix:\\n\", confusion_mat)"
      ],
      "metadata": {
        "colab": {
          "base_uri": "https://localhost:8080/"
        },
        "id": "7xhCD4hsT7B3",
        "outputId": "f8704ea1-ce93-469a-c482-f87c9cd4edf4"
      },
      "id": "7xhCD4hsT7B3",
      "execution_count": null,
      "outputs": [
        {
          "output_type": "stream",
          "name": "stdout",
          "text": [
            "Confusion Matrix:\n",
            " [[  44   47    9]\n",
            " [  28 1504   32]\n",
            " [   5   38  276]]\n"
          ]
        }
      ]
    }
  ],
  "metadata": {
    "kernelspec": {
      "display_name": "Python 3",
      "language": "python",
      "name": "python3"
    },
    "language_info": {
      "codemirror_mode": {
        "name": "ipython",
        "version": 3
      },
      "file_extension": ".py",
      "mimetype": "text/x-python",
      "name": "python",
      "nbconvert_exporter": "python",
      "pygments_lexer": "ipython3",
      "version": "3.8.8"
    },
    "colab": {
      "provenance": []
    },
    "gpuClass": "standard",
    "widgets": {
      "application/vnd.jupyter.widget-state+json": {
        "f893e0a9e7c1471cab3744370344fb66": {
          "model_module": "@jupyter-widgets/controls",
          "model_name": "HBoxModel",
          "model_module_version": "1.5.0",
          "state": {
            "_dom_classes": [],
            "_model_module": "@jupyter-widgets/controls",
            "_model_module_version": "1.5.0",
            "_model_name": "HBoxModel",
            "_view_count": null,
            "_view_module": "@jupyter-widgets/controls",
            "_view_module_version": "1.5.0",
            "_view_name": "HBoxView",
            "box_style": "",
            "children": [
              "IPY_MODEL_45df374f2d934392b4848085df8fd4fc",
              "IPY_MODEL_4df58704a8f24cf38f3590337a05a154",
              "IPY_MODEL_c7b5f3176b5d496faba30ca1f8024bcc"
            ],
            "layout": "IPY_MODEL_f4ffd1a55e3b486188af4ef525127c6b"
          }
        },
        "45df374f2d934392b4848085df8fd4fc": {
          "model_module": "@jupyter-widgets/controls",
          "model_name": "HTMLModel",
          "model_module_version": "1.5.0",
          "state": {
            "_dom_classes": [],
            "_model_module": "@jupyter-widgets/controls",
            "_model_module_version": "1.5.0",
            "_model_name": "HTMLModel",
            "_view_count": null,
            "_view_module": "@jupyter-widgets/controls",
            "_view_module_version": "1.5.0",
            "_view_name": "HTMLView",
            "description": "",
            "description_tooltip": null,
            "layout": "IPY_MODEL_a890f25a7a11462e9c496f320a48c708",
            "placeholder": "​",
            "style": "IPY_MODEL_9b373085412e4bdaa14a37c82fc661e8",
            "value": "Downloading (…)lve/main/config.json: 100%"
          }
        },
        "4df58704a8f24cf38f3590337a05a154": {
          "model_module": "@jupyter-widgets/controls",
          "model_name": "FloatProgressModel",
          "model_module_version": "1.5.0",
          "state": {
            "_dom_classes": [],
            "_model_module": "@jupyter-widgets/controls",
            "_model_module_version": "1.5.0",
            "_model_name": "FloatProgressModel",
            "_view_count": null,
            "_view_module": "@jupyter-widgets/controls",
            "_view_module_version": "1.5.0",
            "_view_name": "ProgressView",
            "bar_style": "success",
            "description": "",
            "description_tooltip": null,
            "layout": "IPY_MODEL_bb4a15ed11804bd29c4ee1cbfc9ac69e",
            "max": 481,
            "min": 0,
            "orientation": "horizontal",
            "style": "IPY_MODEL_2f601cb1c86743ce8a26e525cd149f1f",
            "value": 481
          }
        },
        "c7b5f3176b5d496faba30ca1f8024bcc": {
          "model_module": "@jupyter-widgets/controls",
          "model_name": "HTMLModel",
          "model_module_version": "1.5.0",
          "state": {
            "_dom_classes": [],
            "_model_module": "@jupyter-widgets/controls",
            "_model_module_version": "1.5.0",
            "_model_name": "HTMLModel",
            "_view_count": null,
            "_view_module": "@jupyter-widgets/controls",
            "_view_module_version": "1.5.0",
            "_view_name": "HTMLView",
            "description": "",
            "description_tooltip": null,
            "layout": "IPY_MODEL_2990e29043d447fea87902040144a764",
            "placeholder": "​",
            "style": "IPY_MODEL_fbedecba9329453f8af7e9cacb67993e",
            "value": " 481/481 [00:00&lt;00:00, 16.8kB/s]"
          }
        },
        "f4ffd1a55e3b486188af4ef525127c6b": {
          "model_module": "@jupyter-widgets/base",
          "model_name": "LayoutModel",
          "model_module_version": "1.2.0",
          "state": {
            "_model_module": "@jupyter-widgets/base",
            "_model_module_version": "1.2.0",
            "_model_name": "LayoutModel",
            "_view_count": null,
            "_view_module": "@jupyter-widgets/base",
            "_view_module_version": "1.2.0",
            "_view_name": "LayoutView",
            "align_content": null,
            "align_items": null,
            "align_self": null,
            "border": null,
            "bottom": null,
            "display": null,
            "flex": null,
            "flex_flow": null,
            "grid_area": null,
            "grid_auto_columns": null,
            "grid_auto_flow": null,
            "grid_auto_rows": null,
            "grid_column": null,
            "grid_gap": null,
            "grid_row": null,
            "grid_template_areas": null,
            "grid_template_columns": null,
            "grid_template_rows": null,
            "height": null,
            "justify_content": null,
            "justify_items": null,
            "left": null,
            "margin": null,
            "max_height": null,
            "max_width": null,
            "min_height": null,
            "min_width": null,
            "object_fit": null,
            "object_position": null,
            "order": null,
            "overflow": null,
            "overflow_x": null,
            "overflow_y": null,
            "padding": null,
            "right": null,
            "top": null,
            "visibility": null,
            "width": null
          }
        },
        "a890f25a7a11462e9c496f320a48c708": {
          "model_module": "@jupyter-widgets/base",
          "model_name": "LayoutModel",
          "model_module_version": "1.2.0",
          "state": {
            "_model_module": "@jupyter-widgets/base",
            "_model_module_version": "1.2.0",
            "_model_name": "LayoutModel",
            "_view_count": null,
            "_view_module": "@jupyter-widgets/base",
            "_view_module_version": "1.2.0",
            "_view_name": "LayoutView",
            "align_content": null,
            "align_items": null,
            "align_self": null,
            "border": null,
            "bottom": null,
            "display": null,
            "flex": null,
            "flex_flow": null,
            "grid_area": null,
            "grid_auto_columns": null,
            "grid_auto_flow": null,
            "grid_auto_rows": null,
            "grid_column": null,
            "grid_gap": null,
            "grid_row": null,
            "grid_template_areas": null,
            "grid_template_columns": null,
            "grid_template_rows": null,
            "height": null,
            "justify_content": null,
            "justify_items": null,
            "left": null,
            "margin": null,
            "max_height": null,
            "max_width": null,
            "min_height": null,
            "min_width": null,
            "object_fit": null,
            "object_position": null,
            "order": null,
            "overflow": null,
            "overflow_x": null,
            "overflow_y": null,
            "padding": null,
            "right": null,
            "top": null,
            "visibility": null,
            "width": null
          }
        },
        "9b373085412e4bdaa14a37c82fc661e8": {
          "model_module": "@jupyter-widgets/controls",
          "model_name": "DescriptionStyleModel",
          "model_module_version": "1.5.0",
          "state": {
            "_model_module": "@jupyter-widgets/controls",
            "_model_module_version": "1.5.0",
            "_model_name": "DescriptionStyleModel",
            "_view_count": null,
            "_view_module": "@jupyter-widgets/base",
            "_view_module_version": "1.2.0",
            "_view_name": "StyleView",
            "description_width": ""
          }
        },
        "bb4a15ed11804bd29c4ee1cbfc9ac69e": {
          "model_module": "@jupyter-widgets/base",
          "model_name": "LayoutModel",
          "model_module_version": "1.2.0",
          "state": {
            "_model_module": "@jupyter-widgets/base",
            "_model_module_version": "1.2.0",
            "_model_name": "LayoutModel",
            "_view_count": null,
            "_view_module": "@jupyter-widgets/base",
            "_view_module_version": "1.2.0",
            "_view_name": "LayoutView",
            "align_content": null,
            "align_items": null,
            "align_self": null,
            "border": null,
            "bottom": null,
            "display": null,
            "flex": null,
            "flex_flow": null,
            "grid_area": null,
            "grid_auto_columns": null,
            "grid_auto_flow": null,
            "grid_auto_rows": null,
            "grid_column": null,
            "grid_gap": null,
            "grid_row": null,
            "grid_template_areas": null,
            "grid_template_columns": null,
            "grid_template_rows": null,
            "height": null,
            "justify_content": null,
            "justify_items": null,
            "left": null,
            "margin": null,
            "max_height": null,
            "max_width": null,
            "min_height": null,
            "min_width": null,
            "object_fit": null,
            "object_position": null,
            "order": null,
            "overflow": null,
            "overflow_x": null,
            "overflow_y": null,
            "padding": null,
            "right": null,
            "top": null,
            "visibility": null,
            "width": null
          }
        },
        "2f601cb1c86743ce8a26e525cd149f1f": {
          "model_module": "@jupyter-widgets/controls",
          "model_name": "ProgressStyleModel",
          "model_module_version": "1.5.0",
          "state": {
            "_model_module": "@jupyter-widgets/controls",
            "_model_module_version": "1.5.0",
            "_model_name": "ProgressStyleModel",
            "_view_count": null,
            "_view_module": "@jupyter-widgets/base",
            "_view_module_version": "1.2.0",
            "_view_name": "StyleView",
            "bar_color": null,
            "description_width": ""
          }
        },
        "2990e29043d447fea87902040144a764": {
          "model_module": "@jupyter-widgets/base",
          "model_name": "LayoutModel",
          "model_module_version": "1.2.0",
          "state": {
            "_model_module": "@jupyter-widgets/base",
            "_model_module_version": "1.2.0",
            "_model_name": "LayoutModel",
            "_view_count": null,
            "_view_module": "@jupyter-widgets/base",
            "_view_module_version": "1.2.0",
            "_view_name": "LayoutView",
            "align_content": null,
            "align_items": null,
            "align_self": null,
            "border": null,
            "bottom": null,
            "display": null,
            "flex": null,
            "flex_flow": null,
            "grid_area": null,
            "grid_auto_columns": null,
            "grid_auto_flow": null,
            "grid_auto_rows": null,
            "grid_column": null,
            "grid_gap": null,
            "grid_row": null,
            "grid_template_areas": null,
            "grid_template_columns": null,
            "grid_template_rows": null,
            "height": null,
            "justify_content": null,
            "justify_items": null,
            "left": null,
            "margin": null,
            "max_height": null,
            "max_width": null,
            "min_height": null,
            "min_width": null,
            "object_fit": null,
            "object_position": null,
            "order": null,
            "overflow": null,
            "overflow_x": null,
            "overflow_y": null,
            "padding": null,
            "right": null,
            "top": null,
            "visibility": null,
            "width": null
          }
        },
        "fbedecba9329453f8af7e9cacb67993e": {
          "model_module": "@jupyter-widgets/controls",
          "model_name": "DescriptionStyleModel",
          "model_module_version": "1.5.0",
          "state": {
            "_model_module": "@jupyter-widgets/controls",
            "_model_module_version": "1.5.0",
            "_model_name": "DescriptionStyleModel",
            "_view_count": null,
            "_view_module": "@jupyter-widgets/base",
            "_view_module_version": "1.2.0",
            "_view_name": "StyleView",
            "description_width": ""
          }
        },
        "a12f2a859fa34fcaa2307e0a650b98f7": {
          "model_module": "@jupyter-widgets/controls",
          "model_name": "HBoxModel",
          "model_module_version": "1.5.0",
          "state": {
            "_dom_classes": [],
            "_model_module": "@jupyter-widgets/controls",
            "_model_module_version": "1.5.0",
            "_model_name": "HBoxModel",
            "_view_count": null,
            "_view_module": "@jupyter-widgets/controls",
            "_view_module_version": "1.5.0",
            "_view_name": "HBoxView",
            "box_style": "",
            "children": [
              "IPY_MODEL_3e49b5fc6cf94c7ba433014c90d53750",
              "IPY_MODEL_80a8b1a66f7748458671006b53c672e4",
              "IPY_MODEL_4949fcd3f3984ee7b9ec0e05bd240fbd"
            ],
            "layout": "IPY_MODEL_7239aca9a2424f978272a1e6d56b89b9"
          }
        },
        "3e49b5fc6cf94c7ba433014c90d53750": {
          "model_module": "@jupyter-widgets/controls",
          "model_name": "HTMLModel",
          "model_module_version": "1.5.0",
          "state": {
            "_dom_classes": [],
            "_model_module": "@jupyter-widgets/controls",
            "_model_module_version": "1.5.0",
            "_model_name": "HTMLModel",
            "_view_count": null,
            "_view_module": "@jupyter-widgets/controls",
            "_view_module_version": "1.5.0",
            "_view_name": "HTMLView",
            "description": "",
            "description_tooltip": null,
            "layout": "IPY_MODEL_db5a99d1a9134e989f0bd186bcac681d",
            "placeholder": "​",
            "style": "IPY_MODEL_627370e4bc2d44ba9d5fa8d71bf79ada",
            "value": "Downloading pytorch_model.bin: 100%"
          }
        },
        "80a8b1a66f7748458671006b53c672e4": {
          "model_module": "@jupyter-widgets/controls",
          "model_name": "FloatProgressModel",
          "model_module_version": "1.5.0",
          "state": {
            "_dom_classes": [],
            "_model_module": "@jupyter-widgets/controls",
            "_model_module_version": "1.5.0",
            "_model_name": "FloatProgressModel",
            "_view_count": null,
            "_view_module": "@jupyter-widgets/controls",
            "_view_module_version": "1.5.0",
            "_view_name": "ProgressView",
            "bar_style": "success",
            "description": "",
            "description_tooltip": null,
            "layout": "IPY_MODEL_80df6118b3ab4c48958c5bbb9ecf9e9d",
            "max": 501200538,
            "min": 0,
            "orientation": "horizontal",
            "style": "IPY_MODEL_c009ceca04a34812b68b202f54b26276",
            "value": 501200538
          }
        },
        "4949fcd3f3984ee7b9ec0e05bd240fbd": {
          "model_module": "@jupyter-widgets/controls",
          "model_name": "HTMLModel",
          "model_module_version": "1.5.0",
          "state": {
            "_dom_classes": [],
            "_model_module": "@jupyter-widgets/controls",
            "_model_module_version": "1.5.0",
            "_model_name": "HTMLModel",
            "_view_count": null,
            "_view_module": "@jupyter-widgets/controls",
            "_view_module_version": "1.5.0",
            "_view_name": "HTMLView",
            "description": "",
            "description_tooltip": null,
            "layout": "IPY_MODEL_ec36b3f5b3174100bfa29311dd0c56c6",
            "placeholder": "​",
            "style": "IPY_MODEL_031e676be764446a9b25f01297177074",
            "value": " 501M/501M [00:01&lt;00:00, 293MB/s]"
          }
        },
        "7239aca9a2424f978272a1e6d56b89b9": {
          "model_module": "@jupyter-widgets/base",
          "model_name": "LayoutModel",
          "model_module_version": "1.2.0",
          "state": {
            "_model_module": "@jupyter-widgets/base",
            "_model_module_version": "1.2.0",
            "_model_name": "LayoutModel",
            "_view_count": null,
            "_view_module": "@jupyter-widgets/base",
            "_view_module_version": "1.2.0",
            "_view_name": "LayoutView",
            "align_content": null,
            "align_items": null,
            "align_self": null,
            "border": null,
            "bottom": null,
            "display": null,
            "flex": null,
            "flex_flow": null,
            "grid_area": null,
            "grid_auto_columns": null,
            "grid_auto_flow": null,
            "grid_auto_rows": null,
            "grid_column": null,
            "grid_gap": null,
            "grid_row": null,
            "grid_template_areas": null,
            "grid_template_columns": null,
            "grid_template_rows": null,
            "height": null,
            "justify_content": null,
            "justify_items": null,
            "left": null,
            "margin": null,
            "max_height": null,
            "max_width": null,
            "min_height": null,
            "min_width": null,
            "object_fit": null,
            "object_position": null,
            "order": null,
            "overflow": null,
            "overflow_x": null,
            "overflow_y": null,
            "padding": null,
            "right": null,
            "top": null,
            "visibility": null,
            "width": null
          }
        },
        "db5a99d1a9134e989f0bd186bcac681d": {
          "model_module": "@jupyter-widgets/base",
          "model_name": "LayoutModel",
          "model_module_version": "1.2.0",
          "state": {
            "_model_module": "@jupyter-widgets/base",
            "_model_module_version": "1.2.0",
            "_model_name": "LayoutModel",
            "_view_count": null,
            "_view_module": "@jupyter-widgets/base",
            "_view_module_version": "1.2.0",
            "_view_name": "LayoutView",
            "align_content": null,
            "align_items": null,
            "align_self": null,
            "border": null,
            "bottom": null,
            "display": null,
            "flex": null,
            "flex_flow": null,
            "grid_area": null,
            "grid_auto_columns": null,
            "grid_auto_flow": null,
            "grid_auto_rows": null,
            "grid_column": null,
            "grid_gap": null,
            "grid_row": null,
            "grid_template_areas": null,
            "grid_template_columns": null,
            "grid_template_rows": null,
            "height": null,
            "justify_content": null,
            "justify_items": null,
            "left": null,
            "margin": null,
            "max_height": null,
            "max_width": null,
            "min_height": null,
            "min_width": null,
            "object_fit": null,
            "object_position": null,
            "order": null,
            "overflow": null,
            "overflow_x": null,
            "overflow_y": null,
            "padding": null,
            "right": null,
            "top": null,
            "visibility": null,
            "width": null
          }
        },
        "627370e4bc2d44ba9d5fa8d71bf79ada": {
          "model_module": "@jupyter-widgets/controls",
          "model_name": "DescriptionStyleModel",
          "model_module_version": "1.5.0",
          "state": {
            "_model_module": "@jupyter-widgets/controls",
            "_model_module_version": "1.5.0",
            "_model_name": "DescriptionStyleModel",
            "_view_count": null,
            "_view_module": "@jupyter-widgets/base",
            "_view_module_version": "1.2.0",
            "_view_name": "StyleView",
            "description_width": ""
          }
        },
        "80df6118b3ab4c48958c5bbb9ecf9e9d": {
          "model_module": "@jupyter-widgets/base",
          "model_name": "LayoutModel",
          "model_module_version": "1.2.0",
          "state": {
            "_model_module": "@jupyter-widgets/base",
            "_model_module_version": "1.2.0",
            "_model_name": "LayoutModel",
            "_view_count": null,
            "_view_module": "@jupyter-widgets/base",
            "_view_module_version": "1.2.0",
            "_view_name": "LayoutView",
            "align_content": null,
            "align_items": null,
            "align_self": null,
            "border": null,
            "bottom": null,
            "display": null,
            "flex": null,
            "flex_flow": null,
            "grid_area": null,
            "grid_auto_columns": null,
            "grid_auto_flow": null,
            "grid_auto_rows": null,
            "grid_column": null,
            "grid_gap": null,
            "grid_row": null,
            "grid_template_areas": null,
            "grid_template_columns": null,
            "grid_template_rows": null,
            "height": null,
            "justify_content": null,
            "justify_items": null,
            "left": null,
            "margin": null,
            "max_height": null,
            "max_width": null,
            "min_height": null,
            "min_width": null,
            "object_fit": null,
            "object_position": null,
            "order": null,
            "overflow": null,
            "overflow_x": null,
            "overflow_y": null,
            "padding": null,
            "right": null,
            "top": null,
            "visibility": null,
            "width": null
          }
        },
        "c009ceca04a34812b68b202f54b26276": {
          "model_module": "@jupyter-widgets/controls",
          "model_name": "ProgressStyleModel",
          "model_module_version": "1.5.0",
          "state": {
            "_model_module": "@jupyter-widgets/controls",
            "_model_module_version": "1.5.0",
            "_model_name": "ProgressStyleModel",
            "_view_count": null,
            "_view_module": "@jupyter-widgets/base",
            "_view_module_version": "1.2.0",
            "_view_name": "StyleView",
            "bar_color": null,
            "description_width": ""
          }
        },
        "ec36b3f5b3174100bfa29311dd0c56c6": {
          "model_module": "@jupyter-widgets/base",
          "model_name": "LayoutModel",
          "model_module_version": "1.2.0",
          "state": {
            "_model_module": "@jupyter-widgets/base",
            "_model_module_version": "1.2.0",
            "_model_name": "LayoutModel",
            "_view_count": null,
            "_view_module": "@jupyter-widgets/base",
            "_view_module_version": "1.2.0",
            "_view_name": "LayoutView",
            "align_content": null,
            "align_items": null,
            "align_self": null,
            "border": null,
            "bottom": null,
            "display": null,
            "flex": null,
            "flex_flow": null,
            "grid_area": null,
            "grid_auto_columns": null,
            "grid_auto_flow": null,
            "grid_auto_rows": null,
            "grid_column": null,
            "grid_gap": null,
            "grid_row": null,
            "grid_template_areas": null,
            "grid_template_columns": null,
            "grid_template_rows": null,
            "height": null,
            "justify_content": null,
            "justify_items": null,
            "left": null,
            "margin": null,
            "max_height": null,
            "max_width": null,
            "min_height": null,
            "min_width": null,
            "object_fit": null,
            "object_position": null,
            "order": null,
            "overflow": null,
            "overflow_x": null,
            "overflow_y": null,
            "padding": null,
            "right": null,
            "top": null,
            "visibility": null,
            "width": null
          }
        },
        "031e676be764446a9b25f01297177074": {
          "model_module": "@jupyter-widgets/controls",
          "model_name": "DescriptionStyleModel",
          "model_module_version": "1.5.0",
          "state": {
            "_model_module": "@jupyter-widgets/controls",
            "_model_module_version": "1.5.0",
            "_model_name": "DescriptionStyleModel",
            "_view_count": null,
            "_view_module": "@jupyter-widgets/base",
            "_view_module_version": "1.2.0",
            "_view_name": "StyleView",
            "description_width": ""
          }
        },
        "49a4eed912f34738a6e248d8f4c104cb": {
          "model_module": "@jupyter-widgets/controls",
          "model_name": "HBoxModel",
          "model_module_version": "1.5.0",
          "state": {
            "_dom_classes": [],
            "_model_module": "@jupyter-widgets/controls",
            "_model_module_version": "1.5.0",
            "_model_name": "HBoxModel",
            "_view_count": null,
            "_view_module": "@jupyter-widgets/controls",
            "_view_module_version": "1.5.0",
            "_view_name": "HBoxView",
            "box_style": "",
            "children": [
              "IPY_MODEL_6faeb336efa74311833a89b3ed2a836e",
              "IPY_MODEL_fb25a825179544998c31435846f00935",
              "IPY_MODEL_818acfe615a2494c9a9fd6b538f819fa"
            ],
            "layout": "IPY_MODEL_3cb6dad1c46643369f7c526dc7c41d81"
          }
        },
        "6faeb336efa74311833a89b3ed2a836e": {
          "model_module": "@jupyter-widgets/controls",
          "model_name": "HTMLModel",
          "model_module_version": "1.5.0",
          "state": {
            "_dom_classes": [],
            "_model_module": "@jupyter-widgets/controls",
            "_model_module_version": "1.5.0",
            "_model_name": "HTMLModel",
            "_view_count": null,
            "_view_module": "@jupyter-widgets/controls",
            "_view_module_version": "1.5.0",
            "_view_name": "HTMLView",
            "description": "",
            "description_tooltip": null,
            "layout": "IPY_MODEL_b07028286e544494a8deeed725512748",
            "placeholder": "​",
            "style": "IPY_MODEL_9e877ed222dd4084ba41c4cbc8c97a45",
            "value": "Downloading (…)olve/main/vocab.json: 100%"
          }
        },
        "fb25a825179544998c31435846f00935": {
          "model_module": "@jupyter-widgets/controls",
          "model_name": "FloatProgressModel",
          "model_module_version": "1.5.0",
          "state": {
            "_dom_classes": [],
            "_model_module": "@jupyter-widgets/controls",
            "_model_module_version": "1.5.0",
            "_model_name": "FloatProgressModel",
            "_view_count": null,
            "_view_module": "@jupyter-widgets/controls",
            "_view_module_version": "1.5.0",
            "_view_name": "ProgressView",
            "bar_style": "success",
            "description": "",
            "description_tooltip": null,
            "layout": "IPY_MODEL_911c443667e54a50af94f667ecd7f706",
            "max": 898823,
            "min": 0,
            "orientation": "horizontal",
            "style": "IPY_MODEL_8f9d944240ca4b4aac8ae36d8aa6975a",
            "value": 898823
          }
        },
        "818acfe615a2494c9a9fd6b538f819fa": {
          "model_module": "@jupyter-widgets/controls",
          "model_name": "HTMLModel",
          "model_module_version": "1.5.0",
          "state": {
            "_dom_classes": [],
            "_model_module": "@jupyter-widgets/controls",
            "_model_module_version": "1.5.0",
            "_model_name": "HTMLModel",
            "_view_count": null,
            "_view_module": "@jupyter-widgets/controls",
            "_view_module_version": "1.5.0",
            "_view_name": "HTMLView",
            "description": "",
            "description_tooltip": null,
            "layout": "IPY_MODEL_b94004c3e34d4014b6301ade56686977",
            "placeholder": "​",
            "style": "IPY_MODEL_e3775416cb7248759aafff47297518b6",
            "value": " 899k/899k [00:01&lt;00:00, 779kB/s]"
          }
        },
        "3cb6dad1c46643369f7c526dc7c41d81": {
          "model_module": "@jupyter-widgets/base",
          "model_name": "LayoutModel",
          "model_module_version": "1.2.0",
          "state": {
            "_model_module": "@jupyter-widgets/base",
            "_model_module_version": "1.2.0",
            "_model_name": "LayoutModel",
            "_view_count": null,
            "_view_module": "@jupyter-widgets/base",
            "_view_module_version": "1.2.0",
            "_view_name": "LayoutView",
            "align_content": null,
            "align_items": null,
            "align_self": null,
            "border": null,
            "bottom": null,
            "display": null,
            "flex": null,
            "flex_flow": null,
            "grid_area": null,
            "grid_auto_columns": null,
            "grid_auto_flow": null,
            "grid_auto_rows": null,
            "grid_column": null,
            "grid_gap": null,
            "grid_row": null,
            "grid_template_areas": null,
            "grid_template_columns": null,
            "grid_template_rows": null,
            "height": null,
            "justify_content": null,
            "justify_items": null,
            "left": null,
            "margin": null,
            "max_height": null,
            "max_width": null,
            "min_height": null,
            "min_width": null,
            "object_fit": null,
            "object_position": null,
            "order": null,
            "overflow": null,
            "overflow_x": null,
            "overflow_y": null,
            "padding": null,
            "right": null,
            "top": null,
            "visibility": null,
            "width": null
          }
        },
        "b07028286e544494a8deeed725512748": {
          "model_module": "@jupyter-widgets/base",
          "model_name": "LayoutModel",
          "model_module_version": "1.2.0",
          "state": {
            "_model_module": "@jupyter-widgets/base",
            "_model_module_version": "1.2.0",
            "_model_name": "LayoutModel",
            "_view_count": null,
            "_view_module": "@jupyter-widgets/base",
            "_view_module_version": "1.2.0",
            "_view_name": "LayoutView",
            "align_content": null,
            "align_items": null,
            "align_self": null,
            "border": null,
            "bottom": null,
            "display": null,
            "flex": null,
            "flex_flow": null,
            "grid_area": null,
            "grid_auto_columns": null,
            "grid_auto_flow": null,
            "grid_auto_rows": null,
            "grid_column": null,
            "grid_gap": null,
            "grid_row": null,
            "grid_template_areas": null,
            "grid_template_columns": null,
            "grid_template_rows": null,
            "height": null,
            "justify_content": null,
            "justify_items": null,
            "left": null,
            "margin": null,
            "max_height": null,
            "max_width": null,
            "min_height": null,
            "min_width": null,
            "object_fit": null,
            "object_position": null,
            "order": null,
            "overflow": null,
            "overflow_x": null,
            "overflow_y": null,
            "padding": null,
            "right": null,
            "top": null,
            "visibility": null,
            "width": null
          }
        },
        "9e877ed222dd4084ba41c4cbc8c97a45": {
          "model_module": "@jupyter-widgets/controls",
          "model_name": "DescriptionStyleModel",
          "model_module_version": "1.5.0",
          "state": {
            "_model_module": "@jupyter-widgets/controls",
            "_model_module_version": "1.5.0",
            "_model_name": "DescriptionStyleModel",
            "_view_count": null,
            "_view_module": "@jupyter-widgets/base",
            "_view_module_version": "1.2.0",
            "_view_name": "StyleView",
            "description_width": ""
          }
        },
        "911c443667e54a50af94f667ecd7f706": {
          "model_module": "@jupyter-widgets/base",
          "model_name": "LayoutModel",
          "model_module_version": "1.2.0",
          "state": {
            "_model_module": "@jupyter-widgets/base",
            "_model_module_version": "1.2.0",
            "_model_name": "LayoutModel",
            "_view_count": null,
            "_view_module": "@jupyter-widgets/base",
            "_view_module_version": "1.2.0",
            "_view_name": "LayoutView",
            "align_content": null,
            "align_items": null,
            "align_self": null,
            "border": null,
            "bottom": null,
            "display": null,
            "flex": null,
            "flex_flow": null,
            "grid_area": null,
            "grid_auto_columns": null,
            "grid_auto_flow": null,
            "grid_auto_rows": null,
            "grid_column": null,
            "grid_gap": null,
            "grid_row": null,
            "grid_template_areas": null,
            "grid_template_columns": null,
            "grid_template_rows": null,
            "height": null,
            "justify_content": null,
            "justify_items": null,
            "left": null,
            "margin": null,
            "max_height": null,
            "max_width": null,
            "min_height": null,
            "min_width": null,
            "object_fit": null,
            "object_position": null,
            "order": null,
            "overflow": null,
            "overflow_x": null,
            "overflow_y": null,
            "padding": null,
            "right": null,
            "top": null,
            "visibility": null,
            "width": null
          }
        },
        "8f9d944240ca4b4aac8ae36d8aa6975a": {
          "model_module": "@jupyter-widgets/controls",
          "model_name": "ProgressStyleModel",
          "model_module_version": "1.5.0",
          "state": {
            "_model_module": "@jupyter-widgets/controls",
            "_model_module_version": "1.5.0",
            "_model_name": "ProgressStyleModel",
            "_view_count": null,
            "_view_module": "@jupyter-widgets/base",
            "_view_module_version": "1.2.0",
            "_view_name": "StyleView",
            "bar_color": null,
            "description_width": ""
          }
        },
        "b94004c3e34d4014b6301ade56686977": {
          "model_module": "@jupyter-widgets/base",
          "model_name": "LayoutModel",
          "model_module_version": "1.2.0",
          "state": {
            "_model_module": "@jupyter-widgets/base",
            "_model_module_version": "1.2.0",
            "_model_name": "LayoutModel",
            "_view_count": null,
            "_view_module": "@jupyter-widgets/base",
            "_view_module_version": "1.2.0",
            "_view_name": "LayoutView",
            "align_content": null,
            "align_items": null,
            "align_self": null,
            "border": null,
            "bottom": null,
            "display": null,
            "flex": null,
            "flex_flow": null,
            "grid_area": null,
            "grid_auto_columns": null,
            "grid_auto_flow": null,
            "grid_auto_rows": null,
            "grid_column": null,
            "grid_gap": null,
            "grid_row": null,
            "grid_template_areas": null,
            "grid_template_columns": null,
            "grid_template_rows": null,
            "height": null,
            "justify_content": null,
            "justify_items": null,
            "left": null,
            "margin": null,
            "max_height": null,
            "max_width": null,
            "min_height": null,
            "min_width": null,
            "object_fit": null,
            "object_position": null,
            "order": null,
            "overflow": null,
            "overflow_x": null,
            "overflow_y": null,
            "padding": null,
            "right": null,
            "top": null,
            "visibility": null,
            "width": null
          }
        },
        "e3775416cb7248759aafff47297518b6": {
          "model_module": "@jupyter-widgets/controls",
          "model_name": "DescriptionStyleModel",
          "model_module_version": "1.5.0",
          "state": {
            "_model_module": "@jupyter-widgets/controls",
            "_model_module_version": "1.5.0",
            "_model_name": "DescriptionStyleModel",
            "_view_count": null,
            "_view_module": "@jupyter-widgets/base",
            "_view_module_version": "1.2.0",
            "_view_name": "StyleView",
            "description_width": ""
          }
        },
        "c60b0b4e0bd44503a315fe74b4b545c3": {
          "model_module": "@jupyter-widgets/controls",
          "model_name": "HBoxModel",
          "model_module_version": "1.5.0",
          "state": {
            "_dom_classes": [],
            "_model_module": "@jupyter-widgets/controls",
            "_model_module_version": "1.5.0",
            "_model_name": "HBoxModel",
            "_view_count": null,
            "_view_module": "@jupyter-widgets/controls",
            "_view_module_version": "1.5.0",
            "_view_name": "HBoxView",
            "box_style": "",
            "children": [
              "IPY_MODEL_b83a51e7154f48bf82cdba8a1277eb44",
              "IPY_MODEL_d096298bd9874c6a99fed0670eeec89c",
              "IPY_MODEL_735c0d36619e4ac7bfc1dd3ab46bb64a"
            ],
            "layout": "IPY_MODEL_1a443c35f9444ce9b25498585cc00d8c"
          }
        },
        "b83a51e7154f48bf82cdba8a1277eb44": {
          "model_module": "@jupyter-widgets/controls",
          "model_name": "HTMLModel",
          "model_module_version": "1.5.0",
          "state": {
            "_dom_classes": [],
            "_model_module": "@jupyter-widgets/controls",
            "_model_module_version": "1.5.0",
            "_model_name": "HTMLModel",
            "_view_count": null,
            "_view_module": "@jupyter-widgets/controls",
            "_view_module_version": "1.5.0",
            "_view_name": "HTMLView",
            "description": "",
            "description_tooltip": null,
            "layout": "IPY_MODEL_6d75e263e591477c87336f83ac0bc22d",
            "placeholder": "​",
            "style": "IPY_MODEL_32716c5bee6d4afd8c6a462ae219d168",
            "value": "Downloading (…)olve/main/merges.txt: 100%"
          }
        },
        "d096298bd9874c6a99fed0670eeec89c": {
          "model_module": "@jupyter-widgets/controls",
          "model_name": "FloatProgressModel",
          "model_module_version": "1.5.0",
          "state": {
            "_dom_classes": [],
            "_model_module": "@jupyter-widgets/controls",
            "_model_module_version": "1.5.0",
            "_model_name": "FloatProgressModel",
            "_view_count": null,
            "_view_module": "@jupyter-widgets/controls",
            "_view_module_version": "1.5.0",
            "_view_name": "ProgressView",
            "bar_style": "success",
            "description": "",
            "description_tooltip": null,
            "layout": "IPY_MODEL_6e88141db19f493ea43aac9383fee8b8",
            "max": 456318,
            "min": 0,
            "orientation": "horizontal",
            "style": "IPY_MODEL_dbab6b18e35743508438a78a127cdcff",
            "value": 456318
          }
        },
        "735c0d36619e4ac7bfc1dd3ab46bb64a": {
          "model_module": "@jupyter-widgets/controls",
          "model_name": "HTMLModel",
          "model_module_version": "1.5.0",
          "state": {
            "_dom_classes": [],
            "_model_module": "@jupyter-widgets/controls",
            "_model_module_version": "1.5.0",
            "_model_name": "HTMLModel",
            "_view_count": null,
            "_view_module": "@jupyter-widgets/controls",
            "_view_module_version": "1.5.0",
            "_view_name": "HTMLView",
            "description": "",
            "description_tooltip": null,
            "layout": "IPY_MODEL_94fed9dcc7ae4d43b949ff562fa8c536",
            "placeholder": "​",
            "style": "IPY_MODEL_0e529985e12b4c92b3763a099fb21404",
            "value": " 456k/456k [00:00&lt;00:00, 494kB/s]"
          }
        },
        "1a443c35f9444ce9b25498585cc00d8c": {
          "model_module": "@jupyter-widgets/base",
          "model_name": "LayoutModel",
          "model_module_version": "1.2.0",
          "state": {
            "_model_module": "@jupyter-widgets/base",
            "_model_module_version": "1.2.0",
            "_model_name": "LayoutModel",
            "_view_count": null,
            "_view_module": "@jupyter-widgets/base",
            "_view_module_version": "1.2.0",
            "_view_name": "LayoutView",
            "align_content": null,
            "align_items": null,
            "align_self": null,
            "border": null,
            "bottom": null,
            "display": null,
            "flex": null,
            "flex_flow": null,
            "grid_area": null,
            "grid_auto_columns": null,
            "grid_auto_flow": null,
            "grid_auto_rows": null,
            "grid_column": null,
            "grid_gap": null,
            "grid_row": null,
            "grid_template_areas": null,
            "grid_template_columns": null,
            "grid_template_rows": null,
            "height": null,
            "justify_content": null,
            "justify_items": null,
            "left": null,
            "margin": null,
            "max_height": null,
            "max_width": null,
            "min_height": null,
            "min_width": null,
            "object_fit": null,
            "object_position": null,
            "order": null,
            "overflow": null,
            "overflow_x": null,
            "overflow_y": null,
            "padding": null,
            "right": null,
            "top": null,
            "visibility": null,
            "width": null
          }
        },
        "6d75e263e591477c87336f83ac0bc22d": {
          "model_module": "@jupyter-widgets/base",
          "model_name": "LayoutModel",
          "model_module_version": "1.2.0",
          "state": {
            "_model_module": "@jupyter-widgets/base",
            "_model_module_version": "1.2.0",
            "_model_name": "LayoutModel",
            "_view_count": null,
            "_view_module": "@jupyter-widgets/base",
            "_view_module_version": "1.2.0",
            "_view_name": "LayoutView",
            "align_content": null,
            "align_items": null,
            "align_self": null,
            "border": null,
            "bottom": null,
            "display": null,
            "flex": null,
            "flex_flow": null,
            "grid_area": null,
            "grid_auto_columns": null,
            "grid_auto_flow": null,
            "grid_auto_rows": null,
            "grid_column": null,
            "grid_gap": null,
            "grid_row": null,
            "grid_template_areas": null,
            "grid_template_columns": null,
            "grid_template_rows": null,
            "height": null,
            "justify_content": null,
            "justify_items": null,
            "left": null,
            "margin": null,
            "max_height": null,
            "max_width": null,
            "min_height": null,
            "min_width": null,
            "object_fit": null,
            "object_position": null,
            "order": null,
            "overflow": null,
            "overflow_x": null,
            "overflow_y": null,
            "padding": null,
            "right": null,
            "top": null,
            "visibility": null,
            "width": null
          }
        },
        "32716c5bee6d4afd8c6a462ae219d168": {
          "model_module": "@jupyter-widgets/controls",
          "model_name": "DescriptionStyleModel",
          "model_module_version": "1.5.0",
          "state": {
            "_model_module": "@jupyter-widgets/controls",
            "_model_module_version": "1.5.0",
            "_model_name": "DescriptionStyleModel",
            "_view_count": null,
            "_view_module": "@jupyter-widgets/base",
            "_view_module_version": "1.2.0",
            "_view_name": "StyleView",
            "description_width": ""
          }
        },
        "6e88141db19f493ea43aac9383fee8b8": {
          "model_module": "@jupyter-widgets/base",
          "model_name": "LayoutModel",
          "model_module_version": "1.2.0",
          "state": {
            "_model_module": "@jupyter-widgets/base",
            "_model_module_version": "1.2.0",
            "_model_name": "LayoutModel",
            "_view_count": null,
            "_view_module": "@jupyter-widgets/base",
            "_view_module_version": "1.2.0",
            "_view_name": "LayoutView",
            "align_content": null,
            "align_items": null,
            "align_self": null,
            "border": null,
            "bottom": null,
            "display": null,
            "flex": null,
            "flex_flow": null,
            "grid_area": null,
            "grid_auto_columns": null,
            "grid_auto_flow": null,
            "grid_auto_rows": null,
            "grid_column": null,
            "grid_gap": null,
            "grid_row": null,
            "grid_template_areas": null,
            "grid_template_columns": null,
            "grid_template_rows": null,
            "height": null,
            "justify_content": null,
            "justify_items": null,
            "left": null,
            "margin": null,
            "max_height": null,
            "max_width": null,
            "min_height": null,
            "min_width": null,
            "object_fit": null,
            "object_position": null,
            "order": null,
            "overflow": null,
            "overflow_x": null,
            "overflow_y": null,
            "padding": null,
            "right": null,
            "top": null,
            "visibility": null,
            "width": null
          }
        },
        "dbab6b18e35743508438a78a127cdcff": {
          "model_module": "@jupyter-widgets/controls",
          "model_name": "ProgressStyleModel",
          "model_module_version": "1.5.0",
          "state": {
            "_model_module": "@jupyter-widgets/controls",
            "_model_module_version": "1.5.0",
            "_model_name": "ProgressStyleModel",
            "_view_count": null,
            "_view_module": "@jupyter-widgets/base",
            "_view_module_version": "1.2.0",
            "_view_name": "StyleView",
            "bar_color": null,
            "description_width": ""
          }
        },
        "94fed9dcc7ae4d43b949ff562fa8c536": {
          "model_module": "@jupyter-widgets/base",
          "model_name": "LayoutModel",
          "model_module_version": "1.2.0",
          "state": {
            "_model_module": "@jupyter-widgets/base",
            "_model_module_version": "1.2.0",
            "_model_name": "LayoutModel",
            "_view_count": null,
            "_view_module": "@jupyter-widgets/base",
            "_view_module_version": "1.2.0",
            "_view_name": "LayoutView",
            "align_content": null,
            "align_items": null,
            "align_self": null,
            "border": null,
            "bottom": null,
            "display": null,
            "flex": null,
            "flex_flow": null,
            "grid_area": null,
            "grid_auto_columns": null,
            "grid_auto_flow": null,
            "grid_auto_rows": null,
            "grid_column": null,
            "grid_gap": null,
            "grid_row": null,
            "grid_template_areas": null,
            "grid_template_columns": null,
            "grid_template_rows": null,
            "height": null,
            "justify_content": null,
            "justify_items": null,
            "left": null,
            "margin": null,
            "max_height": null,
            "max_width": null,
            "min_height": null,
            "min_width": null,
            "object_fit": null,
            "object_position": null,
            "order": null,
            "overflow": null,
            "overflow_x": null,
            "overflow_y": null,
            "padding": null,
            "right": null,
            "top": null,
            "visibility": null,
            "width": null
          }
        },
        "0e529985e12b4c92b3763a099fb21404": {
          "model_module": "@jupyter-widgets/controls",
          "model_name": "DescriptionStyleModel",
          "model_module_version": "1.5.0",
          "state": {
            "_model_module": "@jupyter-widgets/controls",
            "_model_module_version": "1.5.0",
            "_model_name": "DescriptionStyleModel",
            "_view_count": null,
            "_view_module": "@jupyter-widgets/base",
            "_view_module_version": "1.2.0",
            "_view_name": "StyleView",
            "description_width": ""
          }
        },
        "7e15bbe3bdd94de78834c2122f9cca1d": {
          "model_module": "@jupyter-widgets/controls",
          "model_name": "HBoxModel",
          "model_module_version": "1.5.0",
          "state": {
            "_dom_classes": [],
            "_model_module": "@jupyter-widgets/controls",
            "_model_module_version": "1.5.0",
            "_model_name": "HBoxModel",
            "_view_count": null,
            "_view_module": "@jupyter-widgets/controls",
            "_view_module_version": "1.5.0",
            "_view_name": "HBoxView",
            "box_style": "",
            "children": [
              "IPY_MODEL_9cf5e862ee1546c4b16686420d77b2ad",
              "IPY_MODEL_79d7110abe294abf8c7bed156b61ae2a",
              "IPY_MODEL_2468bb740a2549f5bafff087f6001deb"
            ],
            "layout": "IPY_MODEL_a2144b7fe1ac4b19896665d1dad78718"
          }
        },
        "9cf5e862ee1546c4b16686420d77b2ad": {
          "model_module": "@jupyter-widgets/controls",
          "model_name": "HTMLModel",
          "model_module_version": "1.5.0",
          "state": {
            "_dom_classes": [],
            "_model_module": "@jupyter-widgets/controls",
            "_model_module_version": "1.5.0",
            "_model_name": "HTMLModel",
            "_view_count": null,
            "_view_module": "@jupyter-widgets/controls",
            "_view_module_version": "1.5.0",
            "_view_name": "HTMLView",
            "description": "",
            "description_tooltip": null,
            "layout": "IPY_MODEL_ad04a88451404d3bbb7257ba5689875a",
            "placeholder": "​",
            "style": "IPY_MODEL_5ba67bb6b5794426be1d1db373a8cf36",
            "value": "Downloading (…)/main/tokenizer.json: 100%"
          }
        },
        "79d7110abe294abf8c7bed156b61ae2a": {
          "model_module": "@jupyter-widgets/controls",
          "model_name": "FloatProgressModel",
          "model_module_version": "1.5.0",
          "state": {
            "_dom_classes": [],
            "_model_module": "@jupyter-widgets/controls",
            "_model_module_version": "1.5.0",
            "_model_name": "FloatProgressModel",
            "_view_count": null,
            "_view_module": "@jupyter-widgets/controls",
            "_view_module_version": "1.5.0",
            "_view_name": "ProgressView",
            "bar_style": "success",
            "description": "",
            "description_tooltip": null,
            "layout": "IPY_MODEL_8c62c9fe348f46819e6f7b6b3be485ce",
            "max": 1355863,
            "min": 0,
            "orientation": "horizontal",
            "style": "IPY_MODEL_efb5dbc4e2f7457eaa68e910cef46793",
            "value": 1355863
          }
        },
        "2468bb740a2549f5bafff087f6001deb": {
          "model_module": "@jupyter-widgets/controls",
          "model_name": "HTMLModel",
          "model_module_version": "1.5.0",
          "state": {
            "_dom_classes": [],
            "_model_module": "@jupyter-widgets/controls",
            "_model_module_version": "1.5.0",
            "_model_name": "HTMLModel",
            "_view_count": null,
            "_view_module": "@jupyter-widgets/controls",
            "_view_module_version": "1.5.0",
            "_view_name": "HTMLView",
            "description": "",
            "description_tooltip": null,
            "layout": "IPY_MODEL_2d586150ded7403fb88661effeadcda8",
            "placeholder": "​",
            "style": "IPY_MODEL_ab5e136412774fcbb20bde3c0b2c79b3",
            "value": " 1.36M/1.36M [00:01&lt;00:00, 995kB/s]"
          }
        },
        "a2144b7fe1ac4b19896665d1dad78718": {
          "model_module": "@jupyter-widgets/base",
          "model_name": "LayoutModel",
          "model_module_version": "1.2.0",
          "state": {
            "_model_module": "@jupyter-widgets/base",
            "_model_module_version": "1.2.0",
            "_model_name": "LayoutModel",
            "_view_count": null,
            "_view_module": "@jupyter-widgets/base",
            "_view_module_version": "1.2.0",
            "_view_name": "LayoutView",
            "align_content": null,
            "align_items": null,
            "align_self": null,
            "border": null,
            "bottom": null,
            "display": null,
            "flex": null,
            "flex_flow": null,
            "grid_area": null,
            "grid_auto_columns": null,
            "grid_auto_flow": null,
            "grid_auto_rows": null,
            "grid_column": null,
            "grid_gap": null,
            "grid_row": null,
            "grid_template_areas": null,
            "grid_template_columns": null,
            "grid_template_rows": null,
            "height": null,
            "justify_content": null,
            "justify_items": null,
            "left": null,
            "margin": null,
            "max_height": null,
            "max_width": null,
            "min_height": null,
            "min_width": null,
            "object_fit": null,
            "object_position": null,
            "order": null,
            "overflow": null,
            "overflow_x": null,
            "overflow_y": null,
            "padding": null,
            "right": null,
            "top": null,
            "visibility": null,
            "width": null
          }
        },
        "ad04a88451404d3bbb7257ba5689875a": {
          "model_module": "@jupyter-widgets/base",
          "model_name": "LayoutModel",
          "model_module_version": "1.2.0",
          "state": {
            "_model_module": "@jupyter-widgets/base",
            "_model_module_version": "1.2.0",
            "_model_name": "LayoutModel",
            "_view_count": null,
            "_view_module": "@jupyter-widgets/base",
            "_view_module_version": "1.2.0",
            "_view_name": "LayoutView",
            "align_content": null,
            "align_items": null,
            "align_self": null,
            "border": null,
            "bottom": null,
            "display": null,
            "flex": null,
            "flex_flow": null,
            "grid_area": null,
            "grid_auto_columns": null,
            "grid_auto_flow": null,
            "grid_auto_rows": null,
            "grid_column": null,
            "grid_gap": null,
            "grid_row": null,
            "grid_template_areas": null,
            "grid_template_columns": null,
            "grid_template_rows": null,
            "height": null,
            "justify_content": null,
            "justify_items": null,
            "left": null,
            "margin": null,
            "max_height": null,
            "max_width": null,
            "min_height": null,
            "min_width": null,
            "object_fit": null,
            "object_position": null,
            "order": null,
            "overflow": null,
            "overflow_x": null,
            "overflow_y": null,
            "padding": null,
            "right": null,
            "top": null,
            "visibility": null,
            "width": null
          }
        },
        "5ba67bb6b5794426be1d1db373a8cf36": {
          "model_module": "@jupyter-widgets/controls",
          "model_name": "DescriptionStyleModel",
          "model_module_version": "1.5.0",
          "state": {
            "_model_module": "@jupyter-widgets/controls",
            "_model_module_version": "1.5.0",
            "_model_name": "DescriptionStyleModel",
            "_view_count": null,
            "_view_module": "@jupyter-widgets/base",
            "_view_module_version": "1.2.0",
            "_view_name": "StyleView",
            "description_width": ""
          }
        },
        "8c62c9fe348f46819e6f7b6b3be485ce": {
          "model_module": "@jupyter-widgets/base",
          "model_name": "LayoutModel",
          "model_module_version": "1.2.0",
          "state": {
            "_model_module": "@jupyter-widgets/base",
            "_model_module_version": "1.2.0",
            "_model_name": "LayoutModel",
            "_view_count": null,
            "_view_module": "@jupyter-widgets/base",
            "_view_module_version": "1.2.0",
            "_view_name": "LayoutView",
            "align_content": null,
            "align_items": null,
            "align_self": null,
            "border": null,
            "bottom": null,
            "display": null,
            "flex": null,
            "flex_flow": null,
            "grid_area": null,
            "grid_auto_columns": null,
            "grid_auto_flow": null,
            "grid_auto_rows": null,
            "grid_column": null,
            "grid_gap": null,
            "grid_row": null,
            "grid_template_areas": null,
            "grid_template_columns": null,
            "grid_template_rows": null,
            "height": null,
            "justify_content": null,
            "justify_items": null,
            "left": null,
            "margin": null,
            "max_height": null,
            "max_width": null,
            "min_height": null,
            "min_width": null,
            "object_fit": null,
            "object_position": null,
            "order": null,
            "overflow": null,
            "overflow_x": null,
            "overflow_y": null,
            "padding": null,
            "right": null,
            "top": null,
            "visibility": null,
            "width": null
          }
        },
        "efb5dbc4e2f7457eaa68e910cef46793": {
          "model_module": "@jupyter-widgets/controls",
          "model_name": "ProgressStyleModel",
          "model_module_version": "1.5.0",
          "state": {
            "_model_module": "@jupyter-widgets/controls",
            "_model_module_version": "1.5.0",
            "_model_name": "ProgressStyleModel",
            "_view_count": null,
            "_view_module": "@jupyter-widgets/base",
            "_view_module_version": "1.2.0",
            "_view_name": "StyleView",
            "bar_color": null,
            "description_width": ""
          }
        },
        "2d586150ded7403fb88661effeadcda8": {
          "model_module": "@jupyter-widgets/base",
          "model_name": "LayoutModel",
          "model_module_version": "1.2.0",
          "state": {
            "_model_module": "@jupyter-widgets/base",
            "_model_module_version": "1.2.0",
            "_model_name": "LayoutModel",
            "_view_count": null,
            "_view_module": "@jupyter-widgets/base",
            "_view_module_version": "1.2.0",
            "_view_name": "LayoutView",
            "align_content": null,
            "align_items": null,
            "align_self": null,
            "border": null,
            "bottom": null,
            "display": null,
            "flex": null,
            "flex_flow": null,
            "grid_area": null,
            "grid_auto_columns": null,
            "grid_auto_flow": null,
            "grid_auto_rows": null,
            "grid_column": null,
            "grid_gap": null,
            "grid_row": null,
            "grid_template_areas": null,
            "grid_template_columns": null,
            "grid_template_rows": null,
            "height": null,
            "justify_content": null,
            "justify_items": null,
            "left": null,
            "margin": null,
            "max_height": null,
            "max_width": null,
            "min_height": null,
            "min_width": null,
            "object_fit": null,
            "object_position": null,
            "order": null,
            "overflow": null,
            "overflow_x": null,
            "overflow_y": null,
            "padding": null,
            "right": null,
            "top": null,
            "visibility": null,
            "width": null
          }
        },
        "ab5e136412774fcbb20bde3c0b2c79b3": {
          "model_module": "@jupyter-widgets/controls",
          "model_name": "DescriptionStyleModel",
          "model_module_version": "1.5.0",
          "state": {
            "_model_module": "@jupyter-widgets/controls",
            "_model_module_version": "1.5.0",
            "_model_name": "DescriptionStyleModel",
            "_view_count": null,
            "_view_module": "@jupyter-widgets/base",
            "_view_module_version": "1.2.0",
            "_view_name": "StyleView",
            "description_width": ""
          }
        }
      }
    },
    "accelerator": "GPU"
  },
  "nbformat": 4,
  "nbformat_minor": 5
}